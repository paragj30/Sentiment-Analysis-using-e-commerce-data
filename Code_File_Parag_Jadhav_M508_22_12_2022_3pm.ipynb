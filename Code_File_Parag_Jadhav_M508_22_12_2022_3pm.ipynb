{
 "cells": [
  {
   "cell_type": "markdown",
   "metadata": {
    "id": "E91AekrEMym-"
   },
   "source": [
    "# Problem Statement"
   ]
  },
  {
   "cell_type": "markdown",
   "metadata": {
    "id": "o244s49fMwCa"
   },
   "source": [
    "One of our clients Khalimama.com is one of the World's leading E-commerce marketplaces and is headquartered in the US. The company initially started as an online bookstore. Later, it expanded its product line to include the sale of mobile phones, electronics, household appliances, clothing, and consumables.\n",
    "On their website, they provide a wide range of products from various manufacturers. However, they have suddenly become aware that their items are receiving fewer evaluations. Additionally, the majority of individuals are commenting on the product in both favorable and negative ways.\n",
    "As a result, people want to know where they fall short. Is it the product quality, logistics, cost, or the response of the customer service representative?\n",
    "However, because they operate a global business, it is impossible for them to read all of the comments for all of the products. Additionally, locals are free to comment on their own languages.\n",
    "\n",
    "They made the decision to employ a data scientist for this project so that they could better understand customer feedback. Khalimama.com sought to analyze sentiment and extract information from reviews written in several languages.\n",
    "Reviews from the dataset are available in English, German, Spanish, French, Japanese, and Chinese. The dataset's \"review id, product id, reviewer id, stars, reviewer body, review title, the language, and product category (for example, \"books\" or \"appliances\")\" are all included in each row.\n",
    "\n",
    "There is a total of 200,000 reviews in the dataset. A product may only receive a maximum of 20 reviews, and a reviewer may only submit a maximum of 20 reviews per reviewer. Every review is cut off after 2,000 characters and must have at least 20 characters.\n",
    "\n",
    "Please note that reviews are written in a language that may not be the same as their target audience (e.g. reviews from amazon.de are primarily written in German, but could also be written in English, etc.). We used a language detection algorithm to ascertain the language of the review text for this reason, and we eliminated reviews that weren't written in the anticipated language.\n",
    "\n",
    "Considering that this is an unsupervised machine learning assignment. Here, we must make predictions about each record's class based on its sentiment. How \"Positive/Negative/Neutral\" the record is. Our model should eventually be able to predict the classes for each record (0,1,2).\n",
    "\n",
    "Here, We are taking a sample of 1000 records for our model building and training."
   ]
  },
  {
   "cell_type": "markdown",
   "metadata": {
    "id": "HhS166JbM4qK"
   },
   "source": [
    "Installing Necessary Libraries "
   ]
  },
  {
   "cell_type": "markdown",
   "metadata": {
    "id": "8SUb_bZHyen2"
   },
   "source": [
    "# Import Libraries "
   ]
  },
  {
   "cell_type": "code",
   "execution_count": 2,
   "metadata": {
    "colab": {
     "base_uri": "https://localhost:8080/"
    },
    "id": "3ygC5O2ZCfxT",
    "outputId": "c4448189-6273-45a7-f842-dc2a1cd4c4c8"
   },
   "outputs": [
    {
     "name": "stderr",
     "output_type": "stream",
     "text": [
      "[nltk_data] Downloading package punkt to /root/nltk_data...\n",
      "[nltk_data]   Unzipping tokenizers/punkt.zip.\n",
      "[nltk_data] Downloading package stopwords to /root/nltk_data...\n",
      "[nltk_data]   Unzipping corpora/stopwords.zip.\n",
      "[nltk_data] Downloading package wordnet to /root/nltk_data...\n",
      "[nltk_data] Downloading package omw-1.4 to /root/nltk_data...\n"
     ]
    },
    {
     "data": {
      "text/plain": [
       "True"
      ]
     },
     "execution_count": 2,
     "metadata": {},
     "output_type": "execute_result"
    }
   ],
   "source": [
    "#Inbuilt Libraries\n",
    "import os\n",
    "\n",
    "#Third Party\n",
    "import pandas as pd\n",
    "import numpy as np\n",
    "\n",
    "#Visualization \n",
    "import matplotlib.pyplot as plt\n",
    "import seaborn as sns\n",
    "%matplotlib inline\n",
    "\n",
    "\n",
    "#EDA\n",
    "from langdetect import detect\n",
    "from googletrans import Translator\n",
    "from collections import Counter\n",
    "from nltk.util import ngrams\n",
    "from wordcloud import WordCloud\n",
    "import yake\n",
    "from rake_nltk import Rake\n",
    "\n",
    "#Preprocessing \n",
    "from nltk.tokenize import word_tokenize\n",
    "import contractions\n",
    "from unidecode import unidecode\n",
    "from string import punctuation\n",
    "from nltk.corpus import stopwords\n",
    "from nltk.stem import WordNetLemmatizer\n",
    "\n",
    "#Feature Engineering\n",
    "from sklearn.feature_extraction.text import CountVectorizer, TfidfVectorizer\n",
    "from gensim.models import Word2Vec\n",
    "from sklearn.decomposition import PCA\n",
    "\n",
    "#Unsupervised\n",
    "from sklearn.cluster import KMeans\n",
    "from sklearn.metrics import silhouette_score\n",
    "from yellowbrick.cluster import SilhouetteVisualizer\n",
    "\n",
    "import plotly.graph_objects as go\n",
    "\n",
    "\n",
    "#nltk\n",
    "import nltk\n",
    "nltk.download('punkt')\n",
    "nltk.download('stopwords')\n",
    "nltk.download('wordnet')\n",
    "nltk.download('omw-1.4')\n"
   ]
  },
  {
   "cell_type": "markdown",
   "metadata": {
    "id": "a3oymCCOyi81"
   },
   "source": [
    "Here, I've imported 3 types of Libraries\n",
    "\n",
    "a) Inbuilt Library\n",
    "\n",
    "\n",
    "b) Third-Party Library\n",
    "\n",
    "\n",
    "c) Skitlearn, nltk Library"
   ]
  },
  {
   "cell_type": "markdown",
   "metadata": {
    "id": "U8Hualw9ymDj"
   },
   "source": [
    "# Load Dataset"
   ]
  },
  {
   "cell_type": "code",
   "execution_count": 3,
   "metadata": {
    "colab": {
     "base_uri": "https://localhost:8080/",
     "height": 298
    },
    "id": "Rivmv0TSC5yW",
    "outputId": "a24ec514-3c17-4fbb-9a3c-fed03146401e"
   },
   "outputs": [
    {
     "data": {
      "text/html": [
       "\n",
       "  <div id=\"df-8e14b2e9-6d11-43d0-909b-e0d0aba5e2fc\">\n",
       "    <div class=\"colab-df-container\">\n",
       "      <div>\n",
       "<style scoped>\n",
       "    .dataframe tbody tr th:only-of-type {\n",
       "        vertical-align: middle;\n",
       "    }\n",
       "\n",
       "    .dataframe tbody tr th {\n",
       "        vertical-align: top;\n",
       "    }\n",
       "\n",
       "    .dataframe thead th {\n",
       "        text-align: right;\n",
       "    }\n",
       "</style>\n",
       "<table border=\"1\" class=\"dataframe\">\n",
       "  <thead>\n",
       "    <tr style=\"text-align: right;\">\n",
       "      <th></th>\n",
       "      <th>review_id</th>\n",
       "      <th>product_id</th>\n",
       "      <th>reviewer_id</th>\n",
       "      <th>stars</th>\n",
       "      <th>review_body</th>\n",
       "      <th>review_title</th>\n",
       "      <th>language</th>\n",
       "      <th>product_category</th>\n",
       "    </tr>\n",
       "  </thead>\n",
       "  <tbody>\n",
       "    <tr>\n",
       "      <th>0</th>\n",
       "      <td>es_0491108</td>\n",
       "      <td>product_es_0296024</td>\n",
       "      <td>reviewer_es_0999081</td>\n",
       "      <td>1</td>\n",
       "      <td>Nada bueno se me fue ka pantalla en menos de 8...</td>\n",
       "      <td>television Nevir</td>\n",
       "      <td>es</td>\n",
       "      <td>electronics</td>\n",
       "    </tr>\n",
       "    <tr>\n",
       "      <th>1</th>\n",
       "      <td>es_0869872</td>\n",
       "      <td>product_es_0922286</td>\n",
       "      <td>reviewer_es_0216771</td>\n",
       "      <td>1</td>\n",
       "      <td>Horrible, nos tuvimos que comprar otro porque ...</td>\n",
       "      <td>Dinero tirado a la basura con esta compra</td>\n",
       "      <td>es</td>\n",
       "      <td>electronics</td>\n",
       "    </tr>\n",
       "  </tbody>\n",
       "</table>\n",
       "</div>\n",
       "      <button class=\"colab-df-convert\" onclick=\"convertToInteractive('df-8e14b2e9-6d11-43d0-909b-e0d0aba5e2fc')\"\n",
       "              title=\"Convert this dataframe to an interactive table.\"\n",
       "              style=\"display:none;\">\n",
       "        \n",
       "  <svg xmlns=\"http://www.w3.org/2000/svg\" height=\"24px\"viewBox=\"0 0 24 24\"\n",
       "       width=\"24px\">\n",
       "    <path d=\"M0 0h24v24H0V0z\" fill=\"none\"/>\n",
       "    <path d=\"M18.56 5.44l.94 2.06.94-2.06 2.06-.94-2.06-.94-.94-2.06-.94 2.06-2.06.94zm-11 1L8.5 8.5l.94-2.06 2.06-.94-2.06-.94L8.5 2.5l-.94 2.06-2.06.94zm10 10l.94 2.06.94-2.06 2.06-.94-2.06-.94-.94-2.06-.94 2.06-2.06.94z\"/><path d=\"M17.41 7.96l-1.37-1.37c-.4-.4-.92-.59-1.43-.59-.52 0-1.04.2-1.43.59L10.3 9.45l-7.72 7.72c-.78.78-.78 2.05 0 2.83L4 21.41c.39.39.9.59 1.41.59.51 0 1.02-.2 1.41-.59l7.78-7.78 2.81-2.81c.8-.78.8-2.07 0-2.86zM5.41 20L4 18.59l7.72-7.72 1.47 1.35L5.41 20z\"/>\n",
       "  </svg>\n",
       "      </button>\n",
       "      \n",
       "  <style>\n",
       "    .colab-df-container {\n",
       "      display:flex;\n",
       "      flex-wrap:wrap;\n",
       "      gap: 12px;\n",
       "    }\n",
       "\n",
       "    .colab-df-convert {\n",
       "      background-color: #E8F0FE;\n",
       "      border: none;\n",
       "      border-radius: 50%;\n",
       "      cursor: pointer;\n",
       "      display: none;\n",
       "      fill: #1967D2;\n",
       "      height: 32px;\n",
       "      padding: 0 0 0 0;\n",
       "      width: 32px;\n",
       "    }\n",
       "\n",
       "    .colab-df-convert:hover {\n",
       "      background-color: #E2EBFA;\n",
       "      box-shadow: 0px 1px 2px rgba(60, 64, 67, 0.3), 0px 1px 3px 1px rgba(60, 64, 67, 0.15);\n",
       "      fill: #174EA6;\n",
       "    }\n",
       "\n",
       "    [theme=dark] .colab-df-convert {\n",
       "      background-color: #3B4455;\n",
       "      fill: #D2E3FC;\n",
       "    }\n",
       "\n",
       "    [theme=dark] .colab-df-convert:hover {\n",
       "      background-color: #434B5C;\n",
       "      box-shadow: 0px 1px 3px 1px rgba(0, 0, 0, 0.15);\n",
       "      filter: drop-shadow(0px 1px 2px rgba(0, 0, 0, 0.3));\n",
       "      fill: #FFFFFF;\n",
       "    }\n",
       "  </style>\n",
       "\n",
       "      <script>\n",
       "        const buttonEl =\n",
       "          document.querySelector('#df-8e14b2e9-6d11-43d0-909b-e0d0aba5e2fc button.colab-df-convert');\n",
       "        buttonEl.style.display =\n",
       "          google.colab.kernel.accessAllowed ? 'block' : 'none';\n",
       "\n",
       "        async function convertToInteractive(key) {\n",
       "          const element = document.querySelector('#df-8e14b2e9-6d11-43d0-909b-e0d0aba5e2fc');\n",
       "          const dataTable =\n",
       "            await google.colab.kernel.invokeFunction('convertToInteractive',\n",
       "                                                     [key], {});\n",
       "          if (!dataTable) return;\n",
       "\n",
       "          const docLinkHtml = 'Like what you see? Visit the ' +\n",
       "            '<a target=\"_blank\" href=https://colab.research.google.com/notebooks/data_table.ipynb>data table notebook</a>'\n",
       "            + ' to learn more about interactive tables.';\n",
       "          element.innerHTML = '';\n",
       "          dataTable['output_type'] = 'display_data';\n",
       "          await google.colab.output.renderOutput(dataTable, element);\n",
       "          const docLink = document.createElement('div');\n",
       "          docLink.innerHTML = docLinkHtml;\n",
       "          element.appendChild(docLink);\n",
       "        }\n",
       "      </script>\n",
       "    </div>\n",
       "  </div>\n",
       "  "
      ],
      "text/plain": [
       "    review_id          product_id          reviewer_id  stars  \\\n",
       "0  es_0491108  product_es_0296024  reviewer_es_0999081      1   \n",
       "1  es_0869872  product_es_0922286  reviewer_es_0216771      1   \n",
       "\n",
       "                                         review_body  \\\n",
       "0  Nada bueno se me fue ka pantalla en menos de 8...   \n",
       "1  Horrible, nos tuvimos que comprar otro porque ...   \n",
       "\n",
       "                                review_title language product_category  \n",
       "0                           television Nevir       es      electronics  \n",
       "1  Dinero tirado a la basura con esta compra       es      electronics  "
      ]
     },
     "execution_count": 3,
     "metadata": {},
     "output_type": "execute_result"
    }
   ],
   "source": [
    "df = pd.read_csv('NLP_dataset_es_train.csv')\n",
    "df.head(2)"
   ]
  },
  {
   "cell_type": "markdown",
   "metadata": {
    "id": "_M3IrWbmyqL7"
   },
   "source": [
    "Our team of data analysts and Domain Expertise developed the dataset in CSV format based on client inputs. We will also use the same dataset to train our machine learning (ML) method. Open the dataset folder and load the csv-formatted dataset files."
   ]
  },
  {
   "cell_type": "markdown",
   "metadata": {
    "id": "UR_aA92Ty0dB"
   },
   "source": [
    "# Exploratory Data Analysis(EDA)"
   ]
  },
  {
   "cell_type": "code",
   "execution_count": 4,
   "metadata": {
    "colab": {
     "base_uri": "https://localhost:8080/",
     "height": 35
    },
    "id": "nqm344qcC50Y",
    "outputId": "ac75cd95-3f18-46e8-c9bf-8697051f2f5f"
   },
   "outputs": [
    {
     "data": {
      "application/vnd.google.colaboratory.intrinsic+json": {
       "type": "string"
      },
      "text/plain": [
       "'Nada bueno se me fue ka pantalla en menos de 8 meses y no he recibido respuesta del fabricante'"
      ]
     },
     "execution_count": 4,
     "metadata": {},
     "output_type": "execute_result"
    }
   ],
   "source": [
    "df['review_body'][0]"
   ]
  },
  {
   "cell_type": "markdown",
   "metadata": {
    "id": "trLv-KDJR-nV"
   },
   "source": [
    "I checked the first record review. And it is in Spanish language. So, likewise,this dataset is Multilingual dataset."
   ]
  },
  {
   "cell_type": "code",
   "execution_count": 5,
   "metadata": {
    "colab": {
     "base_uri": "https://localhost:8080/"
    },
    "id": "ErzxcNheC52D",
    "outputId": "2efddbb9-f200-4fe3-e847-6fde8e1e466b"
   },
   "outputs": [
    {
     "name": "stdout",
     "output_type": "stream",
     "text": [
      "Shape of df: (200000, 8)\n"
     ]
    }
   ],
   "source": [
    "print('Shape of df:', df.shape)"
   ]
  },
  {
   "cell_type": "markdown",
   "metadata": {
    "id": "vQzDmGKGSslz"
   },
   "source": [
    "As dataset shape is 2million. And it is hard to process such huge data. Hence I will take 1000 samples out of it."
   ]
  },
  {
   "cell_type": "code",
   "execution_count": 6,
   "metadata": {
    "colab": {
     "base_uri": "https://localhost:8080/",
     "height": 298
    },
    "id": "b54Y6UCfC533",
    "outputId": "f54ca831-102b-4826-c10d-9043cd64b360"
   },
   "outputs": [
    {
     "data": {
      "text/html": [
       "\n",
       "  <div id=\"df-ad31c2f0-2861-4c5f-ba5d-230c416ce986\">\n",
       "    <div class=\"colab-df-container\">\n",
       "      <div>\n",
       "<style scoped>\n",
       "    .dataframe tbody tr th:only-of-type {\n",
       "        vertical-align: middle;\n",
       "    }\n",
       "\n",
       "    .dataframe tbody tr th {\n",
       "        vertical-align: top;\n",
       "    }\n",
       "\n",
       "    .dataframe thead th {\n",
       "        text-align: right;\n",
       "    }\n",
       "</style>\n",
       "<table border=\"1\" class=\"dataframe\">\n",
       "  <thead>\n",
       "    <tr style=\"text-align: right;\">\n",
       "      <th></th>\n",
       "      <th>review_id</th>\n",
       "      <th>product_id</th>\n",
       "      <th>reviewer_id</th>\n",
       "      <th>stars</th>\n",
       "      <th>review_body</th>\n",
       "      <th>review_title</th>\n",
       "      <th>language</th>\n",
       "      <th>product_category</th>\n",
       "    </tr>\n",
       "  </thead>\n",
       "  <tbody>\n",
       "    <tr>\n",
       "      <th>0</th>\n",
       "      <td>es_0420765</td>\n",
       "      <td>product_es_0349531</td>\n",
       "      <td>reviewer_es_0551173</td>\n",
       "      <td>5</td>\n",
       "      <td>Cumple con todos los requisitos para pasear</td>\n",
       "      <td>La marca es estupenda para pies delicados</td>\n",
       "      <td>es</td>\n",
       "      <td>shoes</td>\n",
       "    </tr>\n",
       "    <tr>\n",
       "      <th>1</th>\n",
       "      <td>es_0680753</td>\n",
       "      <td>product_es_0528489</td>\n",
       "      <td>reviewer_es_0828358</td>\n",
       "      <td>2</td>\n",
       "      <td>No veo que sea muy fiable, no da dos medidas s...</td>\n",
       "      <td>No me gusto</td>\n",
       "      <td>es</td>\n",
       "      <td>drugstore</td>\n",
       "    </tr>\n",
       "  </tbody>\n",
       "</table>\n",
       "</div>\n",
       "      <button class=\"colab-df-convert\" onclick=\"convertToInteractive('df-ad31c2f0-2861-4c5f-ba5d-230c416ce986')\"\n",
       "              title=\"Convert this dataframe to an interactive table.\"\n",
       "              style=\"display:none;\">\n",
       "        \n",
       "  <svg xmlns=\"http://www.w3.org/2000/svg\" height=\"24px\"viewBox=\"0 0 24 24\"\n",
       "       width=\"24px\">\n",
       "    <path d=\"M0 0h24v24H0V0z\" fill=\"none\"/>\n",
       "    <path d=\"M18.56 5.44l.94 2.06.94-2.06 2.06-.94-2.06-.94-.94-2.06-.94 2.06-2.06.94zm-11 1L8.5 8.5l.94-2.06 2.06-.94-2.06-.94L8.5 2.5l-.94 2.06-2.06.94zm10 10l.94 2.06.94-2.06 2.06-.94-2.06-.94-.94-2.06-.94 2.06-2.06.94z\"/><path d=\"M17.41 7.96l-1.37-1.37c-.4-.4-.92-.59-1.43-.59-.52 0-1.04.2-1.43.59L10.3 9.45l-7.72 7.72c-.78.78-.78 2.05 0 2.83L4 21.41c.39.39.9.59 1.41.59.51 0 1.02-.2 1.41-.59l7.78-7.78 2.81-2.81c.8-.78.8-2.07 0-2.86zM5.41 20L4 18.59l7.72-7.72 1.47 1.35L5.41 20z\"/>\n",
       "  </svg>\n",
       "      </button>\n",
       "      \n",
       "  <style>\n",
       "    .colab-df-container {\n",
       "      display:flex;\n",
       "      flex-wrap:wrap;\n",
       "      gap: 12px;\n",
       "    }\n",
       "\n",
       "    .colab-df-convert {\n",
       "      background-color: #E8F0FE;\n",
       "      border: none;\n",
       "      border-radius: 50%;\n",
       "      cursor: pointer;\n",
       "      display: none;\n",
       "      fill: #1967D2;\n",
       "      height: 32px;\n",
       "      padding: 0 0 0 0;\n",
       "      width: 32px;\n",
       "    }\n",
       "\n",
       "    .colab-df-convert:hover {\n",
       "      background-color: #E2EBFA;\n",
       "      box-shadow: 0px 1px 2px rgba(60, 64, 67, 0.3), 0px 1px 3px 1px rgba(60, 64, 67, 0.15);\n",
       "      fill: #174EA6;\n",
       "    }\n",
       "\n",
       "    [theme=dark] .colab-df-convert {\n",
       "      background-color: #3B4455;\n",
       "      fill: #D2E3FC;\n",
       "    }\n",
       "\n",
       "    [theme=dark] .colab-df-convert:hover {\n",
       "      background-color: #434B5C;\n",
       "      box-shadow: 0px 1px 3px 1px rgba(0, 0, 0, 0.15);\n",
       "      filter: drop-shadow(0px 1px 2px rgba(0, 0, 0, 0.3));\n",
       "      fill: #FFFFFF;\n",
       "    }\n",
       "  </style>\n",
       "\n",
       "      <script>\n",
       "        const buttonEl =\n",
       "          document.querySelector('#df-ad31c2f0-2861-4c5f-ba5d-230c416ce986 button.colab-df-convert');\n",
       "        buttonEl.style.display =\n",
       "          google.colab.kernel.accessAllowed ? 'block' : 'none';\n",
       "\n",
       "        async function convertToInteractive(key) {\n",
       "          const element = document.querySelector('#df-ad31c2f0-2861-4c5f-ba5d-230c416ce986');\n",
       "          const dataTable =\n",
       "            await google.colab.kernel.invokeFunction('convertToInteractive',\n",
       "                                                     [key], {});\n",
       "          if (!dataTable) return;\n",
       "\n",
       "          const docLinkHtml = 'Like what you see? Visit the ' +\n",
       "            '<a target=\"_blank\" href=https://colab.research.google.com/notebooks/data_table.ipynb>data table notebook</a>'\n",
       "            + ' to learn more about interactive tables.';\n",
       "          element.innerHTML = '';\n",
       "          dataTable['output_type'] = 'display_data';\n",
       "          await google.colab.output.renderOutput(dataTable, element);\n",
       "          const docLink = document.createElement('div');\n",
       "          docLink.innerHTML = docLinkHtml;\n",
       "          element.appendChild(docLink);\n",
       "        }\n",
       "      </script>\n",
       "    </div>\n",
       "  </div>\n",
       "  "
      ],
      "text/plain": [
       "    review_id          product_id          reviewer_id  stars  \\\n",
       "0  es_0420765  product_es_0349531  reviewer_es_0551173      5   \n",
       "1  es_0680753  product_es_0528489  reviewer_es_0828358      2   \n",
       "\n",
       "                                         review_body  \\\n",
       "0        Cumple con todos los requisitos para pasear   \n",
       "1  No veo que sea muy fiable, no da dos medidas s...   \n",
       "\n",
       "                                review_title language product_category  \n",
       "0  La marca es estupenda para pies delicados       es            shoes  \n",
       "1                                No me gusto       es        drugstore  "
      ]
     },
     "execution_count": 6,
     "metadata": {},
     "output_type": "execute_result"
    }
   ],
   "source": [
    "df = df.sample(1000).reset_index(drop = True)\n",
    "df.head(2)"
   ]
  },
  {
   "cell_type": "code",
   "execution_count": 7,
   "metadata": {
    "colab": {
     "base_uri": "https://localhost:8080/"
    },
    "id": "tF4Gt4efES3M",
    "outputId": "d46a8276-67f9-450c-b311-7acb249e6ae2"
   },
   "outputs": [
    {
     "name": "stdout",
     "output_type": "stream",
     "text": [
      "Shape of df: (1000, 8)\n"
     ]
    }
   ],
   "source": [
    "print('Shape of df:', df.shape)"
   ]
  },
  {
   "cell_type": "code",
   "execution_count": 8,
   "metadata": {
    "colab": {
     "base_uri": "https://localhost:8080/",
     "height": 112
    },
    "id": "NigRN3rkru3l",
    "outputId": "42f780eb-5d5a-4a1a-fd62-0ffdc6662b45"
   },
   "outputs": [
    {
     "data": {
      "text/html": [
       "\n",
       "  <div id=\"df-1e8ee993-8cd6-479a-8b8b-02d7c52f0d94\">\n",
       "    <div class=\"colab-df-container\">\n",
       "      <div>\n",
       "<style scoped>\n",
       "    .dataframe tbody tr th:only-of-type {\n",
       "        vertical-align: middle;\n",
       "    }\n",
       "\n",
       "    .dataframe tbody tr th {\n",
       "        vertical-align: top;\n",
       "    }\n",
       "\n",
       "    .dataframe thead th {\n",
       "        text-align: right;\n",
       "    }\n",
       "</style>\n",
       "<table border=\"1\" class=\"dataframe\">\n",
       "  <thead>\n",
       "    <tr style=\"text-align: right;\">\n",
       "      <th></th>\n",
       "      <th>review_body</th>\n",
       "    </tr>\n",
       "  </thead>\n",
       "  <tbody>\n",
       "    <tr>\n",
       "      <th>0</th>\n",
       "      <td>Cumple con todos los requisitos para pasear</td>\n",
       "    </tr>\n",
       "    <tr>\n",
       "      <th>1</th>\n",
       "      <td>No veo que sea muy fiable, no da dos medidas s...</td>\n",
       "    </tr>\n",
       "  </tbody>\n",
       "</table>\n",
       "</div>\n",
       "      <button class=\"colab-df-convert\" onclick=\"convertToInteractive('df-1e8ee993-8cd6-479a-8b8b-02d7c52f0d94')\"\n",
       "              title=\"Convert this dataframe to an interactive table.\"\n",
       "              style=\"display:none;\">\n",
       "        \n",
       "  <svg xmlns=\"http://www.w3.org/2000/svg\" height=\"24px\"viewBox=\"0 0 24 24\"\n",
       "       width=\"24px\">\n",
       "    <path d=\"M0 0h24v24H0V0z\" fill=\"none\"/>\n",
       "    <path d=\"M18.56 5.44l.94 2.06.94-2.06 2.06-.94-2.06-.94-.94-2.06-.94 2.06-2.06.94zm-11 1L8.5 8.5l.94-2.06 2.06-.94-2.06-.94L8.5 2.5l-.94 2.06-2.06.94zm10 10l.94 2.06.94-2.06 2.06-.94-2.06-.94-.94-2.06-.94 2.06-2.06.94z\"/><path d=\"M17.41 7.96l-1.37-1.37c-.4-.4-.92-.59-1.43-.59-.52 0-1.04.2-1.43.59L10.3 9.45l-7.72 7.72c-.78.78-.78 2.05 0 2.83L4 21.41c.39.39.9.59 1.41.59.51 0 1.02-.2 1.41-.59l7.78-7.78 2.81-2.81c.8-.78.8-2.07 0-2.86zM5.41 20L4 18.59l7.72-7.72 1.47 1.35L5.41 20z\"/>\n",
       "  </svg>\n",
       "      </button>\n",
       "      \n",
       "  <style>\n",
       "    .colab-df-container {\n",
       "      display:flex;\n",
       "      flex-wrap:wrap;\n",
       "      gap: 12px;\n",
       "    }\n",
       "\n",
       "    .colab-df-convert {\n",
       "      background-color: #E8F0FE;\n",
       "      border: none;\n",
       "      border-radius: 50%;\n",
       "      cursor: pointer;\n",
       "      display: none;\n",
       "      fill: #1967D2;\n",
       "      height: 32px;\n",
       "      padding: 0 0 0 0;\n",
       "      width: 32px;\n",
       "    }\n",
       "\n",
       "    .colab-df-convert:hover {\n",
       "      background-color: #E2EBFA;\n",
       "      box-shadow: 0px 1px 2px rgba(60, 64, 67, 0.3), 0px 1px 3px 1px rgba(60, 64, 67, 0.15);\n",
       "      fill: #174EA6;\n",
       "    }\n",
       "\n",
       "    [theme=dark] .colab-df-convert {\n",
       "      background-color: #3B4455;\n",
       "      fill: #D2E3FC;\n",
       "    }\n",
       "\n",
       "    [theme=dark] .colab-df-convert:hover {\n",
       "      background-color: #434B5C;\n",
       "      box-shadow: 0px 1px 3px 1px rgba(0, 0, 0, 0.15);\n",
       "      filter: drop-shadow(0px 1px 2px rgba(0, 0, 0, 0.3));\n",
       "      fill: #FFFFFF;\n",
       "    }\n",
       "  </style>\n",
       "\n",
       "      <script>\n",
       "        const buttonEl =\n",
       "          document.querySelector('#df-1e8ee993-8cd6-479a-8b8b-02d7c52f0d94 button.colab-df-convert');\n",
       "        buttonEl.style.display =\n",
       "          google.colab.kernel.accessAllowed ? 'block' : 'none';\n",
       "\n",
       "        async function convertToInteractive(key) {\n",
       "          const element = document.querySelector('#df-1e8ee993-8cd6-479a-8b8b-02d7c52f0d94');\n",
       "          const dataTable =\n",
       "            await google.colab.kernel.invokeFunction('convertToInteractive',\n",
       "                                                     [key], {});\n",
       "          if (!dataTable) return;\n",
       "\n",
       "          const docLinkHtml = 'Like what you see? Visit the ' +\n",
       "            '<a target=\"_blank\" href=https://colab.research.google.com/notebooks/data_table.ipynb>data table notebook</a>'\n",
       "            + ' to learn more about interactive tables.';\n",
       "          element.innerHTML = '';\n",
       "          dataTable['output_type'] = 'display_data';\n",
       "          await google.colab.output.renderOutput(dataTable, element);\n",
       "          const docLink = document.createElement('div');\n",
       "          docLink.innerHTML = docLinkHtml;\n",
       "          element.appendChild(docLink);\n",
       "        }\n",
       "      </script>\n",
       "    </div>\n",
       "  </div>\n",
       "  "
      ],
      "text/plain": [
       "                                         review_body\n",
       "0        Cumple con todos los requisitos para pasear\n",
       "1  No veo que sea muy fiable, no da dos medidas s..."
      ]
     },
     "execution_count": 8,
     "metadata": {},
     "output_type": "execute_result"
    }
   ],
   "source": [
    "df.drop(labels= ['review_id','product_id','reviewer_id','stars','review_title','language','product_category'], axis = 1, inplace = True)\n",
    "df.head(2)"
   ]
  },
  {
   "cell_type": "markdown",
   "metadata": {
    "id": "1yqCwHrXS8rY"
   },
   "source": [
    "I have eliminated all unnecessary attributes in this case. As I'm concentrating on actual product reviews. and group them according to how they feel."
   ]
  },
  {
   "cell_type": "markdown",
   "metadata": {
    "id": "_O1yVYwqzHb4"
   },
   "source": [
    "### Language Detection"
   ]
  },
  {
   "cell_type": "code",
   "execution_count": 9,
   "metadata": {
    "id": "roTvJrLKETFQ"
   },
   "outputs": [],
   "source": [
    "def lang_detect(data):\n",
    "    detected_lang = detect(data)\n",
    "    return detected_lang"
   ]
  },
  {
   "cell_type": "code",
   "execution_count": 10,
   "metadata": {
    "colab": {
     "base_uri": "https://localhost:8080/",
     "height": 35
    },
    "id": "F4iumj2sETHb",
    "outputId": "a7445ac1-1ba5-4db7-d12b-74a5529d45d4"
   },
   "outputs": [
    {
     "data": {
      "application/vnd.google.colaboratory.intrinsic+json": {
       "type": "string"
      },
      "text/plain": [
       "'Cumple con todos los requisitos para pasear'"
      ]
     },
     "execution_count": 10,
     "metadata": {},
     "output_type": "execute_result"
    }
   ],
   "source": [
    "df.review_body[0]"
   ]
  },
  {
   "cell_type": "markdown",
   "metadata": {
    "id": "iT2_nxIiPwaP"
   },
   "source": [
    "Here, We can determine the language type for every entry using the \"langdetect\" package. About 55 different languages are supported by the \"langdetect\" package."
   ]
  },
  {
   "cell_type": "code",
   "execution_count": 11,
   "metadata": {
    "colab": {
     "base_uri": "https://localhost:8080/",
     "height": 35
    },
    "id": "QM2wGwayETJm",
    "outputId": "c2a28a38-2455-4c91-8224-5459621ba238"
   },
   "outputs": [
    {
     "data": {
      "application/vnd.google.colaboratory.intrinsic+json": {
       "type": "string"
      },
      "text/plain": [
       "'es'"
      ]
     },
     "execution_count": 11,
     "metadata": {},
     "output_type": "execute_result"
    }
   ],
   "source": [
    "lang_detect(df['review_body'][0])"
   ]
  },
  {
   "cell_type": "code",
   "execution_count": 12,
   "metadata": {
    "colab": {
     "base_uri": "https://localhost:8080/",
     "height": 112
    },
    "id": "GCYGt_ebETLA",
    "outputId": "0c8163c9-e7da-499a-a180-1467fb990d8a"
   },
   "outputs": [
    {
     "data": {
      "text/html": [
       "\n",
       "  <div id=\"df-f0364265-ac7a-4c35-b65b-a05d8c967dca\">\n",
       "    <div class=\"colab-df-container\">\n",
       "      <div>\n",
       "<style scoped>\n",
       "    .dataframe tbody tr th:only-of-type {\n",
       "        vertical-align: middle;\n",
       "    }\n",
       "\n",
       "    .dataframe tbody tr th {\n",
       "        vertical-align: top;\n",
       "    }\n",
       "\n",
       "    .dataframe thead th {\n",
       "        text-align: right;\n",
       "    }\n",
       "</style>\n",
       "<table border=\"1\" class=\"dataframe\">\n",
       "  <thead>\n",
       "    <tr style=\"text-align: right;\">\n",
       "      <th></th>\n",
       "      <th>review_body</th>\n",
       "      <th>language</th>\n",
       "    </tr>\n",
       "  </thead>\n",
       "  <tbody>\n",
       "    <tr>\n",
       "      <th>0</th>\n",
       "      <td>Cumple con todos los requisitos para pasear</td>\n",
       "      <td>es</td>\n",
       "    </tr>\n",
       "    <tr>\n",
       "      <th>1</th>\n",
       "      <td>No veo que sea muy fiable, no da dos medidas s...</td>\n",
       "      <td>es</td>\n",
       "    </tr>\n",
       "  </tbody>\n",
       "</table>\n",
       "</div>\n",
       "      <button class=\"colab-df-convert\" onclick=\"convertToInteractive('df-f0364265-ac7a-4c35-b65b-a05d8c967dca')\"\n",
       "              title=\"Convert this dataframe to an interactive table.\"\n",
       "              style=\"display:none;\">\n",
       "        \n",
       "  <svg xmlns=\"http://www.w3.org/2000/svg\" height=\"24px\"viewBox=\"0 0 24 24\"\n",
       "       width=\"24px\">\n",
       "    <path d=\"M0 0h24v24H0V0z\" fill=\"none\"/>\n",
       "    <path d=\"M18.56 5.44l.94 2.06.94-2.06 2.06-.94-2.06-.94-.94-2.06-.94 2.06-2.06.94zm-11 1L8.5 8.5l.94-2.06 2.06-.94-2.06-.94L8.5 2.5l-.94 2.06-2.06.94zm10 10l.94 2.06.94-2.06 2.06-.94-2.06-.94-.94-2.06-.94 2.06-2.06.94z\"/><path d=\"M17.41 7.96l-1.37-1.37c-.4-.4-.92-.59-1.43-.59-.52 0-1.04.2-1.43.59L10.3 9.45l-7.72 7.72c-.78.78-.78 2.05 0 2.83L4 21.41c.39.39.9.59 1.41.59.51 0 1.02-.2 1.41-.59l7.78-7.78 2.81-2.81c.8-.78.8-2.07 0-2.86zM5.41 20L4 18.59l7.72-7.72 1.47 1.35L5.41 20z\"/>\n",
       "  </svg>\n",
       "      </button>\n",
       "      \n",
       "  <style>\n",
       "    .colab-df-container {\n",
       "      display:flex;\n",
       "      flex-wrap:wrap;\n",
       "      gap: 12px;\n",
       "    }\n",
       "\n",
       "    .colab-df-convert {\n",
       "      background-color: #E8F0FE;\n",
       "      border: none;\n",
       "      border-radius: 50%;\n",
       "      cursor: pointer;\n",
       "      display: none;\n",
       "      fill: #1967D2;\n",
       "      height: 32px;\n",
       "      padding: 0 0 0 0;\n",
       "      width: 32px;\n",
       "    }\n",
       "\n",
       "    .colab-df-convert:hover {\n",
       "      background-color: #E2EBFA;\n",
       "      box-shadow: 0px 1px 2px rgba(60, 64, 67, 0.3), 0px 1px 3px 1px rgba(60, 64, 67, 0.15);\n",
       "      fill: #174EA6;\n",
       "    }\n",
       "\n",
       "    [theme=dark] .colab-df-convert {\n",
       "      background-color: #3B4455;\n",
       "      fill: #D2E3FC;\n",
       "    }\n",
       "\n",
       "    [theme=dark] .colab-df-convert:hover {\n",
       "      background-color: #434B5C;\n",
       "      box-shadow: 0px 1px 3px 1px rgba(0, 0, 0, 0.15);\n",
       "      filter: drop-shadow(0px 1px 2px rgba(0, 0, 0, 0.3));\n",
       "      fill: #FFFFFF;\n",
       "    }\n",
       "  </style>\n",
       "\n",
       "      <script>\n",
       "        const buttonEl =\n",
       "          document.querySelector('#df-f0364265-ac7a-4c35-b65b-a05d8c967dca button.colab-df-convert');\n",
       "        buttonEl.style.display =\n",
       "          google.colab.kernel.accessAllowed ? 'block' : 'none';\n",
       "\n",
       "        async function convertToInteractive(key) {\n",
       "          const element = document.querySelector('#df-f0364265-ac7a-4c35-b65b-a05d8c967dca');\n",
       "          const dataTable =\n",
       "            await google.colab.kernel.invokeFunction('convertToInteractive',\n",
       "                                                     [key], {});\n",
       "          if (!dataTable) return;\n",
       "\n",
       "          const docLinkHtml = 'Like what you see? Visit the ' +\n",
       "            '<a target=\"_blank\" href=https://colab.research.google.com/notebooks/data_table.ipynb>data table notebook</a>'\n",
       "            + ' to learn more about interactive tables.';\n",
       "          element.innerHTML = '';\n",
       "          dataTable['output_type'] = 'display_data';\n",
       "          await google.colab.output.renderOutput(dataTable, element);\n",
       "          const docLink = document.createElement('div');\n",
       "          docLink.innerHTML = docLinkHtml;\n",
       "          element.appendChild(docLink);\n",
       "        }\n",
       "      </script>\n",
       "    </div>\n",
       "  </div>\n",
       "  "
      ],
      "text/plain": [
       "                                         review_body language\n",
       "0        Cumple con todos los requisitos para pasear       es\n",
       "1  No veo que sea muy fiable, no da dos medidas s...       es"
      ]
     },
     "execution_count": 12,
     "metadata": {},
     "output_type": "execute_result"
    }
   ],
   "source": [
    "df['language'] = df['review_body'].apply(lang_detect)\n",
    "df.head(2)"
   ]
  },
  {
   "cell_type": "markdown",
   "metadata": {
    "id": "iwKHtd4vQz9Z"
   },
   "source": [
    "Here, We run pandas function .apply() for entire dataframe attribute."
   ]
  },
  {
   "cell_type": "code",
   "execution_count": 13,
   "metadata": {
    "colab": {
     "base_uri": "https://localhost:8080/"
    },
    "id": "dT9kwRiOETP9",
    "outputId": "56c010d5-732f-470b-b651-34f853b2d846"
   },
   "outputs": [
    {
     "data": {
      "text/plain": [
       "array(['es', 'pt', 'it', 'en'], dtype=object)"
      ]
     },
     "execution_count": 13,
     "metadata": {},
     "output_type": "execute_result"
    }
   ],
   "source": [
    "df['language'].unique()"
   ]
  },
  {
   "cell_type": "markdown",
   "metadata": {
    "id": "GiwuEad2RQHo"
   },
   "source": [
    "Here are some code for the languages.\n",
    "\n",
    "Spanish, Castilian\tes\n",
    "\n",
    "Catalan, Valencian\tca\n",
    "\n",
    "Portuguese\tpt\n",
    "\n",
    "German\tde\n",
    "\n",
    "Welsh\tcy\n",
    "\n",
    "Italian\tit\n",
    "\n",
    "English\ten"
   ]
  },
  {
   "cell_type": "code",
   "execution_count": 14,
   "metadata": {
    "colab": {
     "base_uri": "https://localhost:8080/"
    },
    "id": "HI758DT4ETUf",
    "outputId": "f44d00d3-3ba2-4823-d05c-47d4dc67b734"
   },
   "outputs": [
    {
     "data": {
      "text/plain": [
       "es    989\n",
       "pt      6\n",
       "it      3\n",
       "en      2\n",
       "Name: language, dtype: int64"
      ]
     },
     "execution_count": 14,
     "metadata": {},
     "output_type": "execute_result"
    }
   ],
   "source": [
    "df['language'].value_counts()"
   ]
  },
  {
   "cell_type": "markdown",
   "metadata": {
    "id": "zkzgni7EzMbW"
   },
   "source": [
    "### Language Transltor"
   ]
  },
  {
   "cell_type": "code",
   "execution_count": 15,
   "metadata": {
    "id": "s3TL8wxaETbv"
   },
   "outputs": [],
   "source": [
    "def lang_translation(data):\n",
    "    translator = Translator()\n",
    "    translated_text = translator.translate(data)\n",
    "    return translated_text.text"
   ]
  },
  {
   "cell_type": "code",
   "execution_count": 16,
   "metadata": {
    "colab": {
     "base_uri": "https://localhost:8080/",
     "height": 35
    },
    "id": "zre9TU4lETd0",
    "outputId": "4fcee012-c724-492a-c3dc-87e32b3cffff"
   },
   "outputs": [
    {
     "data": {
      "application/vnd.google.colaboratory.intrinsic+json": {
       "type": "string"
      },
      "text/plain": [
       "'Cumple con todos los requisitos para pasear'"
      ]
     },
     "execution_count": 16,
     "metadata": {},
     "output_type": "execute_result"
    }
   ],
   "source": [
    "df['review_body'][0]"
   ]
  },
  {
   "cell_type": "code",
   "execution_count": 17,
   "metadata": {
    "colab": {
     "base_uri": "https://localhost:8080/",
     "height": 35
    },
    "id": "KVYR_T96ETgc",
    "outputId": "9d079a18-112a-47d0-9524-c09aecac18ce"
   },
   "outputs": [
    {
     "data": {
      "application/vnd.google.colaboratory.intrinsic+json": {
       "type": "string"
      },
      "text/plain": [
       "'Meets all the requirements to walk'"
      ]
     },
     "execution_count": 17,
     "metadata": {},
     "output_type": "execute_result"
    }
   ],
   "source": [
    "lang_translation(df['review_body'][0])"
   ]
  },
  {
   "cell_type": "markdown",
   "metadata": {
    "id": "IzHBXywISVcC"
   },
   "source": [
    "Transform each dataframe attribute into a single common English language using the \"google translator\" library."
   ]
  },
  {
   "cell_type": "code",
   "execution_count": 18,
   "metadata": {
    "colab": {
     "base_uri": "https://localhost:8080/",
     "height": 112
    },
    "id": "HQsGxnZXETiZ",
    "outputId": "3be1d4f1-efd8-4ea3-fa3d-29c73b777cc5"
   },
   "outputs": [
    {
     "data": {
      "text/html": [
       "\n",
       "  <div id=\"df-6dac5373-cf89-4719-b6d6-d6ee9a2b5979\">\n",
       "    <div class=\"colab-df-container\">\n",
       "      <div>\n",
       "<style scoped>\n",
       "    .dataframe tbody tr th:only-of-type {\n",
       "        vertical-align: middle;\n",
       "    }\n",
       "\n",
       "    .dataframe tbody tr th {\n",
       "        vertical-align: top;\n",
       "    }\n",
       "\n",
       "    .dataframe thead th {\n",
       "        text-align: right;\n",
       "    }\n",
       "</style>\n",
       "<table border=\"1\" class=\"dataframe\">\n",
       "  <thead>\n",
       "    <tr style=\"text-align: right;\">\n",
       "      <th></th>\n",
       "      <th>review_body</th>\n",
       "      <th>language</th>\n",
       "      <th>translated_text</th>\n",
       "    </tr>\n",
       "  </thead>\n",
       "  <tbody>\n",
       "    <tr>\n",
       "      <th>0</th>\n",
       "      <td>Cumple con todos los requisitos para pasear</td>\n",
       "      <td>es</td>\n",
       "      <td>Meets all the requirements to walk</td>\n",
       "    </tr>\n",
       "    <tr>\n",
       "      <th>1</th>\n",
       "      <td>No veo que sea muy fiable, no da dos medidas s...</td>\n",
       "      <td>es</td>\n",
       "      <td>I do not see that it is very reliable, it does...</td>\n",
       "    </tr>\n",
       "  </tbody>\n",
       "</table>\n",
       "</div>\n",
       "      <button class=\"colab-df-convert\" onclick=\"convertToInteractive('df-6dac5373-cf89-4719-b6d6-d6ee9a2b5979')\"\n",
       "              title=\"Convert this dataframe to an interactive table.\"\n",
       "              style=\"display:none;\">\n",
       "        \n",
       "  <svg xmlns=\"http://www.w3.org/2000/svg\" height=\"24px\"viewBox=\"0 0 24 24\"\n",
       "       width=\"24px\">\n",
       "    <path d=\"M0 0h24v24H0V0z\" fill=\"none\"/>\n",
       "    <path d=\"M18.56 5.44l.94 2.06.94-2.06 2.06-.94-2.06-.94-.94-2.06-.94 2.06-2.06.94zm-11 1L8.5 8.5l.94-2.06 2.06-.94-2.06-.94L8.5 2.5l-.94 2.06-2.06.94zm10 10l.94 2.06.94-2.06 2.06-.94-2.06-.94-.94-2.06-.94 2.06-2.06.94z\"/><path d=\"M17.41 7.96l-1.37-1.37c-.4-.4-.92-.59-1.43-.59-.52 0-1.04.2-1.43.59L10.3 9.45l-7.72 7.72c-.78.78-.78 2.05 0 2.83L4 21.41c.39.39.9.59 1.41.59.51 0 1.02-.2 1.41-.59l7.78-7.78 2.81-2.81c.8-.78.8-2.07 0-2.86zM5.41 20L4 18.59l7.72-7.72 1.47 1.35L5.41 20z\"/>\n",
       "  </svg>\n",
       "      </button>\n",
       "      \n",
       "  <style>\n",
       "    .colab-df-container {\n",
       "      display:flex;\n",
       "      flex-wrap:wrap;\n",
       "      gap: 12px;\n",
       "    }\n",
       "\n",
       "    .colab-df-convert {\n",
       "      background-color: #E8F0FE;\n",
       "      border: none;\n",
       "      border-radius: 50%;\n",
       "      cursor: pointer;\n",
       "      display: none;\n",
       "      fill: #1967D2;\n",
       "      height: 32px;\n",
       "      padding: 0 0 0 0;\n",
       "      width: 32px;\n",
       "    }\n",
       "\n",
       "    .colab-df-convert:hover {\n",
       "      background-color: #E2EBFA;\n",
       "      box-shadow: 0px 1px 2px rgba(60, 64, 67, 0.3), 0px 1px 3px 1px rgba(60, 64, 67, 0.15);\n",
       "      fill: #174EA6;\n",
       "    }\n",
       "\n",
       "    [theme=dark] .colab-df-convert {\n",
       "      background-color: #3B4455;\n",
       "      fill: #D2E3FC;\n",
       "    }\n",
       "\n",
       "    [theme=dark] .colab-df-convert:hover {\n",
       "      background-color: #434B5C;\n",
       "      box-shadow: 0px 1px 3px 1px rgba(0, 0, 0, 0.15);\n",
       "      filter: drop-shadow(0px 1px 2px rgba(0, 0, 0, 0.3));\n",
       "      fill: #FFFFFF;\n",
       "    }\n",
       "  </style>\n",
       "\n",
       "      <script>\n",
       "        const buttonEl =\n",
       "          document.querySelector('#df-6dac5373-cf89-4719-b6d6-d6ee9a2b5979 button.colab-df-convert');\n",
       "        buttonEl.style.display =\n",
       "          google.colab.kernel.accessAllowed ? 'block' : 'none';\n",
       "\n",
       "        async function convertToInteractive(key) {\n",
       "          const element = document.querySelector('#df-6dac5373-cf89-4719-b6d6-d6ee9a2b5979');\n",
       "          const dataTable =\n",
       "            await google.colab.kernel.invokeFunction('convertToInteractive',\n",
       "                                                     [key], {});\n",
       "          if (!dataTable) return;\n",
       "\n",
       "          const docLinkHtml = 'Like what you see? Visit the ' +\n",
       "            '<a target=\"_blank\" href=https://colab.research.google.com/notebooks/data_table.ipynb>data table notebook</a>'\n",
       "            + ' to learn more about interactive tables.';\n",
       "          element.innerHTML = '';\n",
       "          dataTable['output_type'] = 'display_data';\n",
       "          await google.colab.output.renderOutput(dataTable, element);\n",
       "          const docLink = document.createElement('div');\n",
       "          docLink.innerHTML = docLinkHtml;\n",
       "          element.appendChild(docLink);\n",
       "        }\n",
       "      </script>\n",
       "    </div>\n",
       "  </div>\n",
       "  "
      ],
      "text/plain": [
       "                                         review_body language  \\\n",
       "0        Cumple con todos los requisitos para pasear       es   \n",
       "1  No veo que sea muy fiable, no da dos medidas s...       es   \n",
       "\n",
       "                                     translated_text  \n",
       "0                 Meets all the requirements to walk  \n",
       "1  I do not see that it is very reliable, it does...  "
      ]
     },
     "execution_count": 18,
     "metadata": {},
     "output_type": "execute_result"
    }
   ],
   "source": [
    "df['translated_text'] = df['review_body'].apply(lang_translation)\n",
    "df.head(2)"
   ]
  },
  {
   "cell_type": "markdown",
   "metadata": {
    "id": "C6BNGmdtzUqy"
   },
   "source": [
    "### N-Grams"
   ]
  },
  {
   "cell_type": "code",
   "execution_count": 19,
   "metadata": {
    "id": "Pl1aha57ETpT"
   },
   "outputs": [],
   "source": [
    "def ngrams_extractor(data, ngram_range):\n",
    "    tokens = word_tokenize(data)\n",
    "    ngram_text = ngrams(tokens, ngram_range)\n",
    "    ngram_list = []\n",
    "    \n",
    "    for ngram in ngram_text:\n",
    "        ngram_list.append(' '.join(ngram))\n",
    "    return ngram_list"
   ]
  },
  {
   "cell_type": "markdown",
   "metadata": {
    "id": "OLrbnlL4Sk6y"
   },
   "source": [
    "We tokenize the sentence using \"word tokenization\" procedures in an effort to extract its \"n grams\""
   ]
  },
  {
   "cell_type": "markdown",
   "metadata": {
    "id": "w-kD7bp3zYSe"
   },
   "source": [
    "#### Unigram before data cleaning"
   ]
  },
  {
   "cell_type": "code",
   "execution_count": 20,
   "metadata": {
    "colab": {
     "base_uri": "https://localhost:8080/"
    },
    "id": "kmyGhB8jETtK",
    "outputId": "044d9f46-387e-41f1-a616-066028b79dec"
   },
   "outputs": [
    {
     "data": {
      "text/plain": [
       "0              [Meets, all, the, requirements, to, walk]\n",
       "1      [I, do, not, see, that, it, is, very, reliable...\n",
       "2      [Incredible, the, aroma, and, its, flavor.Reco...\n",
       "3      [Okay, ,, normal, ,, to, spend, an, afternoon,...\n",
       "4      [I, have, had, many, problems, to, match, the,...\n",
       "                             ...                        \n",
       "995    [So, good, that, I, have, to, repeat, the, ton...\n",
       "996    [It, has, arrived, very, fast, ,, the, correct...\n",
       "997                                [For, the, camera, .]\n",
       "998    [At, first, I, was, very, happy, with, the, pr...\n",
       "999    [Do, not, buy, these, headphones, ,, they, hea...\n",
       "Name: translated_text, Length: 1000, dtype: object"
      ]
     },
     "execution_count": 20,
     "metadata": {},
     "output_type": "execute_result"
    }
   ],
   "source": [
    "unigrams_df = df['translated_text'].apply(lambda i : ngrams_extractor(i,1))\n",
    "unigrams_df"
   ]
  },
  {
   "cell_type": "markdown",
   "metadata": {
    "id": "CZjh0C3LTOU8"
   },
   "source": [
    "Here, I am accessing single_ngrams from the each document by using lambda function."
   ]
  },
  {
   "cell_type": "code",
   "execution_count": 21,
   "metadata": {
    "colab": {
     "base_uri": "https://localhost:8080/"
    },
    "id": "QVIFJxlMETww",
    "outputId": "445cb509-5646-4dd7-8ba8-cb7b125eff6d"
   },
   "outputs": [
    {
     "data": {
      "text/plain": [
       "[('the', 1548),\n",
       " (',', 1221),\n",
       " ('it', 979),\n",
       " ('and', 853),\n",
       " ('is', 808),\n",
       " ('I', 756),\n",
       " ('to', 700),\n",
       " ('not', 588),\n",
       " ('a', 558),\n",
       " ('.', 553),\n",
       " ('that', 416),\n",
       " ('of', 383),\n",
       " ('have', 350),\n",
       " ('for', 342),\n",
       " ('very', 338),\n",
       " ('but', 310),\n",
       " ('in', 304),\n",
       " ('with', 233),\n",
       " ('they', 220),\n",
       " ('you', 209),\n",
       " ('are', 208),\n",
       " ('good', 207),\n",
       " ('It', 186),\n",
       " ('has', 185),\n",
       " ('do', 171)]"
      ]
     },
     "execution_count": 21,
     "metadata": {},
     "output_type": "execute_result"
    }
   ],
   "source": [
    "final_unigram = []\n",
    "\n",
    "for unigram in unigrams_df:\n",
    "    final_unigram.extend(unigram)\n",
    "count_unigram = Counter(final_unigram).most_common(25)\n",
    "count_unigram"
   ]
  },
  {
   "cell_type": "markdown",
   "metadata": {
    "id": "tt3WzhqUTaCc"
   },
   "source": [
    "Unfortunately, the documents are not clean; there are numerous common and unhelpful stopwords, punctuation, digits, etc. present. So I decided to take them out."
   ]
  },
  {
   "cell_type": "markdown",
   "metadata": {
    "id": "QGLdrAhhzefo"
   },
   "source": [
    "# Data Preprocessing"
   ]
  },
  {
   "cell_type": "code",
   "execution_count": 22,
   "metadata": {
    "id": "GCGZLFm-C6Tl"
   },
   "outputs": [],
   "source": [
    "### Remove Spaces\n",
    "\n",
    "def remove_space(data):\n",
    "    removed_space = data.replace('\\\\n','').replace('\\\\',' ').replace('\\t',' ')\n",
    "    return removed_space\n",
    "\n",
    "### Contractions\n",
    "\n",
    "def expand_text(data):\n",
    "    expanded_text = contractions.fix(data)\n",
    "    return expanded_text\n",
    "\n",
    "### Accented data\n",
    "\n",
    "def accented_word(data):\n",
    "    remove_acceted_text = unidecode(data)\n",
    "    return remove_acceted_text\n",
    "\n",
    "### Stopwords and Cleaning\n",
    " \n",
    "stopword_list = stopwords.words('english')\n",
    "stopword_list.remove('not')\n",
    "stopword_list.remove('nor')\n",
    "stopword_list.remove('no')\n",
    "\n",
    "def clean_data(data):\n",
    "    tokens = word_tokenize(data)\n",
    "    cleaned_text = [word.lower() for word in tokens if (word not in punctuation) and \n",
    "                    (word.lower() not in stopword_list) and (word.isalpha()) and len(word)>2 ]\n",
    "    return cleaned_text \n",
    "\n",
    "### Lemmatization\n",
    "\n",
    "def lemmatization(data):\n",
    "    lemmatizer = WordNetLemmatizer()\n",
    "    final_data = []\n",
    "    \n",
    "    for word in data:\n",
    "        lemmatizer_word = lemmatizer.lemmatize(word)\n",
    "        final_data.append(lemmatizer_word)\n",
    "    return ' '.join(final_data)"
   ]
  },
  {
   "cell_type": "markdown",
   "metadata": {
    "id": "UiGz5HxsTzZL"
   },
   "source": [
    "I initially deleted the document's newline and tab spaces.\n",
    "\n",
    "Then, in order to extract the right meaning for pipeline from the document, I expand contracted phrases like \"don't,\" \"didn't,\" and \"haven't\" into \"do not,\" \"did not,\" and \"have not.\"\n",
    "\n",
    "After that, I attempted to translate \"accented words\" into their original alphabets, such as (à, è,,, ù) (a,e,i,o,u)\n",
    "\n",
    "I then got rid of words like \"a,\" \"the,\" \"is,\" \"are,\" and so forth. Additionally, I deleted derogatory words from the stopword list like (not, nor, no) to preserve the document's intended intent.\n",
    "\n",
    "I then tokenize the documents into words, normalize each word, and choose the words that do not appear in the stopword or punctuation list. I also exclude number values and only choose alphabets. Additionally, I suppose that a word longer than two words is not necessary in order to undertake sentimental analysis."
   ]
  },
  {
   "cell_type": "markdown",
   "metadata": {
    "id": "cn1knNOZC1RQ"
   },
   "source": [
    "Apply all functions"
   ]
  },
  {
   "cell_type": "code",
   "execution_count": 23,
   "metadata": {
    "id": "g5xikkrzC6yK"
   },
   "outputs": [],
   "source": [
    "df['cleaed_translated_review'] = df['translated_text'].apply(remove_space)\n",
    "\n",
    "df['cleaed_translated_review'] = df['cleaed_translated_review'] .apply(expand_text)\n",
    "\n",
    "df['cleaed_translated_review'] = df['cleaed_translated_review'] .apply(accented_word)\n",
    "\n",
    "df['cleaed_translated_review'] = df['cleaed_translated_review'] .apply(clean_data)\n",
    "\n",
    "df['cleaed_translated_review'] = df['cleaed_translated_review'] .apply(lemmatization)\n"
   ]
  },
  {
   "cell_type": "code",
   "execution_count": 24,
   "metadata": {
    "colab": {
     "base_uri": "https://localhost:8080/"
    },
    "id": "MH6caWaDC66i",
    "outputId": "e21341c5-c989-406d-9375-48e30a9ddabb"
   },
   "outputs": [
    {
     "data": {
      "text/plain": [
       "0                                  meet requirement walk\n",
       "1      not see reliable not give two measure guide re...\n",
       "2                                 incredible aroma enjoy\n",
       "3      okay normal spend afternoon fulfills function ...\n",
       "4      many problem match bracelet mobile app finally...\n",
       "                             ...                        \n",
       "995    good repeat toner arrived fast without problem...\n",
       "996                            arrived fast correct size\n",
       "997                                               camera\n",
       "998    first happy product loading fullest lasted nig...\n",
       "999                    not buy headphone hear fatal like\n",
       "Name: cleaed_translated_review, Length: 1000, dtype: object"
      ]
     },
     "execution_count": 24,
     "metadata": {},
     "output_type": "execute_result"
    }
   ],
   "source": [
    "df['cleaed_translated_review']"
   ]
  },
  {
   "cell_type": "code",
   "execution_count": 25,
   "metadata": {
    "colab": {
     "base_uri": "https://localhost:8080/",
     "height": 240
    },
    "id": "_chs1TvLr3vh",
    "outputId": "434c9f33-690b-401e-b769-cf91bb5095e9"
   },
   "outputs": [
    {
     "data": {
      "text/html": [
       "\n",
       "  <div id=\"df-7b6861c4-ddb4-40d9-9411-d89f731efee5\">\n",
       "    <div class=\"colab-df-container\">\n",
       "      <div>\n",
       "<style scoped>\n",
       "    .dataframe tbody tr th:only-of-type {\n",
       "        vertical-align: middle;\n",
       "    }\n",
       "\n",
       "    .dataframe tbody tr th {\n",
       "        vertical-align: top;\n",
       "    }\n",
       "\n",
       "    .dataframe thead th {\n",
       "        text-align: right;\n",
       "    }\n",
       "</style>\n",
       "<table border=\"1\" class=\"dataframe\">\n",
       "  <thead>\n",
       "    <tr style=\"text-align: right;\">\n",
       "      <th></th>\n",
       "      <th>review_body</th>\n",
       "      <th>language</th>\n",
       "      <th>translated_text</th>\n",
       "      <th>cleaed_translated_review</th>\n",
       "    </tr>\n",
       "  </thead>\n",
       "  <tbody>\n",
       "    <tr>\n",
       "      <th>0</th>\n",
       "      <td>Cumple con todos los requisitos para pasear</td>\n",
       "      <td>es</td>\n",
       "      <td>Meets all the requirements to walk</td>\n",
       "      <td>meet requirement walk</td>\n",
       "    </tr>\n",
       "    <tr>\n",
       "      <th>1</th>\n",
       "      <td>No veo que sea muy fiable, no da dos medidas s...</td>\n",
       "      <td>es</td>\n",
       "      <td>I do not see that it is very reliable, it does...</td>\n",
       "      <td>not see reliable not give two measure guide re...</td>\n",
       "    </tr>\n",
       "    <tr>\n",
       "      <th>2</th>\n",
       "      <td>Increíble el aroma y su sabor. Recomendable pa...</td>\n",
       "      <td>es</td>\n",
       "      <td>Incredible the aroma and its flavor.Recommende...</td>\n",
       "      <td>incredible aroma enjoy</td>\n",
       "    </tr>\n",
       "  </tbody>\n",
       "</table>\n",
       "</div>\n",
       "      <button class=\"colab-df-convert\" onclick=\"convertToInteractive('df-7b6861c4-ddb4-40d9-9411-d89f731efee5')\"\n",
       "              title=\"Convert this dataframe to an interactive table.\"\n",
       "              style=\"display:none;\">\n",
       "        \n",
       "  <svg xmlns=\"http://www.w3.org/2000/svg\" height=\"24px\"viewBox=\"0 0 24 24\"\n",
       "       width=\"24px\">\n",
       "    <path d=\"M0 0h24v24H0V0z\" fill=\"none\"/>\n",
       "    <path d=\"M18.56 5.44l.94 2.06.94-2.06 2.06-.94-2.06-.94-.94-2.06-.94 2.06-2.06.94zm-11 1L8.5 8.5l.94-2.06 2.06-.94-2.06-.94L8.5 2.5l-.94 2.06-2.06.94zm10 10l.94 2.06.94-2.06 2.06-.94-2.06-.94-.94-2.06-.94 2.06-2.06.94z\"/><path d=\"M17.41 7.96l-1.37-1.37c-.4-.4-.92-.59-1.43-.59-.52 0-1.04.2-1.43.59L10.3 9.45l-7.72 7.72c-.78.78-.78 2.05 0 2.83L4 21.41c.39.39.9.59 1.41.59.51 0 1.02-.2 1.41-.59l7.78-7.78 2.81-2.81c.8-.78.8-2.07 0-2.86zM5.41 20L4 18.59l7.72-7.72 1.47 1.35L5.41 20z\"/>\n",
       "  </svg>\n",
       "      </button>\n",
       "      \n",
       "  <style>\n",
       "    .colab-df-container {\n",
       "      display:flex;\n",
       "      flex-wrap:wrap;\n",
       "      gap: 12px;\n",
       "    }\n",
       "\n",
       "    .colab-df-convert {\n",
       "      background-color: #E8F0FE;\n",
       "      border: none;\n",
       "      border-radius: 50%;\n",
       "      cursor: pointer;\n",
       "      display: none;\n",
       "      fill: #1967D2;\n",
       "      height: 32px;\n",
       "      padding: 0 0 0 0;\n",
       "      width: 32px;\n",
       "    }\n",
       "\n",
       "    .colab-df-convert:hover {\n",
       "      background-color: #E2EBFA;\n",
       "      box-shadow: 0px 1px 2px rgba(60, 64, 67, 0.3), 0px 1px 3px 1px rgba(60, 64, 67, 0.15);\n",
       "      fill: #174EA6;\n",
       "    }\n",
       "\n",
       "    [theme=dark] .colab-df-convert {\n",
       "      background-color: #3B4455;\n",
       "      fill: #D2E3FC;\n",
       "    }\n",
       "\n",
       "    [theme=dark] .colab-df-convert:hover {\n",
       "      background-color: #434B5C;\n",
       "      box-shadow: 0px 1px 3px 1px rgba(0, 0, 0, 0.15);\n",
       "      filter: drop-shadow(0px 1px 2px rgba(0, 0, 0, 0.3));\n",
       "      fill: #FFFFFF;\n",
       "    }\n",
       "  </style>\n",
       "\n",
       "      <script>\n",
       "        const buttonEl =\n",
       "          document.querySelector('#df-7b6861c4-ddb4-40d9-9411-d89f731efee5 button.colab-df-convert');\n",
       "        buttonEl.style.display =\n",
       "          google.colab.kernel.accessAllowed ? 'block' : 'none';\n",
       "\n",
       "        async function convertToInteractive(key) {\n",
       "          const element = document.querySelector('#df-7b6861c4-ddb4-40d9-9411-d89f731efee5');\n",
       "          const dataTable =\n",
       "            await google.colab.kernel.invokeFunction('convertToInteractive',\n",
       "                                                     [key], {});\n",
       "          if (!dataTable) return;\n",
       "\n",
       "          const docLinkHtml = 'Like what you see? Visit the ' +\n",
       "            '<a target=\"_blank\" href=https://colab.research.google.com/notebooks/data_table.ipynb>data table notebook</a>'\n",
       "            + ' to learn more about interactive tables.';\n",
       "          element.innerHTML = '';\n",
       "          dataTable['output_type'] = 'display_data';\n",
       "          await google.colab.output.renderOutput(dataTable, element);\n",
       "          const docLink = document.createElement('div');\n",
       "          docLink.innerHTML = docLinkHtml;\n",
       "          element.appendChild(docLink);\n",
       "        }\n",
       "      </script>\n",
       "    </div>\n",
       "  </div>\n",
       "  "
      ],
      "text/plain": [
       "                                         review_body language  \\\n",
       "0        Cumple con todos los requisitos para pasear       es   \n",
       "1  No veo que sea muy fiable, no da dos medidas s...       es   \n",
       "2  Increíble el aroma y su sabor. Recomendable pa...       es   \n",
       "\n",
       "                                     translated_text  \\\n",
       "0                 Meets all the requirements to walk   \n",
       "1  I do not see that it is very reliable, it does...   \n",
       "2  Incredible the aroma and its flavor.Recommende...   \n",
       "\n",
       "                            cleaed_translated_review  \n",
       "0                              meet requirement walk  \n",
       "1  not see reliable not give two measure guide re...  \n",
       "2                             incredible aroma enjoy  "
      ]
     },
     "execution_count": 25,
     "metadata": {},
     "output_type": "execute_result"
    }
   ],
   "source": [
    "df.head(3)"
   ]
  },
  {
   "cell_type": "code",
   "execution_count": 26,
   "metadata": {
    "colab": {
     "base_uri": "https://localhost:8080/",
     "height": 424
    },
    "id": "kfLrGVpvr4rZ",
    "outputId": "4f2a0fa3-40df-4842-b635-75c79682f182"
   },
   "outputs": [
    {
     "data": {
      "text/html": [
       "\n",
       "  <div id=\"df-b9edc4af-42db-4938-b3e0-3162df14f2fa\">\n",
       "    <div class=\"colab-df-container\">\n",
       "      <div>\n",
       "<style scoped>\n",
       "    .dataframe tbody tr th:only-of-type {\n",
       "        vertical-align: middle;\n",
       "    }\n",
       "\n",
       "    .dataframe tbody tr th {\n",
       "        vertical-align: top;\n",
       "    }\n",
       "\n",
       "    .dataframe thead th {\n",
       "        text-align: right;\n",
       "    }\n",
       "</style>\n",
       "<table border=\"1\" class=\"dataframe\">\n",
       "  <thead>\n",
       "    <tr style=\"text-align: right;\">\n",
       "      <th></th>\n",
       "      <th>cleaed_translated_review</th>\n",
       "    </tr>\n",
       "  </thead>\n",
       "  <tbody>\n",
       "    <tr>\n",
       "      <th>0</th>\n",
       "      <td>meet requirement walk</td>\n",
       "    </tr>\n",
       "    <tr>\n",
       "      <th>1</th>\n",
       "      <td>not see reliable not give two measure guide re...</td>\n",
       "    </tr>\n",
       "    <tr>\n",
       "      <th>2</th>\n",
       "      <td>incredible aroma enjoy</td>\n",
       "    </tr>\n",
       "    <tr>\n",
       "      <th>3</th>\n",
       "      <td>okay normal spend afternoon fulfills function ...</td>\n",
       "    </tr>\n",
       "    <tr>\n",
       "      <th>4</th>\n",
       "      <td>many problem match bracelet mobile app finally...</td>\n",
       "    </tr>\n",
       "    <tr>\n",
       "      <th>...</th>\n",
       "      <td>...</td>\n",
       "    </tr>\n",
       "    <tr>\n",
       "      <th>995</th>\n",
       "      <td>good repeat toner arrived fast without problem...</td>\n",
       "    </tr>\n",
       "    <tr>\n",
       "      <th>996</th>\n",
       "      <td>arrived fast correct size</td>\n",
       "    </tr>\n",
       "    <tr>\n",
       "      <th>997</th>\n",
       "      <td>camera</td>\n",
       "    </tr>\n",
       "    <tr>\n",
       "      <th>998</th>\n",
       "      <td>first happy product loading fullest lasted nig...</td>\n",
       "    </tr>\n",
       "    <tr>\n",
       "      <th>999</th>\n",
       "      <td>not buy headphone hear fatal like</td>\n",
       "    </tr>\n",
       "  </tbody>\n",
       "</table>\n",
       "<p>1000 rows × 1 columns</p>\n",
       "</div>\n",
       "      <button class=\"colab-df-convert\" onclick=\"convertToInteractive('df-b9edc4af-42db-4938-b3e0-3162df14f2fa')\"\n",
       "              title=\"Convert this dataframe to an interactive table.\"\n",
       "              style=\"display:none;\">\n",
       "        \n",
       "  <svg xmlns=\"http://www.w3.org/2000/svg\" height=\"24px\"viewBox=\"0 0 24 24\"\n",
       "       width=\"24px\">\n",
       "    <path d=\"M0 0h24v24H0V0z\" fill=\"none\"/>\n",
       "    <path d=\"M18.56 5.44l.94 2.06.94-2.06 2.06-.94-2.06-.94-.94-2.06-.94 2.06-2.06.94zm-11 1L8.5 8.5l.94-2.06 2.06-.94-2.06-.94L8.5 2.5l-.94 2.06-2.06.94zm10 10l.94 2.06.94-2.06 2.06-.94-2.06-.94-.94-2.06-.94 2.06-2.06.94z\"/><path d=\"M17.41 7.96l-1.37-1.37c-.4-.4-.92-.59-1.43-.59-.52 0-1.04.2-1.43.59L10.3 9.45l-7.72 7.72c-.78.78-.78 2.05 0 2.83L4 21.41c.39.39.9.59 1.41.59.51 0 1.02-.2 1.41-.59l7.78-7.78 2.81-2.81c.8-.78.8-2.07 0-2.86zM5.41 20L4 18.59l7.72-7.72 1.47 1.35L5.41 20z\"/>\n",
       "  </svg>\n",
       "      </button>\n",
       "      \n",
       "  <style>\n",
       "    .colab-df-container {\n",
       "      display:flex;\n",
       "      flex-wrap:wrap;\n",
       "      gap: 12px;\n",
       "    }\n",
       "\n",
       "    .colab-df-convert {\n",
       "      background-color: #E8F0FE;\n",
       "      border: none;\n",
       "      border-radius: 50%;\n",
       "      cursor: pointer;\n",
       "      display: none;\n",
       "      fill: #1967D2;\n",
       "      height: 32px;\n",
       "      padding: 0 0 0 0;\n",
       "      width: 32px;\n",
       "    }\n",
       "\n",
       "    .colab-df-convert:hover {\n",
       "      background-color: #E2EBFA;\n",
       "      box-shadow: 0px 1px 2px rgba(60, 64, 67, 0.3), 0px 1px 3px 1px rgba(60, 64, 67, 0.15);\n",
       "      fill: #174EA6;\n",
       "    }\n",
       "\n",
       "    [theme=dark] .colab-df-convert {\n",
       "      background-color: #3B4455;\n",
       "      fill: #D2E3FC;\n",
       "    }\n",
       "\n",
       "    [theme=dark] .colab-df-convert:hover {\n",
       "      background-color: #434B5C;\n",
       "      box-shadow: 0px 1px 3px 1px rgba(0, 0, 0, 0.15);\n",
       "      filter: drop-shadow(0px 1px 2px rgba(0, 0, 0, 0.3));\n",
       "      fill: #FFFFFF;\n",
       "    }\n",
       "  </style>\n",
       "\n",
       "      <script>\n",
       "        const buttonEl =\n",
       "          document.querySelector('#df-b9edc4af-42db-4938-b3e0-3162df14f2fa button.colab-df-convert');\n",
       "        buttonEl.style.display =\n",
       "          google.colab.kernel.accessAllowed ? 'block' : 'none';\n",
       "\n",
       "        async function convertToInteractive(key) {\n",
       "          const element = document.querySelector('#df-b9edc4af-42db-4938-b3e0-3162df14f2fa');\n",
       "          const dataTable =\n",
       "            await google.colab.kernel.invokeFunction('convertToInteractive',\n",
       "                                                     [key], {});\n",
       "          if (!dataTable) return;\n",
       "\n",
       "          const docLinkHtml = 'Like what you see? Visit the ' +\n",
       "            '<a target=\"_blank\" href=https://colab.research.google.com/notebooks/data_table.ipynb>data table notebook</a>'\n",
       "            + ' to learn more about interactive tables.';\n",
       "          element.innerHTML = '';\n",
       "          dataTable['output_type'] = 'display_data';\n",
       "          await google.colab.output.renderOutput(dataTable, element);\n",
       "          const docLink = document.createElement('div');\n",
       "          docLink.innerHTML = docLinkHtml;\n",
       "          element.appendChild(docLink);\n",
       "        }\n",
       "      </script>\n",
       "    </div>\n",
       "  </div>\n",
       "  "
      ],
      "text/plain": [
       "                              cleaed_translated_review\n",
       "0                                meet requirement walk\n",
       "1    not see reliable not give two measure guide re...\n",
       "2                               incredible aroma enjoy\n",
       "3    okay normal spend afternoon fulfills function ...\n",
       "4    many problem match bracelet mobile app finally...\n",
       "..                                                 ...\n",
       "995  good repeat toner arrived fast without problem...\n",
       "996                          arrived fast correct size\n",
       "997                                             camera\n",
       "998  first happy product loading fullest lasted nig...\n",
       "999                  not buy headphone hear fatal like\n",
       "\n",
       "[1000 rows x 1 columns]"
      ]
     },
     "execution_count": 26,
     "metadata": {},
     "output_type": "execute_result"
    }
   ],
   "source": [
    "df.drop(labels=['review_body','language','translated_text'],axis=1,inplace=True)\n",
    "df"
   ]
  },
  {
   "cell_type": "markdown",
   "metadata": {
    "id": "BLpQXae8VqG7"
   },
   "source": [
    "Now, After data preprocessing, I removed all the attributes and keep only \"cleaed_translated_review\" for model training"
   ]
  },
  {
   "cell_type": "markdown",
   "metadata": {
    "id": "Kf3mYNBJV3IP"
   },
   "source": [
    "#### Unigrams after Data cleaning"
   ]
  },
  {
   "cell_type": "code",
   "execution_count": 27,
   "metadata": {
    "colab": {
     "base_uri": "https://localhost:8080/"
    },
    "id": "sJ57MmMPC6-g",
    "outputId": "447025ee-0607-40cb-aa9a-5cfead564edd"
   },
   "outputs": [
    {
     "data": {
      "text/plain": [
       "[('not', 679),\n",
       " ('good', 247),\n",
       " ('well', 140),\n",
       " ('quality', 123),\n",
       " ('product', 108),\n",
       " ('price', 95),\n",
       " ('work', 80),\n",
       " ('one', 78),\n",
       " ('little', 76),\n",
       " ('use', 75),\n",
       " ('like', 74),\n",
       " ('put', 72),\n",
       " ('time', 70),\n",
       " ('bought', 65),\n",
       " ('perfect', 59),\n",
       " ('come', 59),\n",
       " ('without', 57),\n",
       " ('bad', 56),\n",
       " ('give', 55),\n",
       " ('day', 53),\n",
       " ('buy', 52),\n",
       " ('much', 51),\n",
       " ('lot', 47),\n",
       " ('recommend', 47),\n",
       " ('return', 46)]"
      ]
     },
     "execution_count": 27,
     "metadata": {},
     "output_type": "execute_result"
    }
   ],
   "source": [
    "unigrams_df = df['cleaed_translated_review'].apply(lambda i : ngrams_extractor(i,1))\n",
    "\n",
    "\n",
    "final_unigram = []\n",
    "\n",
    "for unigram in unigrams_df:\n",
    "    final_unigram.extend(unigram)\n",
    "count_unigram = Counter(final_unigram).most_common(25)\n",
    "count_unigram\n"
   ]
  },
  {
   "cell_type": "markdown",
   "metadata": {
    "id": "hxMLoSwIV553"
   },
   "source": [
    "Now that the data had been properly prepared, I examined the number of trigrams, bigrams, and unigrams in each page again. to comprehend what the most common phrases are that are used the majority of the time."
   ]
  },
  {
   "cell_type": "markdown",
   "metadata": {
    "id": "D_U8P0UFWNHl"
   },
   "source": [
    "#### Bigram"
   ]
  },
  {
   "cell_type": "code",
   "execution_count": 28,
   "metadata": {
    "colab": {
     "base_uri": "https://localhost:8080/"
    },
    "id": "r81pk4zVC7Ir",
    "outputId": "fe9c0290-71f5-4112-e5cd-3ec66d1d13b4"
   },
   "outputs": [
    {
     "data": {
      "text/plain": [
       "[('good quality', 36),\n",
       " ('not work', 24),\n",
       " ('not recommend', 22),\n",
       " ('not like', 22),\n",
       " ('good price', 21),\n",
       " ('look good', 19),\n",
       " ('not give', 17),\n",
       " ('not bad', 15),\n",
       " ('good product', 12),\n",
       " ('give star', 12),\n",
       " ('not fit', 11),\n",
       " ('price not', 11),\n",
       " ('work well', 11),\n",
       " ('not know', 10),\n",
       " ('quality price', 10),\n",
       " ('well not', 10),\n",
       " ('without problem', 10),\n",
       " ('poor quality', 9),\n",
       " ('not see', 8),\n",
       " ('not want', 8),\n",
       " ('not even', 8),\n",
       " ('fulfills function', 7),\n",
       " ('not much', 7),\n",
       " ('not expect', 7),\n",
       " ('like anything', 7)]"
      ]
     },
     "execution_count": 28,
     "metadata": {},
     "output_type": "execute_result"
    }
   ],
   "source": [
    "bigram_df = df['cleaed_translated_review'].apply(lambda i : ngrams_extractor(i,2))\n",
    "\n",
    "final_bigram = []\n",
    "\n",
    "for bigram in bigram_df:\n",
    "    final_bigram.extend(bigram)\n",
    "\n",
    "count_bigram = Counter(final_bigram).most_common(25)\n",
    "count_bigram"
   ]
  },
  {
   "cell_type": "markdown",
   "metadata": {
    "id": "Y5X8dqJhWQSM"
   },
   "source": [
    "#### Trigrams"
   ]
  },
  {
   "cell_type": "code",
   "execution_count": 29,
   "metadata": {
    "colab": {
     "base_uri": "https://localhost:8080/"
    },
    "id": "93ZJ3zF3C7TE",
    "outputId": "e3c5c941-aff7-4c5f-ec1c-3ab739fa9102"
   },
   "outputs": [
    {
     "data": {
      "text/plain": [
       "[('not like anything', 7),\n",
       " ('not give star', 6),\n",
       " ('not fit well', 4),\n",
       " ('take long time', 4),\n",
       " ('look good quality', 4),\n",
       " ('price not ask', 4),\n",
       " ('not work not', 3),\n",
       " ('battery last lot', 3),\n",
       " ('not first time', 2),\n",
       " ('not fulfill function', 2),\n",
       " ('came open not', 2),\n",
       " ('comfortable easy put', 2),\n",
       " ('separate eyelash well', 2),\n",
       " ('stick well not', 2),\n",
       " ('would like know', 2),\n",
       " ('good quality material', 2),\n",
       " ('low quality plastic', 2),\n",
       " ('not arrive time', 2),\n",
       " ('not make sense', 2),\n",
       " ('make le noise', 2),\n",
       " ('weighs lot take', 2),\n",
       " ('good quality price', 2),\n",
       " ('not recommend purchase', 2),\n",
       " ('price quality ratio', 2),\n",
       " ('price not bad', 2)]"
      ]
     },
     "execution_count": 29,
     "metadata": {},
     "output_type": "execute_result"
    }
   ],
   "source": [
    "trigram_df = df['cleaed_translated_review'].apply(lambda i : ngrams_extractor(i,3))\n",
    "\n",
    "final_trigram = []\n",
    "\n",
    "for trigram in trigram_df:\n",
    "    final_trigram.extend(trigram)\n",
    "    \n",
    "count_trigram = Counter(final_trigram).most_common(25)\n",
    "count_trigram"
   ]
  },
  {
   "cell_type": "markdown",
   "metadata": {
    "id": "Lra_PyQTzjiU"
   },
   "source": [
    "### Wordcloud"
   ]
  },
  {
   "cell_type": "code",
   "execution_count": 30,
   "metadata": {
    "colab": {
     "base_uri": "https://localhost:8080/",
     "height": 429
    },
    "id": "OGdQdWuNF0A4",
    "outputId": "44df9617-e25d-40a8-a7b8-07d66b343ed3"
   },
   "outputs": [
    {
     "data": {
      "image/png": "[encoded data removed]",
      "text/plain": [
       "<Figure size 720x1080 with 1 Axes>"
      ]
     },
     "metadata": {},
     "output_type": "display_data"
    }
   ],
   "source": [
    "def wordcloud(data, column):\n",
    "    df_ = data[column].str.cat(sep = ' ')\n",
    "    text = ' '.join([word for word in df_.split()])\n",
    "    \n",
    "    wordcloud = WordCloud(width = 700, height = 500, background_color = 'white').generate(text)\n",
    "    \n",
    "    plt.figure(figsize = (10,15))\n",
    "    plt.imshow(wordcloud)\n",
    "    plt.axis('off')\n",
    "\n",
    "wordcloud(df, 'cleaed_translated_review')"
   ]
  },
  {
   "cell_type": "markdown",
   "metadata": {
    "id": "nwtydV3jWUcm"
   },
   "source": [
    "Wordcloud provides a broad comprehension of the dataset's sentiment. Conversely, the term with the lowest frequency will have the highest font. The word with the highest frequency will also have the largest font."
   ]
  },
  {
   "cell_type": "markdown",
   "metadata": {
    "id": "2xWwWEHIzojG"
   },
   "source": [
    "# Keyphrase Extraction"
   ]
  },
  {
   "cell_type": "code",
   "execution_count": 31,
   "metadata": {
    "colab": {
     "base_uri": "https://localhost:8080/",
     "height": 112
    },
    "id": "pIMgfPqkF0LO",
    "outputId": "a0086c68-ce42-48e7-c997-3cc6b58e6cf9"
   },
   "outputs": [
    {
     "data": {
      "text/html": [
       "\n",
       "  <div id=\"df-7d156ef8-cdf7-4e91-9326-213664d2e917\">\n",
       "    <div class=\"colab-df-container\">\n",
       "      <div>\n",
       "<style scoped>\n",
       "    .dataframe tbody tr th:only-of-type {\n",
       "        vertical-align: middle;\n",
       "    }\n",
       "\n",
       "    .dataframe tbody tr th {\n",
       "        vertical-align: top;\n",
       "    }\n",
       "\n",
       "    .dataframe thead th {\n",
       "        text-align: right;\n",
       "    }\n",
       "</style>\n",
       "<table border=\"1\" class=\"dataframe\">\n",
       "  <thead>\n",
       "    <tr style=\"text-align: right;\">\n",
       "      <th></th>\n",
       "      <th>cleaed_translated_review</th>\n",
       "    </tr>\n",
       "  </thead>\n",
       "  <tbody>\n",
       "    <tr>\n",
       "      <th>0</th>\n",
       "      <td>meet requirement walk</td>\n",
       "    </tr>\n",
       "    <tr>\n",
       "      <th>1</th>\n",
       "      <td>not see reliable not give two measure guide re...</td>\n",
       "    </tr>\n",
       "  </tbody>\n",
       "</table>\n",
       "</div>\n",
       "      <button class=\"colab-df-convert\" onclick=\"convertToInteractive('df-7d156ef8-cdf7-4e91-9326-213664d2e917')\"\n",
       "              title=\"Convert this dataframe to an interactive table.\"\n",
       "              style=\"display:none;\">\n",
       "        \n",
       "  <svg xmlns=\"http://www.w3.org/2000/svg\" height=\"24px\"viewBox=\"0 0 24 24\"\n",
       "       width=\"24px\">\n",
       "    <path d=\"M0 0h24v24H0V0z\" fill=\"none\"/>\n",
       "    <path d=\"M18.56 5.44l.94 2.06.94-2.06 2.06-.94-2.06-.94-.94-2.06-.94 2.06-2.06.94zm-11 1L8.5 8.5l.94-2.06 2.06-.94-2.06-.94L8.5 2.5l-.94 2.06-2.06.94zm10 10l.94 2.06.94-2.06 2.06-.94-2.06-.94-.94-2.06-.94 2.06-2.06.94z\"/><path d=\"M17.41 7.96l-1.37-1.37c-.4-.4-.92-.59-1.43-.59-.52 0-1.04.2-1.43.59L10.3 9.45l-7.72 7.72c-.78.78-.78 2.05 0 2.83L4 21.41c.39.39.9.59 1.41.59.51 0 1.02-.2 1.41-.59l7.78-7.78 2.81-2.81c.8-.78.8-2.07 0-2.86zM5.41 20L4 18.59l7.72-7.72 1.47 1.35L5.41 20z\"/>\n",
       "  </svg>\n",
       "      </button>\n",
       "      \n",
       "  <style>\n",
       "    .colab-df-container {\n",
       "      display:flex;\n",
       "      flex-wrap:wrap;\n",
       "      gap: 12px;\n",
       "    }\n",
       "\n",
       "    .colab-df-convert {\n",
       "      background-color: #E8F0FE;\n",
       "      border: none;\n",
       "      border-radius: 50%;\n",
       "      cursor: pointer;\n",
       "      display: none;\n",
       "      fill: #1967D2;\n",
       "      height: 32px;\n",
       "      padding: 0 0 0 0;\n",
       "      width: 32px;\n",
       "    }\n",
       "\n",
       "    .colab-df-convert:hover {\n",
       "      background-color: #E2EBFA;\n",
       "      box-shadow: 0px 1px 2px rgba(60, 64, 67, 0.3), 0px 1px 3px 1px rgba(60, 64, 67, 0.15);\n",
       "      fill: #174EA6;\n",
       "    }\n",
       "\n",
       "    [theme=dark] .colab-df-convert {\n",
       "      background-color: #3B4455;\n",
       "      fill: #D2E3FC;\n",
       "    }\n",
       "\n",
       "    [theme=dark] .colab-df-convert:hover {\n",
       "      background-color: #434B5C;\n",
       "      box-shadow: 0px 1px 3px 1px rgba(0, 0, 0, 0.15);\n",
       "      filter: drop-shadow(0px 1px 2px rgba(0, 0, 0, 0.3));\n",
       "      fill: #FFFFFF;\n",
       "    }\n",
       "  </style>\n",
       "\n",
       "      <script>\n",
       "        const buttonEl =\n",
       "          document.querySelector('#df-7d156ef8-cdf7-4e91-9326-213664d2e917 button.colab-df-convert');\n",
       "        buttonEl.style.display =\n",
       "          google.colab.kernel.accessAllowed ? 'block' : 'none';\n",
       "\n",
       "        async function convertToInteractive(key) {\n",
       "          const element = document.querySelector('#df-7d156ef8-cdf7-4e91-9326-213664d2e917');\n",
       "          const dataTable =\n",
       "            await google.colab.kernel.invokeFunction('convertToInteractive',\n",
       "                                                     [key], {});\n",
       "          if (!dataTable) return;\n",
       "\n",
       "          const docLinkHtml = 'Like what you see? Visit the ' +\n",
       "            '<a target=\"_blank\" href=https://colab.research.google.com/notebooks/data_table.ipynb>data table notebook</a>'\n",
       "            + ' to learn more about interactive tables.';\n",
       "          element.innerHTML = '';\n",
       "          dataTable['output_type'] = 'display_data';\n",
       "          await google.colab.output.renderOutput(dataTable, element);\n",
       "          const docLink = document.createElement('div');\n",
       "          docLink.innerHTML = docLinkHtml;\n",
       "          element.appendChild(docLink);\n",
       "        }\n",
       "      </script>\n",
       "    </div>\n",
       "  </div>\n",
       "  "
      ],
      "text/plain": [
       "                            cleaed_translated_review\n",
       "0                              meet requirement walk\n",
       "1  not see reliable not give two measure guide re..."
      ]
     },
     "execution_count": 31,
     "metadata": {},
     "output_type": "execute_result"
    }
   ],
   "source": [
    "df.head(2)"
   ]
  },
  {
   "cell_type": "code",
   "execution_count": 32,
   "metadata": {
    "colab": {
     "base_uri": "https://localhost:8080/"
    },
    "id": "-ZoWuAqDF0Qd",
    "outputId": "88f5b1cd-2a82-4e3c-a613-2555cd106f9e"
   },
   "outputs": [
    {
     "data": {
      "text/plain": [
       "[('good', 152),\n",
       " ('quality', 73),\n",
       " ('product', 58),\n",
       " ('price', 51),\n",
       " ('perfect', 48),\n",
       " ('work', 45),\n",
       " ('arrived', 35),\n",
       " ('put', 33),\n",
       " ('bought', 33),\n",
       " ('good quality', 32),\n",
       " ('time', 32),\n",
       " ('day', 31),\n",
       " ('bad', 31),\n",
       " ('beautiful', 30),\n",
       " ('buy', 30),\n",
       " ('fine', 30),\n",
       " ('recommend', 29),\n",
       " ('expected', 29),\n",
       " ('lot', 27),\n",
       " ('comfortable', 25),\n",
       " ('small', 25),\n",
       " ('fast', 24),\n",
       " ('give', 23),\n",
       " ('make', 23),\n",
       " ('photo', 22)]"
      ]
     },
     "execution_count": 32,
     "metadata": {},
     "output_type": "execute_result"
    }
   ],
   "source": [
    "def yake_extractor(data):\n",
    "    yake_kp_extractor = yake.KeywordExtractor()\n",
    "    keywords = yake_kp_extractor.extract_keywords(data)\n",
    "    keyword_list = []\n",
    "    \n",
    "    for kw in keywords:\n",
    "        keyword_list.append(kw[0])\n",
    "    return keyword_list\n",
    "\n",
    "keywords = df['cleaed_translated_review'].apply(yake_extractor)\n",
    "\n",
    "\n",
    "final_keywords = []\n",
    "\n",
    "for kw_ in keywords:\n",
    "    final_keywords.extend(kw_)\n",
    "\n",
    "count_keywords = Counter(final_keywords).most_common(25)\n",
    "count_keywords"
   ]
  },
  {
   "cell_type": "markdown",
   "metadata": {
    "id": "WbdoxuiQXKEF"
   },
   "source": [
    "The Yet Another Keyword Extractor (Yake) is an unsupervised automatic keyword extraction technique that uses text statistical features that are retrieved from individual documents to choose the most crucial keywords in a text. frequently used to extract important information from a collection of sentences or documents."
   ]
  },
  {
   "cell_type": "markdown",
   "metadata": {
    "id": "p-1coxxUz5aH"
   },
   "source": [
    "# Spliting the Features and Labels"
   ]
  },
  {
   "cell_type": "code",
   "execution_count": 33,
   "metadata": {
    "colab": {
     "base_uri": "https://localhost:8080/"
    },
    "id": "PnH1SPZWGRFD",
    "outputId": "93cfe1f5-52c3-4e44-d725-c75b67eb9716"
   },
   "outputs": [
    {
     "name": "stdout",
     "output_type": "stream",
     "text": [
      "X shape:  (1000,)\n"
     ]
    }
   ],
   "source": [
    "X = df['cleaed_translated_review']\n",
    "\n",
    "print('X shape: ',X.shape)"
   ]
  },
  {
   "cell_type": "markdown",
   "metadata": {
    "id": "HZo3PQU61iWD"
   },
   "source": [
    "# Feature Engineering"
   ]
  },
  {
   "cell_type": "markdown",
   "metadata": {
    "id": "2zOCDEuU1ZYk"
   },
   "source": [
    "## CountVectorizer"
   ]
  },
  {
   "cell_type": "code",
   "execution_count": 34,
   "metadata": {
    "colab": {
     "base_uri": "https://localhost:8080/"
    },
    "id": "KTV-QvyqGRNg",
    "outputId": "2f0bd8ec-8803-4de9-ca48-ea57a42770d9"
   },
   "outputs": [
    {
     "name": "stdout",
     "output_type": "stream",
     "text": [
      "X CountVectorizer shape:  (1000, 2596)\n"
     ]
    }
   ],
   "source": [
    "count_vector = CountVectorizer()\n",
    "count_vector.fit(X)\n",
    "X_countvectorizer = count_vector.transform(X).A\n",
    "\n",
    "print('X CountVectorizer shape: ',X_countvectorizer.shape)"
   ]
  },
  {
   "cell_type": "markdown",
   "metadata": {
    "id": "bLRlUSGVYGBe"
   },
   "source": [
    "Another name for \"CountVectorizer\" is Bag Of Words (BOW).\n",
    "Tokenization with the \"CountVectorizer\" (Tokenization is the process of breaking a sentence into words by performing preprocessing operations like changing all words to lowercase, removing special characters, etc.)\n",
    "\n",
    "As a consequence, an encoding vector is returned that contains the length of the full vocabulary as well as an integer count for how many times each word appears in the sentence (all words)."
   ]
  },
  {
   "cell_type": "code",
   "execution_count": 35,
   "metadata": {
    "colab": {
     "base_uri": "https://localhost:8080/",
     "height": 488
    },
    "id": "FlW5TSZOGRPt",
    "outputId": "38dde955-bc79-4cb8-f147-39a955bc823d"
   },
   "outputs": [
    {
     "data": {
      "text/html": [
       "\n",
       "  <div id=\"df-a36b0abf-1915-464a-95b5-9a3d3a4abbad\">\n",
       "    <div class=\"colab-df-container\">\n",
       "      <div>\n",
       "<style scoped>\n",
       "    .dataframe tbody tr th:only-of-type {\n",
       "        vertical-align: middle;\n",
       "    }\n",
       "\n",
       "    .dataframe tbody tr th {\n",
       "        vertical-align: top;\n",
       "    }\n",
       "\n",
       "    .dataframe thead th {\n",
       "        text-align: right;\n",
       "    }\n",
       "</style>\n",
       "<table border=\"1\" class=\"dataframe\">\n",
       "  <thead>\n",
       "    <tr style=\"text-align: right;\">\n",
       "      <th></th>\n",
       "      <th>able</th>\n",
       "      <th>ableall</th>\n",
       "      <th>abolished</th>\n",
       "      <th>abrupt</th>\n",
       "      <th>absence</th>\n",
       "      <th>absent</th>\n",
       "      <th>absolutely</th>\n",
       "      <th>absorb</th>\n",
       "      <th>absorbent</th>\n",
       "      <th>absorbs</th>\n",
       "      <th>...</th>\n",
       "      <th>yellowish</th>\n",
       "      <th>yes</th>\n",
       "      <th>yesterday</th>\n",
       "      <th>yet</th>\n",
       "      <th>young</th>\n",
       "      <th>youtube</th>\n",
       "      <th>zero</th>\n",
       "      <th>zip</th>\n",
       "      <th>zipper</th>\n",
       "      <th>zone</th>\n",
       "    </tr>\n",
       "  </thead>\n",
       "  <tbody>\n",
       "    <tr>\n",
       "      <th>0</th>\n",
       "      <td>0</td>\n",
       "      <td>0</td>\n",
       "      <td>0</td>\n",
       "      <td>0</td>\n",
       "      <td>0</td>\n",
       "      <td>0</td>\n",
       "      <td>0</td>\n",
       "      <td>0</td>\n",
       "      <td>0</td>\n",
       "      <td>0</td>\n",
       "      <td>...</td>\n",
       "      <td>0</td>\n",
       "      <td>0</td>\n",
       "      <td>0</td>\n",
       "      <td>0</td>\n",
       "      <td>0</td>\n",
       "      <td>0</td>\n",
       "      <td>0</td>\n",
       "      <td>0</td>\n",
       "      <td>0</td>\n",
       "      <td>0</td>\n",
       "    </tr>\n",
       "    <tr>\n",
       "      <th>1</th>\n",
       "      <td>0</td>\n",
       "      <td>0</td>\n",
       "      <td>0</td>\n",
       "      <td>0</td>\n",
       "      <td>0</td>\n",
       "      <td>0</td>\n",
       "      <td>0</td>\n",
       "      <td>0</td>\n",
       "      <td>0</td>\n",
       "      <td>0</td>\n",
       "      <td>...</td>\n",
       "      <td>0</td>\n",
       "      <td>0</td>\n",
       "      <td>0</td>\n",
       "      <td>0</td>\n",
       "      <td>0</td>\n",
       "      <td>0</td>\n",
       "      <td>0</td>\n",
       "      <td>0</td>\n",
       "      <td>0</td>\n",
       "      <td>0</td>\n",
       "    </tr>\n",
       "    <tr>\n",
       "      <th>2</th>\n",
       "      <td>0</td>\n",
       "      <td>0</td>\n",
       "      <td>0</td>\n",
       "      <td>0</td>\n",
       "      <td>0</td>\n",
       "      <td>0</td>\n",
       "      <td>0</td>\n",
       "      <td>0</td>\n",
       "      <td>0</td>\n",
       "      <td>0</td>\n",
       "      <td>...</td>\n",
       "      <td>0</td>\n",
       "      <td>0</td>\n",
       "      <td>0</td>\n",
       "      <td>0</td>\n",
       "      <td>0</td>\n",
       "      <td>0</td>\n",
       "      <td>0</td>\n",
       "      <td>0</td>\n",
       "      <td>0</td>\n",
       "      <td>0</td>\n",
       "    </tr>\n",
       "    <tr>\n",
       "      <th>3</th>\n",
       "      <td>0</td>\n",
       "      <td>0</td>\n",
       "      <td>0</td>\n",
       "      <td>0</td>\n",
       "      <td>0</td>\n",
       "      <td>0</td>\n",
       "      <td>0</td>\n",
       "      <td>0</td>\n",
       "      <td>0</td>\n",
       "      <td>0</td>\n",
       "      <td>...</td>\n",
       "      <td>0</td>\n",
       "      <td>0</td>\n",
       "      <td>0</td>\n",
       "      <td>0</td>\n",
       "      <td>0</td>\n",
       "      <td>0</td>\n",
       "      <td>0</td>\n",
       "      <td>0</td>\n",
       "      <td>0</td>\n",
       "      <td>0</td>\n",
       "    </tr>\n",
       "    <tr>\n",
       "      <th>4</th>\n",
       "      <td>0</td>\n",
       "      <td>0</td>\n",
       "      <td>0</td>\n",
       "      <td>0</td>\n",
       "      <td>0</td>\n",
       "      <td>0</td>\n",
       "      <td>0</td>\n",
       "      <td>0</td>\n",
       "      <td>0</td>\n",
       "      <td>0</td>\n",
       "      <td>...</td>\n",
       "      <td>0</td>\n",
       "      <td>0</td>\n",
       "      <td>0</td>\n",
       "      <td>0</td>\n",
       "      <td>0</td>\n",
       "      <td>0</td>\n",
       "      <td>0</td>\n",
       "      <td>0</td>\n",
       "      <td>0</td>\n",
       "      <td>0</td>\n",
       "    </tr>\n",
       "    <tr>\n",
       "      <th>...</th>\n",
       "      <td>...</td>\n",
       "      <td>...</td>\n",
       "      <td>...</td>\n",
       "      <td>...</td>\n",
       "      <td>...</td>\n",
       "      <td>...</td>\n",
       "      <td>...</td>\n",
       "      <td>...</td>\n",
       "      <td>...</td>\n",
       "      <td>...</td>\n",
       "      <td>...</td>\n",
       "      <td>...</td>\n",
       "      <td>...</td>\n",
       "      <td>...</td>\n",
       "      <td>...</td>\n",
       "      <td>...</td>\n",
       "      <td>...</td>\n",
       "      <td>...</td>\n",
       "      <td>...</td>\n",
       "      <td>...</td>\n",
       "      <td>...</td>\n",
       "    </tr>\n",
       "    <tr>\n",
       "      <th>995</th>\n",
       "      <td>0</td>\n",
       "      <td>0</td>\n",
       "      <td>0</td>\n",
       "      <td>0</td>\n",
       "      <td>0</td>\n",
       "      <td>0</td>\n",
       "      <td>0</td>\n",
       "      <td>0</td>\n",
       "      <td>0</td>\n",
       "      <td>0</td>\n",
       "      <td>...</td>\n",
       "      <td>0</td>\n",
       "      <td>0</td>\n",
       "      <td>0</td>\n",
       "      <td>0</td>\n",
       "      <td>0</td>\n",
       "      <td>0</td>\n",
       "      <td>0</td>\n",
       "      <td>0</td>\n",
       "      <td>0</td>\n",
       "      <td>0</td>\n",
       "    </tr>\n",
       "    <tr>\n",
       "      <th>996</th>\n",
       "      <td>0</td>\n",
       "      <td>0</td>\n",
       "      <td>0</td>\n",
       "      <td>0</td>\n",
       "      <td>0</td>\n",
       "      <td>0</td>\n",
       "      <td>0</td>\n",
       "      <td>0</td>\n",
       "      <td>0</td>\n",
       "      <td>0</td>\n",
       "      <td>...</td>\n",
       "      <td>0</td>\n",
       "      <td>0</td>\n",
       "      <td>0</td>\n",
       "      <td>0</td>\n",
       "      <td>0</td>\n",
       "      <td>0</td>\n",
       "      <td>0</td>\n",
       "      <td>0</td>\n",
       "      <td>0</td>\n",
       "      <td>0</td>\n",
       "    </tr>\n",
       "    <tr>\n",
       "      <th>997</th>\n",
       "      <td>0</td>\n",
       "      <td>0</td>\n",
       "      <td>0</td>\n",
       "      <td>0</td>\n",
       "      <td>0</td>\n",
       "      <td>0</td>\n",
       "      <td>0</td>\n",
       "      <td>0</td>\n",
       "      <td>0</td>\n",
       "      <td>0</td>\n",
       "      <td>...</td>\n",
       "      <td>0</td>\n",
       "      <td>0</td>\n",
       "      <td>0</td>\n",
       "      <td>0</td>\n",
       "      <td>0</td>\n",
       "      <td>0</td>\n",
       "      <td>0</td>\n",
       "      <td>0</td>\n",
       "      <td>0</td>\n",
       "      <td>0</td>\n",
       "    </tr>\n",
       "    <tr>\n",
       "      <th>998</th>\n",
       "      <td>0</td>\n",
       "      <td>0</td>\n",
       "      <td>0</td>\n",
       "      <td>0</td>\n",
       "      <td>0</td>\n",
       "      <td>0</td>\n",
       "      <td>0</td>\n",
       "      <td>0</td>\n",
       "      <td>0</td>\n",
       "      <td>0</td>\n",
       "      <td>...</td>\n",
       "      <td>0</td>\n",
       "      <td>0</td>\n",
       "      <td>0</td>\n",
       "      <td>0</td>\n",
       "      <td>0</td>\n",
       "      <td>0</td>\n",
       "      <td>0</td>\n",
       "      <td>0</td>\n",
       "      <td>0</td>\n",
       "      <td>0</td>\n",
       "    </tr>\n",
       "    <tr>\n",
       "      <th>999</th>\n",
       "      <td>0</td>\n",
       "      <td>0</td>\n",
       "      <td>0</td>\n",
       "      <td>0</td>\n",
       "      <td>0</td>\n",
       "      <td>0</td>\n",
       "      <td>0</td>\n",
       "      <td>0</td>\n",
       "      <td>0</td>\n",
       "      <td>0</td>\n",
       "      <td>...</td>\n",
       "      <td>0</td>\n",
       "      <td>0</td>\n",
       "      <td>0</td>\n",
       "      <td>0</td>\n",
       "      <td>0</td>\n",
       "      <td>0</td>\n",
       "      <td>0</td>\n",
       "      <td>0</td>\n",
       "      <td>0</td>\n",
       "      <td>0</td>\n",
       "    </tr>\n",
       "  </tbody>\n",
       "</table>\n",
       "<p>1000 rows × 2596 columns</p>\n",
       "</div>\n",
       "      <button class=\"colab-df-convert\" onclick=\"convertToInteractive('df-a36b0abf-1915-464a-95b5-9a3d3a4abbad')\"\n",
       "              title=\"Convert this dataframe to an interactive table.\"\n",
       "              style=\"display:none;\">\n",
       "        \n",
       "  <svg xmlns=\"http://www.w3.org/2000/svg\" height=\"24px\"viewBox=\"0 0 24 24\"\n",
       "       width=\"24px\">\n",
       "    <path d=\"M0 0h24v24H0V0z\" fill=\"none\"/>\n",
       "    <path d=\"M18.56 5.44l.94 2.06.94-2.06 2.06-.94-2.06-.94-.94-2.06-.94 2.06-2.06.94zm-11 1L8.5 8.5l.94-2.06 2.06-.94-2.06-.94L8.5 2.5l-.94 2.06-2.06.94zm10 10l.94 2.06.94-2.06 2.06-.94-2.06-.94-.94-2.06-.94 2.06-2.06.94z\"/><path d=\"M17.41 7.96l-1.37-1.37c-.4-.4-.92-.59-1.43-.59-.52 0-1.04.2-1.43.59L10.3 9.45l-7.72 7.72c-.78.78-.78 2.05 0 2.83L4 21.41c.39.39.9.59 1.41.59.51 0 1.02-.2 1.41-.59l7.78-7.78 2.81-2.81c.8-.78.8-2.07 0-2.86zM5.41 20L4 18.59l7.72-7.72 1.47 1.35L5.41 20z\"/>\n",
       "  </svg>\n",
       "      </button>\n",
       "      \n",
       "  <style>\n",
       "    .colab-df-container {\n",
       "      display:flex;\n",
       "      flex-wrap:wrap;\n",
       "      gap: 12px;\n",
       "    }\n",
       "\n",
       "    .colab-df-convert {\n",
       "      background-color: #E8F0FE;\n",
       "      border: none;\n",
       "      border-radius: 50%;\n",
       "      cursor: pointer;\n",
       "      display: none;\n",
       "      fill: #1967D2;\n",
       "      height: 32px;\n",
       "      padding: 0 0 0 0;\n",
       "      width: 32px;\n",
       "    }\n",
       "\n",
       "    .colab-df-convert:hover {\n",
       "      background-color: #E2EBFA;\n",
       "      box-shadow: 0px 1px 2px rgba(60, 64, 67, 0.3), 0px 1px 3px 1px rgba(60, 64, 67, 0.15);\n",
       "      fill: #174EA6;\n",
       "    }\n",
       "\n",
       "    [theme=dark] .colab-df-convert {\n",
       "      background-color: #3B4455;\n",
       "      fill: #D2E3FC;\n",
       "    }\n",
       "\n",
       "    [theme=dark] .colab-df-convert:hover {\n",
       "      background-color: #434B5C;\n",
       "      box-shadow: 0px 1px 3px 1px rgba(0, 0, 0, 0.15);\n",
       "      filter: drop-shadow(0px 1px 2px rgba(0, 0, 0, 0.3));\n",
       "      fill: #FFFFFF;\n",
       "    }\n",
       "  </style>\n",
       "\n",
       "      <script>\n",
       "        const buttonEl =\n",
       "          document.querySelector('#df-a36b0abf-1915-464a-95b5-9a3d3a4abbad button.colab-df-convert');\n",
       "        buttonEl.style.display =\n",
       "          google.colab.kernel.accessAllowed ? 'block' : 'none';\n",
       "\n",
       "        async function convertToInteractive(key) {\n",
       "          const element = document.querySelector('#df-a36b0abf-1915-464a-95b5-9a3d3a4abbad');\n",
       "          const dataTable =\n",
       "            await google.colab.kernel.invokeFunction('convertToInteractive',\n",
       "                                                     [key], {});\n",
       "          if (!dataTable) return;\n",
       "\n",
       "          const docLinkHtml = 'Like what you see? Visit the ' +\n",
       "            '<a target=\"_blank\" href=https://colab.research.google.com/notebooks/data_table.ipynb>data table notebook</a>'\n",
       "            + ' to learn more about interactive tables.';\n",
       "          element.innerHTML = '';\n",
       "          dataTable['output_type'] = 'display_data';\n",
       "          await google.colab.output.renderOutput(dataTable, element);\n",
       "          const docLink = document.createElement('div');\n",
       "          docLink.innerHTML = docLinkHtml;\n",
       "          element.appendChild(docLink);\n",
       "        }\n",
       "      </script>\n",
       "    </div>\n",
       "  </div>\n",
       "  "
      ],
      "text/plain": [
       "     able  ableall  abolished  abrupt  absence  absent  absolutely  absorb  \\\n",
       "0       0        0          0       0        0       0           0       0   \n",
       "1       0        0          0       0        0       0           0       0   \n",
       "2       0        0          0       0        0       0           0       0   \n",
       "3       0        0          0       0        0       0           0       0   \n",
       "4       0        0          0       0        0       0           0       0   \n",
       "..    ...      ...        ...     ...      ...     ...         ...     ...   \n",
       "995     0        0          0       0        0       0           0       0   \n",
       "996     0        0          0       0        0       0           0       0   \n",
       "997     0        0          0       0        0       0           0       0   \n",
       "998     0        0          0       0        0       0           0       0   \n",
       "999     0        0          0       0        0       0           0       0   \n",
       "\n",
       "     absorbent  absorbs  ...  yellowish  yes  yesterday  yet  young  youtube  \\\n",
       "0            0        0  ...          0    0          0    0      0        0   \n",
       "1            0        0  ...          0    0          0    0      0        0   \n",
       "2            0        0  ...          0    0          0    0      0        0   \n",
       "3            0        0  ...          0    0          0    0      0        0   \n",
       "4            0        0  ...          0    0          0    0      0        0   \n",
       "..         ...      ...  ...        ...  ...        ...  ...    ...      ...   \n",
       "995          0        0  ...          0    0          0    0      0        0   \n",
       "996          0        0  ...          0    0          0    0      0        0   \n",
       "997          0        0  ...          0    0          0    0      0        0   \n",
       "998          0        0  ...          0    0          0    0      0        0   \n",
       "999          0        0  ...          0    0          0    0      0        0   \n",
       "\n",
       "     zero  zip  zipper  zone  \n",
       "0       0    0       0     0  \n",
       "1       0    0       0     0  \n",
       "2       0    0       0     0  \n",
       "3       0    0       0     0  \n",
       "4       0    0       0     0  \n",
       "..    ...  ...     ...   ...  \n",
       "995     0    0       0     0  \n",
       "996     0    0       0     0  \n",
       "997     0    0       0     0  \n",
       "998     0    0       0     0  \n",
       "999     0    0       0     0  \n",
       "\n",
       "[1000 rows x 2596 columns]"
      ]
     },
     "execution_count": 35,
     "metadata": {},
     "output_type": "execute_result"
    }
   ],
   "source": [
    "pd.DataFrame(X_countvectorizer, columns = count_vector.get_feature_names_out())"
   ]
  },
  {
   "cell_type": "markdown",
   "metadata": {
    "id": "YfUuYoy11Lzi"
   },
   "source": [
    "# TF-IDF"
   ]
  },
  {
   "cell_type": "code",
   "execution_count": 36,
   "metadata": {
    "colab": {
     "base_uri": "https://localhost:8080/"
    },
    "id": "pWoWL1H9GRUR",
    "outputId": "a9ab26df-9242-4fa1-e196-60bcdd3089f7"
   },
   "outputs": [
    {
     "name": "stdout",
     "output_type": "stream",
     "text": [
      "X TF-IDF shape:  (1000, 2596)\n"
     ]
    }
   ],
   "source": [
    "tfidf = TfidfVectorizer()\n",
    "tfidf.fit(X)\n",
    "\n",
    "X_tfidf = tfidf.transform(X).A\n",
    "\n",
    "print('X TF-IDF shape: ',X_tfidf.shape)\n"
   ]
  },
  {
   "cell_type": "markdown",
   "metadata": {
    "id": "Ekj2oz1KYfiW"
   },
   "source": [
    "TF-IDF stands for term frequency-inverse document frequency.\n",
    "\n",
    "TF >> The way term frequency works is by examining how frequently a specific phrase is used in relation to the document. There are various frequency definitions or metrics, including:\n",
    "\n",
    "occurrences of the word in a document (raw count).\n",
    "Adjusted for document length, term frequency (raw count of occurences divided by number of words in the document).\n",
    "\n",
    "The inverse document frequency (IDF) method examines how frequently (or infrequently) a word appears in the corpus. IDF is calculated as follows, where N is the number of documents (d) in the corpus and t is the term (word) we are attempting to gauge the commonness of (D).. The number of documents that contain the phrase \"t\" serves as the denominator."
   ]
  },
  {
   "cell_type": "code",
   "execution_count": 37,
   "metadata": {
    "colab": {
     "base_uri": "https://localhost:8080/",
     "height": 488
    },
    "id": "m-wltW_1GRXu",
    "outputId": "bb071192-570a-4da8-9730-7502d584f5d4"
   },
   "outputs": [
    {
     "data": {
      "text/html": [
       "\n",
       "  <div id=\"df-9f23f1ca-51c2-4f9f-8235-550b2fe983bd\">\n",
       "    <div class=\"colab-df-container\">\n",
       "      <div>\n",
       "<style scoped>\n",
       "    .dataframe tbody tr th:only-of-type {\n",
       "        vertical-align: middle;\n",
       "    }\n",
       "\n",
       "    .dataframe tbody tr th {\n",
       "        vertical-align: top;\n",
       "    }\n",
       "\n",
       "    .dataframe thead th {\n",
       "        text-align: right;\n",
       "    }\n",
       "</style>\n",
       "<table border=\"1\" class=\"dataframe\">\n",
       "  <thead>\n",
       "    <tr style=\"text-align: right;\">\n",
       "      <th></th>\n",
       "      <th>able</th>\n",
       "      <th>ableall</th>\n",
       "      <th>abolished</th>\n",
       "      <th>abrupt</th>\n",
       "      <th>absence</th>\n",
       "      <th>absent</th>\n",
       "      <th>absolutely</th>\n",
       "      <th>absorb</th>\n",
       "      <th>absorbent</th>\n",
       "      <th>absorbs</th>\n",
       "      <th>...</th>\n",
       "      <th>yellowish</th>\n",
       "      <th>yes</th>\n",
       "      <th>yesterday</th>\n",
       "      <th>yet</th>\n",
       "      <th>young</th>\n",
       "      <th>youtube</th>\n",
       "      <th>zero</th>\n",
       "      <th>zip</th>\n",
       "      <th>zipper</th>\n",
       "      <th>zone</th>\n",
       "    </tr>\n",
       "  </thead>\n",
       "  <tbody>\n",
       "    <tr>\n",
       "      <th>0</th>\n",
       "      <td>0.0</td>\n",
       "      <td>0.0</td>\n",
       "      <td>0.0</td>\n",
       "      <td>0.0</td>\n",
       "      <td>0.0</td>\n",
       "      <td>0.0</td>\n",
       "      <td>0.0</td>\n",
       "      <td>0.0</td>\n",
       "      <td>0.0</td>\n",
       "      <td>0.0</td>\n",
       "      <td>...</td>\n",
       "      <td>0.0</td>\n",
       "      <td>0.0</td>\n",
       "      <td>0.0</td>\n",
       "      <td>0.0</td>\n",
       "      <td>0.0</td>\n",
       "      <td>0.0</td>\n",
       "      <td>0.0</td>\n",
       "      <td>0.0</td>\n",
       "      <td>0.0</td>\n",
       "      <td>0.0</td>\n",
       "    </tr>\n",
       "    <tr>\n",
       "      <th>1</th>\n",
       "      <td>0.0</td>\n",
       "      <td>0.0</td>\n",
       "      <td>0.0</td>\n",
       "      <td>0.0</td>\n",
       "      <td>0.0</td>\n",
       "      <td>0.0</td>\n",
       "      <td>0.0</td>\n",
       "      <td>0.0</td>\n",
       "      <td>0.0</td>\n",
       "      <td>0.0</td>\n",
       "      <td>...</td>\n",
       "      <td>0.0</td>\n",
       "      <td>0.0</td>\n",
       "      <td>0.0</td>\n",
       "      <td>0.0</td>\n",
       "      <td>0.0</td>\n",
       "      <td>0.0</td>\n",
       "      <td>0.0</td>\n",
       "      <td>0.0</td>\n",
       "      <td>0.0</td>\n",
       "      <td>0.0</td>\n",
       "    </tr>\n",
       "    <tr>\n",
       "      <th>2</th>\n",
       "      <td>0.0</td>\n",
       "      <td>0.0</td>\n",
       "      <td>0.0</td>\n",
       "      <td>0.0</td>\n",
       "      <td>0.0</td>\n",
       "      <td>0.0</td>\n",
       "      <td>0.0</td>\n",
       "      <td>0.0</td>\n",
       "      <td>0.0</td>\n",
       "      <td>0.0</td>\n",
       "      <td>...</td>\n",
       "      <td>0.0</td>\n",
       "      <td>0.0</td>\n",
       "      <td>0.0</td>\n",
       "      <td>0.0</td>\n",
       "      <td>0.0</td>\n",
       "      <td>0.0</td>\n",
       "      <td>0.0</td>\n",
       "      <td>0.0</td>\n",
       "      <td>0.0</td>\n",
       "      <td>0.0</td>\n",
       "    </tr>\n",
       "    <tr>\n",
       "      <th>3</th>\n",
       "      <td>0.0</td>\n",
       "      <td>0.0</td>\n",
       "      <td>0.0</td>\n",
       "      <td>0.0</td>\n",
       "      <td>0.0</td>\n",
       "      <td>0.0</td>\n",
       "      <td>0.0</td>\n",
       "      <td>0.0</td>\n",
       "      <td>0.0</td>\n",
       "      <td>0.0</td>\n",
       "      <td>...</td>\n",
       "      <td>0.0</td>\n",
       "      <td>0.0</td>\n",
       "      <td>0.0</td>\n",
       "      <td>0.0</td>\n",
       "      <td>0.0</td>\n",
       "      <td>0.0</td>\n",
       "      <td>0.0</td>\n",
       "      <td>0.0</td>\n",
       "      <td>0.0</td>\n",
       "      <td>0.0</td>\n",
       "    </tr>\n",
       "    <tr>\n",
       "      <th>4</th>\n",
       "      <td>0.0</td>\n",
       "      <td>0.0</td>\n",
       "      <td>0.0</td>\n",
       "      <td>0.0</td>\n",
       "      <td>0.0</td>\n",
       "      <td>0.0</td>\n",
       "      <td>0.0</td>\n",
       "      <td>0.0</td>\n",
       "      <td>0.0</td>\n",
       "      <td>0.0</td>\n",
       "      <td>...</td>\n",
       "      <td>0.0</td>\n",
       "      <td>0.0</td>\n",
       "      <td>0.0</td>\n",
       "      <td>0.0</td>\n",
       "      <td>0.0</td>\n",
       "      <td>0.0</td>\n",
       "      <td>0.0</td>\n",
       "      <td>0.0</td>\n",
       "      <td>0.0</td>\n",
       "      <td>0.0</td>\n",
       "    </tr>\n",
       "    <tr>\n",
       "      <th>...</th>\n",
       "      <td>...</td>\n",
       "      <td>...</td>\n",
       "      <td>...</td>\n",
       "      <td>...</td>\n",
       "      <td>...</td>\n",
       "      <td>...</td>\n",
       "      <td>...</td>\n",
       "      <td>...</td>\n",
       "      <td>...</td>\n",
       "      <td>...</td>\n",
       "      <td>...</td>\n",
       "      <td>...</td>\n",
       "      <td>...</td>\n",
       "      <td>...</td>\n",
       "      <td>...</td>\n",
       "      <td>...</td>\n",
       "      <td>...</td>\n",
       "      <td>...</td>\n",
       "      <td>...</td>\n",
       "      <td>...</td>\n",
       "      <td>...</td>\n",
       "    </tr>\n",
       "    <tr>\n",
       "      <th>995</th>\n",
       "      <td>0.0</td>\n",
       "      <td>0.0</td>\n",
       "      <td>0.0</td>\n",
       "      <td>0.0</td>\n",
       "      <td>0.0</td>\n",
       "      <td>0.0</td>\n",
       "      <td>0.0</td>\n",
       "      <td>0.0</td>\n",
       "      <td>0.0</td>\n",
       "      <td>0.0</td>\n",
       "      <td>...</td>\n",
       "      <td>0.0</td>\n",
       "      <td>0.0</td>\n",
       "      <td>0.0</td>\n",
       "      <td>0.0</td>\n",
       "      <td>0.0</td>\n",
       "      <td>0.0</td>\n",
       "      <td>0.0</td>\n",
       "      <td>0.0</td>\n",
       "      <td>0.0</td>\n",
       "      <td>0.0</td>\n",
       "    </tr>\n",
       "    <tr>\n",
       "      <th>996</th>\n",
       "      <td>0.0</td>\n",
       "      <td>0.0</td>\n",
       "      <td>0.0</td>\n",
       "      <td>0.0</td>\n",
       "      <td>0.0</td>\n",
       "      <td>0.0</td>\n",
       "      <td>0.0</td>\n",
       "      <td>0.0</td>\n",
       "      <td>0.0</td>\n",
       "      <td>0.0</td>\n",
       "      <td>...</td>\n",
       "      <td>0.0</td>\n",
       "      <td>0.0</td>\n",
       "      <td>0.0</td>\n",
       "      <td>0.0</td>\n",
       "      <td>0.0</td>\n",
       "      <td>0.0</td>\n",
       "      <td>0.0</td>\n",
       "      <td>0.0</td>\n",
       "      <td>0.0</td>\n",
       "      <td>0.0</td>\n",
       "    </tr>\n",
       "    <tr>\n",
       "      <th>997</th>\n",
       "      <td>0.0</td>\n",
       "      <td>0.0</td>\n",
       "      <td>0.0</td>\n",
       "      <td>0.0</td>\n",
       "      <td>0.0</td>\n",
       "      <td>0.0</td>\n",
       "      <td>0.0</td>\n",
       "      <td>0.0</td>\n",
       "      <td>0.0</td>\n",
       "      <td>0.0</td>\n",
       "      <td>...</td>\n",
       "      <td>0.0</td>\n",
       "      <td>0.0</td>\n",
       "      <td>0.0</td>\n",
       "      <td>0.0</td>\n",
       "      <td>0.0</td>\n",
       "      <td>0.0</td>\n",
       "      <td>0.0</td>\n",
       "      <td>0.0</td>\n",
       "      <td>0.0</td>\n",
       "      <td>0.0</td>\n",
       "    </tr>\n",
       "    <tr>\n",
       "      <th>998</th>\n",
       "      <td>0.0</td>\n",
       "      <td>0.0</td>\n",
       "      <td>0.0</td>\n",
       "      <td>0.0</td>\n",
       "      <td>0.0</td>\n",
       "      <td>0.0</td>\n",
       "      <td>0.0</td>\n",
       "      <td>0.0</td>\n",
       "      <td>0.0</td>\n",
       "      <td>0.0</td>\n",
       "      <td>...</td>\n",
       "      <td>0.0</td>\n",
       "      <td>0.0</td>\n",
       "      <td>0.0</td>\n",
       "      <td>0.0</td>\n",
       "      <td>0.0</td>\n",
       "      <td>0.0</td>\n",
       "      <td>0.0</td>\n",
       "      <td>0.0</td>\n",
       "      <td>0.0</td>\n",
       "      <td>0.0</td>\n",
       "    </tr>\n",
       "    <tr>\n",
       "      <th>999</th>\n",
       "      <td>0.0</td>\n",
       "      <td>0.0</td>\n",
       "      <td>0.0</td>\n",
       "      <td>0.0</td>\n",
       "      <td>0.0</td>\n",
       "      <td>0.0</td>\n",
       "      <td>0.0</td>\n",
       "      <td>0.0</td>\n",
       "      <td>0.0</td>\n",
       "      <td>0.0</td>\n",
       "      <td>...</td>\n",
       "      <td>0.0</td>\n",
       "      <td>0.0</td>\n",
       "      <td>0.0</td>\n",
       "      <td>0.0</td>\n",
       "      <td>0.0</td>\n",
       "      <td>0.0</td>\n",
       "      <td>0.0</td>\n",
       "      <td>0.0</td>\n",
       "      <td>0.0</td>\n",
       "      <td>0.0</td>\n",
       "    </tr>\n",
       "  </tbody>\n",
       "</table>\n",
       "<p>1000 rows × 2596 columns</p>\n",
       "</div>\n",
       "      <button class=\"colab-df-convert\" onclick=\"convertToInteractive('df-9f23f1ca-51c2-4f9f-8235-550b2fe983bd')\"\n",
       "              title=\"Convert this dataframe to an interactive table.\"\n",
       "              style=\"display:none;\">\n",
       "        \n",
       "  <svg xmlns=\"http://www.w3.org/2000/svg\" height=\"24px\"viewBox=\"0 0 24 24\"\n",
       "       width=\"24px\">\n",
       "    <path d=\"M0 0h24v24H0V0z\" fill=\"none\"/>\n",
       "    <path d=\"M18.56 5.44l.94 2.06.94-2.06 2.06-.94-2.06-.94-.94-2.06-.94 2.06-2.06.94zm-11 1L8.5 8.5l.94-2.06 2.06-.94-2.06-.94L8.5 2.5l-.94 2.06-2.06.94zm10 10l.94 2.06.94-2.06 2.06-.94-2.06-.94-.94-2.06-.94 2.06-2.06.94z\"/><path d=\"M17.41 7.96l-1.37-1.37c-.4-.4-.92-.59-1.43-.59-.52 0-1.04.2-1.43.59L10.3 9.45l-7.72 7.72c-.78.78-.78 2.05 0 2.83L4 21.41c.39.39.9.59 1.41.59.51 0 1.02-.2 1.41-.59l7.78-7.78 2.81-2.81c.8-.78.8-2.07 0-2.86zM5.41 20L4 18.59l7.72-7.72 1.47 1.35L5.41 20z\"/>\n",
       "  </svg>\n",
       "      </button>\n",
       "      \n",
       "  <style>\n",
       "    .colab-df-container {\n",
       "      display:flex;\n",
       "      flex-wrap:wrap;\n",
       "      gap: 12px;\n",
       "    }\n",
       "\n",
       "    .colab-df-convert {\n",
       "      background-color: #E8F0FE;\n",
       "      border: none;\n",
       "      border-radius: 50%;\n",
       "      cursor: pointer;\n",
       "      display: none;\n",
       "      fill: #1967D2;\n",
       "      height: 32px;\n",
       "      padding: 0 0 0 0;\n",
       "      width: 32px;\n",
       "    }\n",
       "\n",
       "    .colab-df-convert:hover {\n",
       "      background-color: #E2EBFA;\n",
       "      box-shadow: 0px 1px 2px rgba(60, 64, 67, 0.3), 0px 1px 3px 1px rgba(60, 64, 67, 0.15);\n",
       "      fill: #174EA6;\n",
       "    }\n",
       "\n",
       "    [theme=dark] .colab-df-convert {\n",
       "      background-color: #3B4455;\n",
       "      fill: #D2E3FC;\n",
       "    }\n",
       "\n",
       "    [theme=dark] .colab-df-convert:hover {\n",
       "      background-color: #434B5C;\n",
       "      box-shadow: 0px 1px 3px 1px rgba(0, 0, 0, 0.15);\n",
       "      filter: drop-shadow(0px 1px 2px rgba(0, 0, 0, 0.3));\n",
       "      fill: #FFFFFF;\n",
       "    }\n",
       "  </style>\n",
       "\n",
       "      <script>\n",
       "        const buttonEl =\n",
       "          document.querySelector('#df-9f23f1ca-51c2-4f9f-8235-550b2fe983bd button.colab-df-convert');\n",
       "        buttonEl.style.display =\n",
       "          google.colab.kernel.accessAllowed ? 'block' : 'none';\n",
       "\n",
       "        async function convertToInteractive(key) {\n",
       "          const element = document.querySelector('#df-9f23f1ca-51c2-4f9f-8235-550b2fe983bd');\n",
       "          const dataTable =\n",
       "            await google.colab.kernel.invokeFunction('convertToInteractive',\n",
       "                                                     [key], {});\n",
       "          if (!dataTable) return;\n",
       "\n",
       "          const docLinkHtml = 'Like what you see? Visit the ' +\n",
       "            '<a target=\"_blank\" href=https://colab.research.google.com/notebooks/data_table.ipynb>data table notebook</a>'\n",
       "            + ' to learn more about interactive tables.';\n",
       "          element.innerHTML = '';\n",
       "          dataTable['output_type'] = 'display_data';\n",
       "          await google.colab.output.renderOutput(dataTable, element);\n",
       "          const docLink = document.createElement('div');\n",
       "          docLink.innerHTML = docLinkHtml;\n",
       "          element.appendChild(docLink);\n",
       "        }\n",
       "      </script>\n",
       "    </div>\n",
       "  </div>\n",
       "  "
      ],
      "text/plain": [
       "     able  ableall  abolished  abrupt  absence  absent  absolutely  absorb  \\\n",
       "0     0.0      0.0        0.0     0.0      0.0     0.0         0.0     0.0   \n",
       "1     0.0      0.0        0.0     0.0      0.0     0.0         0.0     0.0   \n",
       "2     0.0      0.0        0.0     0.0      0.0     0.0         0.0     0.0   \n",
       "3     0.0      0.0        0.0     0.0      0.0     0.0         0.0     0.0   \n",
       "4     0.0      0.0        0.0     0.0      0.0     0.0         0.0     0.0   \n",
       "..    ...      ...        ...     ...      ...     ...         ...     ...   \n",
       "995   0.0      0.0        0.0     0.0      0.0     0.0         0.0     0.0   \n",
       "996   0.0      0.0        0.0     0.0      0.0     0.0         0.0     0.0   \n",
       "997   0.0      0.0        0.0     0.0      0.0     0.0         0.0     0.0   \n",
       "998   0.0      0.0        0.0     0.0      0.0     0.0         0.0     0.0   \n",
       "999   0.0      0.0        0.0     0.0      0.0     0.0         0.0     0.0   \n",
       "\n",
       "     absorbent  absorbs  ...  yellowish  yes  yesterday  yet  young  youtube  \\\n",
       "0          0.0      0.0  ...        0.0  0.0        0.0  0.0    0.0      0.0   \n",
       "1          0.0      0.0  ...        0.0  0.0        0.0  0.0    0.0      0.0   \n",
       "2          0.0      0.0  ...        0.0  0.0        0.0  0.0    0.0      0.0   \n",
       "3          0.0      0.0  ...        0.0  0.0        0.0  0.0    0.0      0.0   \n",
       "4          0.0      0.0  ...        0.0  0.0        0.0  0.0    0.0      0.0   \n",
       "..         ...      ...  ...        ...  ...        ...  ...    ...      ...   \n",
       "995        0.0      0.0  ...        0.0  0.0        0.0  0.0    0.0      0.0   \n",
       "996        0.0      0.0  ...        0.0  0.0        0.0  0.0    0.0      0.0   \n",
       "997        0.0      0.0  ...        0.0  0.0        0.0  0.0    0.0      0.0   \n",
       "998        0.0      0.0  ...        0.0  0.0        0.0  0.0    0.0      0.0   \n",
       "999        0.0      0.0  ...        0.0  0.0        0.0  0.0    0.0      0.0   \n",
       "\n",
       "     zero  zip  zipper  zone  \n",
       "0     0.0  0.0     0.0   0.0  \n",
       "1     0.0  0.0     0.0   0.0  \n",
       "2     0.0  0.0     0.0   0.0  \n",
       "3     0.0  0.0     0.0   0.0  \n",
       "4     0.0  0.0     0.0   0.0  \n",
       "..    ...  ...     ...   ...  \n",
       "995   0.0  0.0     0.0   0.0  \n",
       "996   0.0  0.0     0.0   0.0  \n",
       "997   0.0  0.0     0.0   0.0  \n",
       "998   0.0  0.0     0.0   0.0  \n",
       "999   0.0  0.0     0.0   0.0  \n",
       "\n",
       "[1000 rows x 2596 columns]"
      ]
     },
     "execution_count": 37,
     "metadata": {},
     "output_type": "execute_result"
    }
   ],
   "source": [
    "pd.DataFrame(X_tfidf, columns = tfidf.get_feature_names_out())"
   ]
  },
  {
   "cell_type": "markdown",
   "metadata": {
    "id": "siz4ve2h1EBV"
   },
   "source": [
    "# Word2Vec Customized"
   ]
  },
  {
   "cell_type": "code",
   "execution_count": 38,
   "metadata": {
    "colab": {
     "base_uri": "https://localhost:8080/"
    },
    "id": "9b6fVLrRGRc2",
    "outputId": "c0665f9f-1ca6-4498-ff19-49bf6e941279"
   },
   "outputs": [
    {
     "name": "stdout",
     "output_type": "stream",
     "text": [
      "[['meet', 'requirement', 'walk'], ['not', 'see', 'reliable', 'not', 'give', 'two', 'measure', 'guide', 'reliable', 'measure', 'not', 'see', 'good'], ['incredible', 'aroma', 'enjoy'], ['okay', 'normal', 'spend', 'afternoon', 'fulfills', 'function', 'well'], ['many', 'problem', 'match', 'bracelet', 'mobile', 'app', 'finally', 'seems', 'achieved', 'recognizes', 'lot', 'variety', 'activity', 'measure', 'sleep', 'step', 'heart', 'rate'], ['image', 'quite', 'decent', 'room', 'dark', 'not', 'much', 'returned', 'not', 'connected', 'wirelessly', 'io'], ['comply', 'clean', 'good', 'thing', 'not', 'need', 'use', 'inconvenience', 'fact', 'right'], ['good', 'quality', 'case', 'simple', 'price', 'bought', 'play', 'school', 'son', 'liked', 'lot'], ['son', 'beautiful', 'second', 'day', 'rained', 'drop', 'one', 'entered', 'not', 'give', 'many', 'hour', 'direct', 'sun', 'not', 'illuminate', 'sufficiently'], ['buy', 'mobile', 'december', 'year', 'august', 'good', 'firsthe', 'still', 'guarantee', 'not', 'answer', 'yet', 'called', 'amazon', 'customer', 'service', 'not', 'give', 'solution', 'careful', 'seller', 'disastrous'], ['good', 'chair', 'comfortable', 'easy', 'mount', 'month', 'use', 'good', 'chair', 'adjustable', 'high', 'good', 'displacement', 'wheel', 'recommend', 'buy', 'little', 'expensive', 'others', 'quality', 'material'], ['loved', 'touch', 'prettier', 'use', 'antiquedas', 'also', 'decorative', 'element', 'room'], ['one', 'day', 'use', 'black', 'garbage', 'not', 'recommend'], ['not', 'first', 'time', 'buy', 'design', 'perfect', 'functioning', 'good', 'security', 'system', 'easy', 'clean'], ['lamp', 'gift', 'easy', 'ride', 'not', 'expect', 'charger', 'place', 'light', 'american', 'point', 'face', 'stayed'], ['entertaining', 'son', 'read', 'quickly', 'since', 'great', 'letter', 'drawing', 'plot', 'keep', 'interested', 'end', 'read', 'little', 'well', 'author', 'sometimes', 'us', 'enough', 'languageordinary', 'particularly', 'not', 'like', 'anything', 'although', 'suppose', 'one', 'thing', 'make', 'child', 'funny', 'already', 'going', 'series', 'week', 'child', 'asks'], ['not', 'support', 'weight', 'bike'], ['shirt', 'poor', 'quality'], ['loved', 'story', 'beautiful'], ['good', 'mobile', 'phone', 'desired', 'benefit'], ['adapts', 'dryer', 'hold', 'pass', 'little', 'heat', 'silicone', 'folded', 'approach', 'head', 'fold', 'not', 'manage'], ['dog', 'pass', 'great', 'consumes', 'many', 'daily', 'stack', 'although', 'not', 'time'], ['therefore', 'seems', 'quality', 'believed', 'defect', 'not', 'done', 'april', 'compartment', 'remote', 'control', 'need', 'try', 'even', 'radio', 'extra', 'included', 'listening', 'headphone', 'etc', 'eye', 'not', 'usb', 'entrance'], ['photo', 'cool'], ['beautiful', 'broke', 'first', 'front', 'glass', 'fragile'], ['sent', 'quickly', 'stoppage', 'broken', 'give', 'insecurity', 'distrust', 'manipulated'], ['receive', 'three', 'sticker', 'put', 'clock', 'plastic', 'not', 'glass', 'also', 'take', 'worth', 'spending', 'something', 'else', 'effective', 'upper', 'part', 'photo', 'see', 'begin', 'get'], ['bought', 'digital', 'card', 'well', 'measured', 'perfect', 'since', 'look', 'good', 'give', 'good', 'protection'], ['fit', 'well', 'tablet', 'work', 'perfectly', 'plastic', 'certainly', 'much', 'better'], ['not', 'fulfill', 'function'], ['principle', 'delighted', 'scooter', 'lasted', 'week', 'understand', 'fault', 'wet', 'try', 'contact', 'seller', 'right', 'would', 'see', 'could', 'solve', 'since', 'not', 'month', 'never', 'answer', 'disgusted', 'pay', 'something', 'hard', 'nothing'], ['color', 'much', 'not', 'resemble', 'photo', 'row', 'triangle', 'ocher', 'gray', 'not', 'carpet', 'much', 'le', 'contrast', 'appearance', 'quite', 'justified', 'get', 'dirty', 'looking', 'dirt', 'stick', 'price', 'happen', 'hopefully', 'colorful', 'term', 'color'], ['good', 'morning', 'not', 'know', 'article', 'delivered', 'course', 'send', 'return', 'money'], ['article', 'came', 'open', 'not', 'compensate', 'amazon', 'close', 'return', 'not', 'bad', 'comment'], ['complies', 'quality', 'price', 'let', 'want'], ['key', 'comfortable', 'almost', 'not', 'make', 'noise', 'using', 'easy', 'light', 'activated', 'deactivated', 'change', 'look', 'good'], ['not', 'fit', 'well', 'edge', 'phone', 'small'], ['comfortable', 'easy', 'put'], ['delivered', 'price'], ['long', 'walk', 'realize', 'comfortable', 'adjust', 'expected'], ['book', 'like', 'read', 'personal', 'end', 'read', 'chapter', 'interested', 'rest', 'not'], ['place', 'easy', 'trip', 'get', 'pin'], ['work', 'not', 'sent', 'invoice', 'vat', 'showing', 'cif', 'requested'], ['fairly', 'real', 'exciting', 'story', 'advised', 'although', 'also', 'part', 'good', 'sadness'], ['work', 'super', 'light', 'different', 'unit', 'measure', 'margin', 'error', 'gram', 'basic', 'not', 'want', 'spend', 'much', 'balance'], ['uncomfortable', 'painful', 'taking', 'not', 'model', 'finally', 'bought', 'iris', 'cup', 'size', 'usual', 'user', 'comparison', 'one', 'brand', 'another'], ['not', 'qualify', 'never', 'arrive'], ['not', 'serve', 'endure', 'vertically', 'take', 'away', 'enough', 'functionality', 'thing', 'not', 'known', 'work', 'expensive'], ['liked', 'easy', 'use', 'separate', 'eyelash', 'well', 'extends', 'lot', 'although', 'already', 'quite', 'apply', 'little', 'little', 'not', 'much', 'usually', 'use', 'another', 'one', 'like', 'give', 'volume', 'separate', 'eyelash', 'well', 'use', 'lengthen', 'finish', 'separating'], ['not', 'expected'], ['two', 'week', 'spent', 'not', 'fairly', 'expensive', 'price'], ['lens', 'well', 'housing', 'utensil', 'great', 'fragility', 'little', 'use', 'tripode', 'etc'], ['interesting', 'addition', 'congratulating', 'remember', 'happened', 'year'], ['smell', 'strong', 'plastic', 'come', 'inside', 'case', 'not', 'remove', 'bag', 'lot'], ['not', 'consider', 'aite', 'not', 'enough', 'two', 'similar', 'option', 'opt', 'due', 'brand', 'not', 'like', 'good', 'thing', 'light', 'beautiful', 'case', 'want', 'keep'], ['already', 'used', 'time', 'able', 'polish', 'headlight', 'perfectly', 'without', 'much', 'effort', 'go', 'perfectly', 'use', 'polishing', 'result', 'seen', 'advisable'], ['quality', 'quality', 'ratio', 'fine', 'not', 'get', 'real', 'calorie', 'consumed'], ['drawback', 'release', 'smell', 'dust', 'aspires', 'not', 'enough', 'power'], ['good', 'also', 'rabbit'], ['diploma', 'photo', 'not', 'come', 'deceptive', 'disappointed'], ['keep', 'waiting', 'refund', 'month', 'waiting', 'product'], ['good', 'thought', 'would', 'fragile', 'stick', 'well', 'not', 'rubber', 'endures', 'external', 'climate', 'fine', 'price', 'since', 'hard', 'plastic', 'much', 'expensive'], ['adjustment', 'support', 'not', 'kia', 'niro'], ['arrive', 'within', 'delivery', 'period', 'expected'], ['skirt', 'juda', 'also', 'amazon', 'returned', 'god', 'amazon'], ['worked', 'great', 'statement', 'leaf', 'yellowish', 'hair'], ['corresponds', 'give', 'nephew', 'loved'], ['not', 'like', 'anything', 'seemed', 'light', 'photo', 'super', 'wide', 'weighs', 'lot', 'not', 'practical', 'manageable', 'not', 'recommend'], ['bought', 'blind', 'review', 'exact', 'month', 'passed', 'not', 'noticed', 'change', 'leave', 'review', 'based', 'one', 'month', 'another', 'month', 'notice', 'change', 'change', 'review'], ['excellent', 'child', 'adult', 'really', 'like', 'light', 'alarm', 'not', 'sound', 'much', 'way', 'turning', 'alarm', 'not', 'comfortable', 'touch', 'button'], ['acceptable', 'quality', 'taken', 'part', 'small', 'one', 'android', 'capable', 'option'], ['worthless', 'beat', 'cold'], ['actually', 'nothing', 'book', 'since', 'looked', 'option', 'complain', 'delivery', 'man', 'not', 'found', 'sorry', 'star', 'happened', 'since', 'changed', 'email', 'not', 'receive', 'order', 'one', 'book', 'first', 'happened', 'asked', 'something', 'else', 'thing', 'happened', 'explain', 'case', 'looking', 'shipping', 'postal', 'locator', 'tell', 'tried', 'deliver', 'lie', 'someone', 'not', 'know', 'job', 'put', 'easiest', 'cheap', 'excuse', 'find', 'far', 'happy', 'amazon', 'general', 'not', 'deliver', 'one', 'day', 'tell', 'order', 'linked', 'always', 'taking', 'account', 'day', 'delivery', 'another', 'day', 'wait', 'someone', 'not', 'done', 'job'], ['precaution', 'not', 'support', 'return', 'not', 'advise', 'since', 'not', 'stay', 'sole', 'disgusting'], ['light', 'easy', 'absorption', 'pleasant', 'dry', 'skin', 'bit', 'scarce', 'hydration'], ['described'], ['delivery', 'good', 'quality'], ['work', 'usb', 'current', 'not', 'work'], ['operation', 'according', 'expected', 'turn', 'notice', 'table', 'bought'], ['want', 'bike', 'put', 'roller'], ['not', 'like', 'game', 'bit', 'difficult', 'understand', 'dynamic', 'not', 'attract', 'played', 'not', 'recommend', 'daughter', 'year', 'old'], ['not', 'first', 'day', 'drawing', 'case', 'began', 'take', 'fall', 'piece', 'case', 'running', 'thrown', 'away'], ['look', 'robust', 'upper', 'lower', 'corner', 'temperate', 'glass', 'rise', 'touching', 'loses', 'elegance', 'aesthetic', 'giving', 'feeling', 'ancient', 'careless', 'company', 'work', 'entrust', 'everyone', 'without', 'exception', 'ni', 'case', 'design', 'error'], ['bad', 'little', 'quality', 'none', 'recommended', 'want', 'something', 'decent', 'not', 'not', 'like', 'anything'], ['useful', 'practical', 'good', 'price', 'digital', 'beautiful', 'look', 'good', 'modern', 'cuisine'], ['clarifying', 'index', 'development'], ['good', 'purchase', 'not', 'understand', 'connection', 'cable', 'not', 'incorporated', 'current'], ['seems', 'lasting', 'time', 'say', 'ease', 'installation', 'not', 'doubt', 'mana', 'not', 'find', 'easy', 'footprint', 'continue', 'note', 'little', 'something', 'general', 'good', 'product', 'meet', 'objective', 'buy'], ['good', 'sound', 'hold', 'key', 'hard', 'tad', 'sometimes', 'cost', 'autonomy'], ['always', 'fisher', 'price', 'number', 'one'], ['course', 'needed', 'without', 'original', 'replacement'], ['gift', 'without', 'complaint'], ['not', 'bad', 'bed', 'protector', 'absorbent', 'container', 'price', 'not', 'bargain'], ['bought', 'dimension', 'cell', 'good'], ['beautiful', 'simple', 'original', 'although', 'luminous', 'room', 'not', 'get', 'much', 'darkness', 'simply', 'avoid', 'give', 'sun', 'face'], ['man', 'libro', 'explains', 'everything', 'easy', 'read', 'put', 'history', 'spain'], ['perfect', 'functional', 'serf', 'load', 'phone', 'not', 'ask'], ['speaker', 'pas', 'heard', 'wonderful', 'negative', 'score', 'come', 'seems', 'unacceptable', 'put', 'steering', 'label', 'directly', 'product', 'box', 'without', 'additional', 'type', 'care', 'know', 'bought', 'stopped', 'buying', 'year', 'first', 'time', 'something', 'without', 'amazon', 'box', 'arrives'], ['using', 'epsom', 'bath', 'salt', 'year', 'brand', 'good', 'price', 'package', 'useful', 'since', 'bag', 'always', 'broken', 'spilled', 'salt', 'meter', 'drop', 'essential', 'oil', 'spa', 'bathroom', 'kid', 'sometimes', 'serf', 'step'], ['good', 'true', 'large', 'large', 'bag', 'not', 'well', 'bag', 'view', 'seen'], ['good', 'product', 'velcro', 'made', 'doubt', 'thought', 'would', 'not', 'endure', 'ipad', 'yes', 'perfect'], ['piece', 'fine', 'although', 'refractory', 'bowl', 'found', 'bit', 'planned', 'use', 'torch', 'fail'], ['passing', 'day', 'little', 'little', 'smell', 'beginning', 'referring', 'fortunately'], ['good', 'lends', 'lot', 'port', 'connect', 'accessory', 'keyboard', 'hard', 'disc', 'camera', 'etc', 'nvidia', 'shield', 'port', 'load', 'whatever'], ['bought', 'september', 'not', 'start', 'using', 'february', 'part', 'fault', 'not', 'trying', 'take', 'bag', 'fannyries', 'not', 'went', 'run', 'cut', 'cut', 'comfortable', 'not', 'fall', 'addition', 'beautiful', 'surprise', 'month', 'use', 'longer', 'blow', 'course', 'left', 'expensive', 'little', 'would', 'like', 'know', 'much', 'guarantee', 'manufacturer', 'solution', 'give', 'clear'], ['child', 'drawing', 'surely', 'not', 'seem', 'attractive', 'narrative', 'simple', 'encompasses', 'indispensable', 'classic', 'story', 'child', 'size', 'good', 'quality', 'material'], ['work', 'well', 'problem', 'want', 'connect', 'headset', 'although', 'carry', 'connect', 'hole', 'empty', 'not', 'connected'], ['rigid', 'break', 'button', 'easily'], ['body', 'doll', 'rag', 'failure', 'not', 'knowing', 'limit', 'clothes', 'put'], ['case', 'cogaga', 'half', 'made', 'tiny', 'misleading', 'image', 'since', 'see', 'window', 'normal', 'vehicle', 'result', 'not'], ['fine', 'price'], ['price', 'expected', 'worst', 'surprised', 'finite', 'fabric', 'iron', 'like'], ['installed', 'laptop', 'work', 'connect', 'wifi', 'ghz', 'band', 'downloads', 'recommended'], ['short', 'even', 'different', 'resistance', 'not', 'meet', 'objective', 'training', 'practically', 'not', 'use', 'little', 'practical', 'want', 'buy', 'good'], ['scratch', 'right', 'button', 'side', 'lasted', 'color', 'accurate', 'photo'], ['low', 'quality', 'plastic'], ['practical', 'comfortable', 'child', 'beautiful', 'loved', 'three'], ['get', 'touch', 'seller', 'mobile', 'not', 'year', 'not', 'work', 'properly', 'two', 'guarantee'], ['mobile', 'standing', 'well', 'not', 'pinge', 'star', 'take', 'mobile', 'support', 'go', 'otherwise', 'worth', 'product'], ['bit', 'bump', 'load', 'well'], ['product', 'fine', 'not', 'arrive', 'time', 'daughter', 'birthday', 'yesterday', 'paqete', 'arrive', 'yesterday', 'lie', 'tramport', 'harm', 'amazon'], ['material', 'quite', 'bad', 'seems', 'plastic'], ['command', 'not', 'worth', 'anything', 'drain', 'go', 'continuously', 'joystick', 'grat', 'screen', 'get', 'mobile', 'not', 'leave', 'holding', 'garbage'], ['get', 'defective', 'lamp', 'not', 'know', 'blow', 'manufacturing', 'manufacture', 'crime', 'send', 'without', 'even', 'looking', 'conclusion'], ['fact', 'put', 'battery', 'display', 'work', 'not', 'make', 'sense', 'today', 'top', 'one', 'plate', 'battery', 'broken', 'not', 'come', 'battery', 'not', 'make', 'therefore', 'contact'], ['go', 'well', 'day', 'not', 'think', 'much'], ['disaster', 'package', 'lost', 'two', 'month', 'not', 'yet', 'reached', 'package', 'urgent'], ['good', 'result', 'not', 'bitten', 'mosquito', 'night', 'open', 'one', 'hand'], ['loved', 'gift', 'perfect'], ['like', 'elastic', 'band', 'quality', 'resistant', 'not', 'typical', 'one', 'going', 'break', 'two', 'offer', 'three', 'level', 'resistance', 'give', 'good', 'think', 'essential', 'training', 'good', 'investment', 'good', 'price'], ['good', 'price', 'fast', 'transport', 'fulfill', 'sunlight', 'visibility', 'screen', 'almost', 'non'], ['number', 'great', 'look', 'good', 'rest', 'badly', 'light', 'hold', 'hand', 'press', 'button', 'way', 'taste', 'think', 'would', 'better', 'right', 'side', 'clock', 'systemautomatic', 'programming', 'attenuation', 'light', 'complicated', 'manual', 'help', 'clarify', 'close', 'returning', 'something', 'else', 'take', 'base', 'hang'], ['not', 'quality', 'serf', 'specific', 'thing'], ['return', 'put', 'finger', 'footprint', 'finger', 'mobile', 'not', 'also', 'tried', 'put', 'mobile', 'magnet', 'not', 'work'], ['good', 'type', 'chair'], ['good', 'quality', 'expected', 'date'], ['truth', 'according', 'comment', 'expected', 'device', 'gone', 'crazy', 'able', 'install', 'netflix', 'hbo', 'amazon', 'prime', 'video', 'not', 'connect', 'mouse', 'complicated', 'able', 'navigate', 'not', 'carry', 'android', 'like', 'smartphone', 'tablet', 'function', 'using', 'command', 'return', 'going', 'buy', 'box', 'xiaomi', 'original', 'android'], ['fulfill', 'compared', 'aerator', 'function', 'make', 'le', 'noise'], ['received', 'returned', 'missing', 'part', 'seems', 'like'], ['perfect', 'buy', 'best', 'price', 'well', 'packed', 'book', 'school', 'not', 'much', 'say'], ['pretty', 'elegant', 'weighs', 'lot', 'take', 'long', 'time', 'respond', 'not', 'not', 'speed', 'day', 'day', 'make', 'waste', 'time', 'end', 'looking', 'mobile', 'look', 'decided', 'return', 'not', 'going', 'use', 'price'], ['like', 'photograph', 'landscape', 'also', 'seen', 'fantastic', 'animal', 'good', 'price', 'also', 'space', 'model'], ['not', 'seem', 'serious', 'even', 'not', 'like', 'jimenez', 'seems', 'little', 'documented', 'serious', 'revenge', 'writing'], ['fit', 'quite', 'well', 'button', 'jump', 'easily', 'not', 'remain', 'ugly', 'protect', 'something'], ['passable', 'perfect', 'price'], ['arrived', 'not', 'correspond', 'requested', 'term', 'measure', 'half', 'le', 'not', 'even', 'know', 'looked', 'clearly', 'returned', 'everything', 'else', 'well', 'term', 'time', 'sending', 'return', 'money'], ['not', 'work', 'water', 'removed', 'good', 'not', 'recommend', 'water'], ['say', 'manufacturer', 'apple', 'even', 'put', 'internal', 'apple', 'product', 'code', 'chinese', 'adapter', 'come', 'simple', 'bag', 'nobody', 'wrong', 'thinking', 'buy', 'original', 'accessory', 'seller', 'amazon', 'lie'], ['good', 'price', 'not', 'good', 'paste', 'fold', 'case', 'not', 'support', 'table'], ['good', 'quality', 'price', 'asked', 'double', 'something', 'similar', 'store'], ['good', 'esr', 'product', 'case', 'protects', 'great', 'iphone'], ['product', 'not', 'arrive', 'asked', 'december', 'not', 'yet', 'indigenant'], ['buying', 'paint', 'chalk', 'format', 'giving', 'money', 'manufacturer', 'occurred', 'ask', 'factory', 'neighborhood', 'paint', 'come', 'day', 'quarter'], ['duran', 'min', 'battery', 'not', 'recommend'], ['angry', 'transport', 'thrown', 'package', 'garden', 'street', 'give', 'shame'], ['super', 'pretty', 'original', 'good', 'quality', 'come', 'complete', 'bag', 'sport', 'section', 'put', 'laptop'], ['bottle', 'cool', 'good', 'although', 'mine', 'inner', 'part', 'nozzle', 'look', 'like', 'scraping', 'weird', 'green', 'first', 'doubted', 'whether', 'use', 'guess', 'factory'], ['not', 'bad', 'lycra', 'look', 'like', 'swimsuit'], ['handle', 'hang', 'car', 'fold', 'matter', 'time', 'also', 'difficult', 'open', 'close', 'two', 'half', 'capsule', 'not', 'fit', 'size', 'fine', 'carry', 'two', 'plastic', 'capsule', 'quite', 'hard'], ['chaflan', 'weight'], ['received', 'time', 'good', 'happy', 'purchase'], ['arrive', 'within', 'perfect', 'mount', 'useful'], ['motion', 'not', 'work'], ['product', 'come', 'broken', 'bad', 'manage', 'claiming', 'taken', 'article', 'broken', 'not', 'returned', 'money', 'not', 'recommend', 'purchase', 'site', 'not', 'serious', 'put', 'claim', 'withdraw', 'product', 'answer', 'butwhen', 'returning', 'money', 'disappear'], ['work', 'well', 'easy', 'clean', 'without', 'paper', 'filter', 'anything', 'like', 'serf', 'perfectly', 'purpose', 'bad', 'night', 'put', 'minimum', 'slightly', 'annoying', 'noise', 'make', 'maximum', 'power'], ['arrive', 'estimated', 'defective', 'battery', 'imagine', 'scare'], ['arrived', 'one', 'day', 'contained', 'part', 'work', 'bought', 'used', 'rhinomer', 'version', 'gave', 'story', 'continuous', 'expense', 'supposed', 'buy', 'filter', 'spare', 'happens', 'brand', 'hand', 'according', 'read', 'internet', 'user', 'not', 'necessarily', 'needed', 'change', 'filter', 'every', 'time', 'moccos', 'not', 'reach', 'end', 'tube', 'wash', 'tube'], ['small', 'aesthetic', 'good', 'coffee'], ['battery', 'spent', 'soon', 'take', 'long', 'time', 'load'], ['bad', 'experience', 'carrier', 'left', 'sign', 'app', 'delivered', 'live', 'urbanization', 'goalkeeper', 'also', 'inri', 'silly', 'experience', 'shame'], ['fat', 'earring', 'using', 'month', 'daily', 'first', 'day', 'circular', 'nut', 'not', 'squeeze', 'anything', 'lost', 'first', 'day', 'picking', 'time', 'price', 'expected'], ['warm', 'used', 'home', 'think', 'use', 'get', 'dog', 'correct', 'price', 'quality', 'ratio', 'price', 'not', 'compared', 'ugg', 'warm', 'home'], ['totally', 'opaque', 'striking', 'not', 'practical', 'not', 'move', 'easily'], ['not', 'get', 'day', 'passed'], ['comfortable', 'not', 'weigh', 'anything', 'thing', 'could', 'little', 'memory', 'update'], ['great', 'book', 'tried', 'read', 'small', 'dos', 'not', 'want', 'stop', 'reading', 'read', 'desire', 'ended', 'stay', 'wanting'], ['entertaining', 'car', 'get', 'car', 'pretty', 'child', 'entertains', 'every', 'little', 'time', 'fit', 'run'], ['practice', 'look', 'quality'], ['fine', 'finally', 'wear', 'skirt', 'since', 'impossible', 'find', 'sock', 'quality', 'material', 'not', 'like'], ['fulfills', 'function', 'perfectly', 'way', 'make', 'little', 'difficult', 'entrance', 'helmet', 'home'], ['poor', 'quality', 'response', 'removed', 'stack', 'plastic', 'unfortunate'], ['return', 'synchronizes', 'mobile', 'not', 'shame'], ['used', 'terrace', 'truth', 'thought', 'would', 'le', 'meter', 'density', 'outside', 'work', 'see', 'summer', 'sun', 'cable', 'begin', 'able', 'take', 'two', 'whole', 'lap', 'terrace', 'still', 'left', 'many'], ['defective', 'immediately', 'sent', 'another', 'defective', 'two', 'tried', 'one', 'better', 'already', 'bother'], ['information', 'well', 'organized', 'illustrated', 'description', 'short', 'price', 'couple', 'euro', 'buy', 'larger', 'complete', 'size', 'guide'], ['good', 'purchase', 'fulfills', 'girl', 'entertains', 'lot', 'painting', 'useful', 'purchase', 'foster', 'creativity'], ['cable', 'look', 'good', 'quality', 'fast', 'charging', 'normal', 'loading', 'lie', 'slowing'], ['perfect', 'fast', 'shipping'], ['small', 'size', 'little', 'place', 'sound', 'quality', 'quite', 'clicking', 'end', 'button', 'alarm', 'bear', 'side', 'hold', 'hand', 'worst', 'alarm', 'small', 'current', 'transformer', 'not', 'inside', 'device', 'external', 'mobile', 'tablet', 'would', 'not', 'evil', 'not', 'transformer', 'buy', 'chinese', 'official', 'brand', 'tell', 'not', 'buy', 'not', 'want', 'room', 'home', 'building', 'whole', 'neighborhood', 'bad', 'aeg'], ['good', 'monitor', 'fantastic', 'image', 'quality', 'not', 'tried', 'use', 'desktop', 'computer', 'would', 'buy', 'come', 'hdmi', 'vga', 'cable', 'two', 'hdmi', 'input'], ['perfect', 'using', 'applicator', 'ideal', 'take', 'right', 'amount', 'product'], ['not', 'fulfill', 'function', 'well', 'since', 'many', 'occasion', 'not', 'make', 'good', 'contact', 'tighten', 'several', 'time', 'screen', 'detect'], ['not', 'well', 'rectangular', 'shape', 'irregular', 'side', 'not', 'not', 'excessively', 'appreciated', 'cut', 'not', 'medium', 'price', 'not', 'bad'], ['return', 'product', 'since', 'super', 'fine', 'fragile'], ['bulb', 'seen', 'photo', 'give', 'good', 'light', 'pleasant', 'tone', 'one', 'spoiled', 'constantly', 'flash'], ['gps', 'operation', 'link', 'perfect', 'mobile', 'several', 'gadget', 'control', 'wrist', 'pulse', 'would', 'say', 'bit', 'summer', 'not', 'usually', 'fail', 'low', 'temperature', 'measurement', 'not', 'fit', 'reality', 'long', 'clothes', 'glove', 'pulsation', 'not', 'reach', 'checked', 'several', 'time', 'thing', 'always', 'happened', 'cold', 'short', 'clothes', 'medication', 'never', 'good'], ['nice', 'although', 'little', 'small', 'serf', 'want'], ['bad', 'product', 'key', 'small', 'uncomfortable', 'touch', 'heard', 'radio', 'usb', 'not', 'work', 'bluetooth', 'work', 'music', 'phone', 'synchronized', 'bluetooth', 'bad', 'device', 'not', 'happy', 'trying', 'return', 'acceptable', 'sound', 'quality'], ['complicated', 'use', 'water'], ['looking', 'armchair', 'work', 'area', 'functional', 'comfortable', 'not', 'high', 'product', 'cover', 'need', 'without', 'spend', 'recommend', 'anyone', 'looking', 'something', 'similar'], ['adapts', 'paste', 'putting', 'arrived', 'black', 'silver', 'without', 'tiny', 'user', 'commented', 'general', 'sexy', 'rage'], ['got', 'late', 'planned', 'date'], ['general', 'liked', 'expected'], ['good', 'quality', 'female', 'recommended'], ['product', 'good', 'know', 'spite', 'delivery', 'service', 'bad', 'asked', 'july', 'told', 'got', 'afternoon', 'well', 'day', 'arrives', 'package', 'delayed', 'well', 'tell', 'come'], ['template', 'beautiful', 'functional'], ['used', 'anniversary', 'party', 'perfect', 'quality'], ['able', 'roll', 'take', 'air', 'not', 'fill', 'much', 'not', 'put', 'not', 'endure', 'void'], ['meet', 'expose'], ['quite', 'comfortable', 'bird', 'eating', 'almost', 'fall', 'compartment', 'cleaned', 'bad', 'thing', 'opinion', 'gap', 'feeder', 'not', 'fit', 'attach', 'another', 'screw', 'grab', 'cage', 'front', 'think', 'badly', 'oriented', 'back', 'rear'], ['not', 'recommend', 'despite', 'good', 'price', 'recipe', 'without', 'amount', 'specify', 'many', 'people', 'important', 'thing', 'recipe', 'amount', 'not', 'said', 'put', 'ingredient', 'imagine', 'amount', 'evil', 'manual', 'ketogenic', 'diet'], ['read', 'comfortable', 'people', 'used', 'day', 'well', 'make', 'terrible', 'friction', 'also', 'end', 'swelling', 'foot', 'lot', 'find', 'uncomfortable', 'remove', 'closure', 'not', 'happen', 'similar', 'suppose', 'depend', 'type', 'asked', 'one', 'always', 'used', 'tried', 'good', 'neither', 'boy', 'nor', 'big', 'already', 'say', 'hurt'], ['image', 'camera', 'frozen', 'not', 'make', 'plastic', 'tried', 'contact', 'seller', 'buy', 'new', 'protector', 'impossible', 'talk'], ['year', 'half', 'two', 'week', 'spoiled', 'three', 'bought', 'bad', 'product', 'led'], ['sock', 'came', 'completely', 'frayed', 'top'], ['small', 'otherwise', 'fine'], ['instruction', 'not', 'come', 'spanish', 'bought', 'instruction', 'spanish'], ['surprised', 'delighted', 'bag', 'great', 'good', 'material', 'finish', 'fit', 'everything', 'lot', 'compartment', 'great', 'gym', 'case'], ['many', 'thing', 'miss', 'elastic', 'rubber', 'holding', 'inside', 'something', 'brace', 'unite', 'back', 'not', 'price', 'difference', 'according', 'color'], ['bad', 'quality', 'good', 'luck', 'paid', 'euro', 'not', 'original', 'price', 'brush', 'unleashed', 'scissors', 'cut', 'nothing'], ['perfect', 'put', 'detail', 'allergy', 'came', 'soon', 'product', 'photo'], ['little', 'month', 'use', 'base', 'broken', 'top', 'fine', 'comfortable', 'surprised', 'break'], ['not', 'correspond', 'huawei', 'lite', 'volume', 'button', 'nor', 'also', 'not', 'fit', 'correctly', 'returned'], ['knew', 'bought', 'disappointmore', 'serious', 'say', 'compatible', 'linux', 'update', 'mac', 'recommend', 'use', 'linux', 'pass', 'computer', 'something', 'else', 'touchpad', 'way', 'make', 'work', 'something', 'typical', 'laptop'], ['bracelet', 'not', 'bad', 'belt', 'mobile', 'app', 'leaf', 'much', 'desired', 'like', 'almost'], ['damaged', 'product', 'two', 'plastic', 'cover', 'frontal', 'look', 'lot', 'wrote', 'buyer', 'waiting', 'solution'], ['girl', 'gave', 'several', 'light'], ['price', 'fine'], ['heavy', 'think', 'better', 'option', 'little', 'someone', 'want', 'something', 'simple', 'fine', 'bit', 'expensive'], ['arrive', 'early', 'stipulated', 'well', 'packaged', 'monopoly', 'board', 'piece', 'good', 'quality'], ['never', 'arrived', 'course', 'returned', 'money'], ['beautiful', 'keep', 'fresh', 'mouthpiece', 'drink', 'full', 'weighs', 'lot'], ['love', 'received', 'repetition', 'mean', 'lack', 'color', 'specifically', 'brown', 'not', 'problem', 'would', 'give', 'star', 'quality', 'contacted', 'seller', 'sent', 'pencil', 'missing', 'give', 'star'], ['arrived', 'two', 'three', 'week', 'indicated', 'almost', 'two', 'month', 'bought', 'product', 'expected', 'comment', 'people', 'read'], ['product', 'good', 'finish', 'work', 'piece', 'manufactured', 'mechanism', 'capable', 'straightening', 'car', 'weight', 'position', 'overturned', 'second', 'work'], ['use', 'short', 'manageable'], ['seen', 'water', 'loss'], ['say', 'sent', 'absent', 'not', 'delivered', 'contact', 'shipping', 'company', 'bring', 'pick', 'still', 'feed', 'asked', 'return', 'ithey', 'denie', 'poor', 'management'], ['box', 'broken', 'quality', 'figure', 'poor', 'cartridge', 'ring', 'also', 'asked', 'reimbursement', 'granted', 'without', 'problem'], ['good', 'value', 'money'], ['two', 'mese', 'not', 'work', 'not', 'recommend'], ['bad', 'quality', 'bitch', 'feel'], ['product', 'wonderful', 'solid', 'strong', 'well', 'constructed', 'need', 'not', 'lose', 'beautiful', 'eternal', 'problem', 'carrier', 'ups', 'package', 'completely', 'spoiled', 'bad', 'thing', 'thing', 'always', 'happens', 'attention', 'amazon', 'previous', 'purchase', 'delivered', 'separately', 'package', 'possible', 'play', 'football', 'package'], ['bought', 'perfect', 'love', 'rotted', 'box', 'battery', 'not', 'work', 'two', 'terrace', 'give', 'sun', 'rain'], ['beautiful', 'good', 'price', 'quality'], ['look', 'good', 'quality', 'color', 'not', 'one', 'expected', 'addition', 'shape', 'rounded'], ['easy', 'manipulate', 'tube', 'apply', 'heat', 'put', 'different', 'good', 'buy'], ['say', 'company', 'excellent', 'behavior', 'management', 'sending', 'three', 'return', 'article', 'break', 'basel', 'product', 'well', 'drawer', 'run', 'well', 'rail', 'good', 'ratio', 'case', 'three', 'return'], ['sent', 'repaired', 'article', 'repaired', 'slit', 'product', 'patch', 'clearly', 'appreciated'], ['great', 'good', 'finish', 'also', 'bring', 'battery', 'not', 'usually', 'usual', 'hahaha', 'tara', 'continue', 'adding', 'recipe', 'resetting', 'zero', 'truth', 'delighted', 'metallic', 'finish', 'small', 'not', 'disturb', 'anywhere'], ['dog', 'not', 'like', 'anything', 'smell', 'much', 'vainilla'], ['tasty', 'beautiful', 'color'], ['fine', 'bit', 'difficult', 'get', 'frozen', 'folding', 'useful', 'keeping'], ['bread', 'meat', 'not', 'iron', 'cook'], ['tried', 'two', 'resistance', 'opinion', 'burn', 'soon', 'air', 'entrance', 'scarce', 'liking'], ['made', 'order', 'beginning', 'april', 'still', 'waiting', 'not', 'comment', 'product', 'recommended'], ['expected', 'typical', 'kitchen', 'many', 'recipe', 'never', 'easier', 'others', 'take', 'look', 'fine', 'buy', 'not', 'recommend'], ['toy', 'original', 'apparently', 'time', 'fly', 'one', 'propeller', 'stop', 'working'], ['best', 'toy', 'world', 'world', 'son', 'favorite', 'play', 'also', 'quite', 'resistant', 'proof', 'blow', 'blow'], ['easy', 'use', 'sometimes', 'pen'], ['battery', 'spent'], ['poor', 'quality', 'leather', 'broken', 'paper', 'removing', 'give', 'star', 'cheap'], ['charger', 'pretty', 'good', 'two', 'come', 'package', 'one', 'worked', 'load', 'stopped', 'working', 'quality', 'not', 'seem', 'good'], ['fantastic', 'harness', 'car', 'walk', 'dog', 'older', 'people', 'look', 'quite', 'comfortable', 'easy', 'put'], ['correct', 'product', 'slightly', 'poorly', 'topped', 'seam', 'gum'], ['well', 'petroleum', 'jelly', 'without', 'much', 'say', 'found', 'day', 'later', 'cheaper', 'super'], ['indicate', 'pad', 'bring', 'ornathat', 'force', 'almost', 'chair', 'dimension', 'seat', 'pad', 'go', 'neck', 'absolutely', 'ornament', 'absurd', 'not', 'make', 'sense', 'never', 'use', 'good', 'price', 'aesthetically', 'beautiful', 'seen', 'comfortable', 'well', 'accepted'], ['not', 'endure', 'weight', 'wall', 'arrived', 'damaged', 'not', 'last', 'day', 'little', 'weight'], ['wonderful', 'light', 'super', 'well', 'type', 'lighting', 'make'], ['good', 'correct'], ['normal', 'arrived', 'small', 'blow', 'solved', 'part'], ['good', 'price', 'battery', 'last', 'lot'], ['nice', 'addition', 'star', 'illuminates', 'christmas', 'carol', 'daughter', 'wanted', 'see', 'light'], ['good', 'satisfied', 'bought', 'couple', 'try', 'release', 'commissioned', 'another'], ['not', 'stick', 'even', 'use', 'little', 'easily', 'paste', 'handle', 'get', 'bit', 'not', 'burn'], ['good', 'lighting', 'adjustable', 'beautiful'], ['loved', 'boy', 'gave', 'not', 'swing', 'well', 'like', 'wheel', 'comfortable', 'funny'], ['glass', 'good', 'quality', 'placement', 'super', 'simple', 'completely', 'cover', 'phone', 'screen'], ['take', 'clean', 'sensor', 'spend', 'two', 'cane', 'one', 'wet', 'alcohol', 'dry', 'however', 'keep', 'watching', 'garbage', 'sensor', 'spent', 'cane', 'sametask', 'continue', 'basurilla'], ['versatility', 'able', 'supported', 'horizontally', 'robust', 'resistant'], ['not', 'notice', 'improvement', 'diet', 'not', 'gone', 'almost', 'anything'], ['everything', 'small', 'corner', 'paste', 'not', 'strong', 'enough', 'minimum', 'ground', 'would', 'put', 'another', 'stronger', 'sticker', 'one', 'attach', 'not', 'work'], ['filter', 'easily', 'dirty', 'not', 'leave', 'clean', 'come', 'scrubb'], ['perfect', 'good', 'taste', 'good', 'product'], ['come', 'without', 'kind', 'characteristic', 'manometro', 'not', 'work'], ['practical', 'term', 'size', 'plasticized', 'finish', 'however', 'agree', 'buyer', 'include', 'one', 'case', 'get', 'stained', 'wash', 'least', 'sold', 'buy'], ['rotring', 'exclusive', 'brand', 'exclusive', 'price', 'quality', 'not', 'year', 'half', 'button', 'allows', 'release', 'mine', 'broken', 'soft', 'rubber', 'ball', 'unusable'], ['perfect', 'load', 'arrive', 'day'], ['book', 'not', 'wrong', 'cost', 'quite', 'lot', 'start', 'keep', 'something', 'never', 'happens', 'give', 'star', 'apart', 'tube', 'enough', 'spelling', 'failure'], ['magnetic', 'tape', 'job', 'however', 'adhesive', 'poor', 'quality', 'fix', 'silicone', 'thought', 'wood', 'would', 'stick', 'well'], ['pain', 'swelling', 'not', 'relieved', 'much'], ['purchase', 'contacted', 'seller', 'saturday', 'october', 'shoe', 'number', 'large', 'requesting', 'change', 'another', 'smaller', 'number', 'waiting', 'purchase', 'assessment', 'rather', 'seller', 'zero', 'not', 'deserves', 'one', 'one'], ['although', 'appreciated', 'chain', 'manufacturing', 'furniture', 'destined', 'accessory', 'fine', 'offer', 'two', 'spare', 'part', 'price', 'well'], ['worst', 'protector', 'bought', 'phone', 'min', 'loose', 'side', 'finger', 'heard', 'click', 'trying', 'stick', 'let', 'within', 'hour', 'took', 'alone'], ['came', 'fast', 'bitch', 'holding'], ['quality', 'product', 'good', 'price', 'great', 'bad', 'thing', 'usb', 'light', 'put', 'bedroom', 'may', 'bother', 'although', 'occupied', 'usb', 'quite', 'say', 'specification'], ['not', 'feel', 'good', 'quality'], ['look', 'good', 'reality', 'price', 'not', 'recommend'], ['good', 'organizer', 'low', 'apparently', 'resistant'], ['microphone', 'supposed', 'bluetooth', 'impossible', 'find', 'way', 'activate', 'make', 'find'], ['order', 'arrived', 'le', 'beautiful', 'portfolio', 'quality', 'unbeatable', 'price', 'happy', 'service', 'article'], ['well', 'going', 'well', 'price', 'think', 'not', 'plastic', 'battery'], ['requested', 'cable', 'last', 'day', 'promised', 'anyone', 'hurry', 'get', 'cable', 'request', 'product', 'another', 'manufacturer'], ['not', 'constipated', 'go', 'relatively', 'well', 'covered', 'forget', 'putting', 'get', 'nothing', 'positive'], ['economic', 'option', 'comfortable', 'functional', 'stool'], ['everything', 'would', 'buy', 'happy', 'good', 'purchase', 'good', 'son', 'delighted'], ['bought', 'product', 'wedding', 'select', 'white', 'color', 'surprise', 'not', 'white', 'dark', 'ivory'], ['come', 'quickly', 'recommended'], ['recommended', 'great', 'entrance', 'house', 'column', 'contribute', 'beautiful', 'light', 'without', 'spending', 'electricity', 'recommend', 'thing', 'buy', 'first', 'see', 'next', 'day', 'bought', 'uploaded', 'eurazos', 'theprice'], ['seller', 'not', 'fulfilled', 'share', 'seems', 'confirming', 'order', 'long', 'wait', 'reject'], ['not', 'bad', 'not', 'best', 'child', 'entertain', 'well', 'thing', 'piece', 'give', 'last', 'little', 'hehe'], ['case', 'good', 'nothing', 'not', 'expect', 'tiny', 'le', 'resistant', 'material', 'close', 'well', 'fit', 'reed', 'inside', 'padded', 'normal', 'not', 'give', 'star', 'price', 'seems', 'expensive', 'although', 'not', 'give', 'le', 'take', 'account', 'general', 'store', 'price', 'even', 'expensive'], ['not', 'form', 'clock'], ['not', 'connect', 'mobile', 'motorola', 'plus', 'via', 'bluetooth', 'return', 'look', 'good'], ['good', 'version', 'great', 'price'], ['watch', 'good', 'put', 'belt', 'good', 'quality', 'look', 'like', 'saw', 'web', 'liked', 'lot', 'done', 'look', 'good', 'personally', 'not', 'size', 'fine', 'gentleman', 'reading', 'easy', 'operation', 'date', 'price', 'watch', 'manufacturer'], ['son', 'delighted', 'work', 'well', 'accurate', 'robust', 'good', 'buying', 'bullet', 'brings', 'little'], ['taken', 'long', 'time', 'top', 'not', 'tip', 'not', 'fit', 'not', 'work'], ['damaged', 'told', 'going', 'pay', 'account', 'never', 'told', 'wanted', 'not', 'could', 'wondered', 'since', 'really', 'needed'], ['bad', 'thing', 'adapter', 'sometimes', 'plug', 'not', 'fit', 'well', 'work', 'halfway'], ['okay', 'enough'], ['single', 'use', 'totally', 'thrown', 'not', 'put', 'star'], ['buying', 'reconditioned', 'came', 'without', 'battery', 'top', 'one', 'came', 'hooked', 'charger', 'without', 'able', 'get', 'charger', 'also', 'gave', 'problem', 'introducing', 'battery', 'not', 'strength', 'jumped', 'not', 'bought', 'hope', 'luck'], ['large', 'number', 'pearl', 'good', 'quality', 'good', 'really', 'liked', 'booklet', 'given'], ['ask', 'product', 'black', 'send', 'another', 'model', 'another', 'color'], ['son', 'consumes', 'breakage', 'side', 'headset', 'connection', 'bit', 'protecting', 'failure', 'pinganillo', 'manufacturer', 'last', 'last', 'month', 'not', 'possible', 'process', 'guarantee'], ['little', 'tap', 'heard', 'phenomenal', 'microphone', 'arrived', 'within', 'deadline'], ['beautiful', 'seems', 'photo', 'nothing', 'recommend'], ['not', 'expected', 'product', 'came', 'incomplete', 'everything', 'indicated', 'used', 'returned', 'another', 'material', 'weak', 'light', 'plastic', 'could', 'easily', 'split', 'twisted', 'would', 'not', 'last', 'return'], ['product', 'case', 'first', 'use'], ['projector', 'not', 'recognize', 'modern', 'version', 'iphone', 'ipad', 'addition', 'making', 'lot', 'basic', 'english', 'instruction'], ['smaller', 'expected'], ['not', 'vibratory', 'put', 'fine', 'size', 'final', 'texture'], ['not', 'value', 'not', 'reach', 'bad', 'attention', 'seur', 'castellon', 'cast', 'bad', 'amazon', 'attention', 'would', 'not', 'buy'], ['use', 'headphone', 'work', 'connected', 'material', 'sound', 'quality', 'good', 'brand', 'not', 'top', 'cable', 'find', 'short', 'headband', 'rigid', 'prolonged', 'use', 'somewhat', 'annoying', 'ear', 'especially', 'wear', 'glass', 'ratio'], ['product', 'quite', 'well', 'price', 'dock', 'come', 'empty', 'although', 'seems', 'not', 'affected', 'anything', 'product', 'fast', 'shipment', 'problem', 'called', 'clarify', 'treated', 'well'], ['not', 'used', 'vacation', 'tell', 'seems', 'product', 'requested', 'useful', 'required', 'need'], ['hello', 'several', 'day', 'passed', 'not', 'reached', 'refund', 'return', 'got', 'thank', 'much'], ['seen', 'plane', 'turbine', 'make', 'le', 'noise', 'neither', 'cool', 'not', 'recommend', 'purchase'], ['finish', 'hole', 'not', 'hole', 'badly', 'sanded', 'touch', 'rope', 'not', 'price', 'good', 'unlike', 'similar', 'product', 'many', 'hole'], ['good', 'base', 'example', 'exercise'], ['good', 'come', 'photo'], ['perfect', 'tried', 'lot'], ['not', 'put', 'water', 'get'], ['opinion', 'one', 'serve', 'wheel', 'put', 'toy', 'not', 'able', 'give', 'use', 'expected', 'two', 'set', 'wheel', 'not', 'serve'], ['followed', 'video', 'instruction', 'half', 'hour', 'waiting', 'protector', 'not', 'stick', 'manages', 'separate', 'curved', 'edge', 'never', 'take', 'continuously', 'week', 'later', 'protector', 'already', 'completely', 'not', 'recommend', 'product', 'not', 'found', 'good', 'fingerprint', 'sensor', 'work'], ['guess', 'make', 'mission', 'not', 'noticed', 'anything', 'special', 'hope', 'see', 'apparently'], ['bought', 'guided', 'simplicity', 'stainless', 'steel', 'remain', 'convinced', 'however', 'fixation', 'support', 'base', 'single', 'screw', 'make', 'weak', 'turn', 'respect', 'shame'], ['moment', 'installed', 'despite', 'adjusting', 'well', 'enters', 'dust', 'front', 'camera', 'upper', 'fingerprint', 'affected', 'bit', 'xiaomi', 'model'], ['samsung', 'galaxy', 'case', 'imagined', 'perfect', 'knew', 'not', 'authentic', 'skin', 'imitate', 'perfect'], ['costume', 'come', 'without', 'backpack', 'description', 'clearly', 'put', 'asked', 'hope', 'come', 'well', 'not', 'arrive', 'time', 'carnival'], ['using', 'true', 'sometimes', 'little', 'noise', 'interference', 'general', 'rule', 'work', 'quite', 'well'], ['logistic', 'problem', 'delivery', 'point', 'store', 'individual', 'amazon', 'returned', 'amount', 'without', 'problem'], ['arm', 'quality', 'seems', 'durable', 'coupling', 'gag', 'hold', 'tablet', 'arm', 'released', 'easily'], ['great', 'product', 'give', 'away', 'not', 'come', 'condition', 'not', 'carry', 'original', 'black', 'box', 'galicia', 'assure', 'description', 'come', 'original', 'box', 'even', 'put', 'photo', 'black', 'box', 'open', 'find', 'bottle', 'separately', 'well', 'packed', 'measured', 'normal', 'cardboard', 'box', 'not', 'suitable', 'giving', 'inchristmas'], ['perfect', 'protect', 'sun', 'ship'], ['wanted', 'different', 'lamp', 'child', 'room', 'everything', 'found', 'overloaded', 'price', 'exaggerated', 'bought', 'seemed', 'simple', 'install', 'design', 'different', 'everything', 'liked', 'photo', 'love', 'past', 'easy', 'delighted', 'little', 'one', 'liked', 'much'], ['although', 'beautiful', 'aesthetic', 'elegant', 'line', 'find', 'bit', 'weak', 'not', 'total', 'stability'], ['little', 'fair', 'expected', 'gave', 'expected', 'result'], ['short', 'not', 'hit', 'fridge', 'not', 'arrive', 'fridge', 'rubber', 'large'], ['using', 'three', 'day', 'not', 'put', 'color', 'not', 'accurate', 'magnet', 'strong'], ['correct', 'good', 'material', 'quality', 'pool', 'work', 'luxury', 'not', 'enter', 'water', 'anything', 'happy', 'value', 'money', 'fast', 'shipping'], ['still', 'hope', 'arrives', 'end', 'june'], ['material', 'not', 'correspond', 'description', 'not', 'bamboo', 'imitation', 'base', 'box', 'fine', 'plastic', 'imitation', 'wood', 'measure', 'box', 'correct'], ['used', 'first', 'time', 'saturday', 'cut', 'sepia', 'experience', 'not', 'bad', 'use', 'lifelong', 'scissors', 'disappointed', 'quality', 'blade', 'put', 'think', 'not', 'use', 'not', 'return', 'without', 'wanting', 'throw', 'box'], ['gift', 'son', 'loved', 'year', 'old', 'comfortable', 'easy', 'resistance', 'still', 'soon', 'material', 'look', 'good'], ['get', 'fast', 'package', 'came', 'open', 'not', 'reach', 'number', 'little', 'unhappy', 'truth'], ['happy', 'result', 'giving', 'expectation'], ['not', 'requested', 'article'], ['battery', 'last', 'little', 'also', 'ignition', 'button', 'put', 'lot', 'noise'], ['beautiful', 'lamp', 'recommend', 'everyone', 'perfect', 'continue', 'buying', 'bought', 'many', 'thing', 'truth', 'comfortable', 'fast', 'thank', 'much'], ['not', 'good', 'retouched', 'look', 'bad', 'somewhere', 'especially', 'side', 'chest'], ['gift', 'loved', 'doll', 'incredible', 'well', 'done'], ['resistant', 'metal', 'joint', 'effective', 'easy', 'assemble', 'take', 'non', 'based', 'metal', 'strip', 'bend', 'relative', 'ease', 'put', 'element', 'little', 'set', 'resists', 'quite', 'weight', 'bought', 'storage', 'room', 'aesthetic', 'acceptable', 'us'], ['described', 'hard', 'size', 'good', 'padded', 'would', 'perfect'], ['excellent', 'quality', 'material', 'proprious', 'key', 'remove', 'link', 'bracelet', 'unfortunately', 'not', 'bracelet', 'bolt', 'reason', 'not', 'give', 'star', 'product'], ['good', 'soft', 'like', 'much', 'like', 'perfect', 'caress', 'seems', 'like'], ['let', 'see', 'cheap', 'good', 'mattress', 'usually', 'cost', 'not', 'expect', 'great', 'quality', 'truth', 'not', 'bad', 'bought', 'not', 'sleep', 'every', 'night', 'occasional', 'night', 'row', 'fall', 'asleepwell', 'not', 'hard', 'soft'], ['cool', 'fun', 'pleasant', 'size', 'rather', 'pulling', 'appears', 'photo'], ['bought', 'fulfills', 'function', 'without', 'not', 'robust', 'fold', 'well', 'occupies', 'little', 'space'], ['seems', 'cool', 'really'], ['idea', 'plug', 'hdmi', 'cable', 'female', 'usb', 'put', 'external', 'hard', 'drive', 'usb', 'watch', 'movie', 'not', 'work'], ['week', 'light', 'sound', 'work'], ['since', 'yesterday', 'waiting', 'mrw', 'website', 'not', 'define', 'well', 'not', 'answer', 'phone', 'hope', 'arrives', 'today', 'bad', 'image', 'company', 'decides', 'send', 'mrw'], ['useful', 'read', 'lying', 'bed', 'adapts', 'perfectly', 'ebook', 'kindle', 'drawing', 'color', 'cheerful'], ['used', 'two', 'day', 'already', 'bad', 'restrained', 'automatically', 'turn', 'red', 'ignore', 'loss', 'money'], ['lamp', 'beautiful', 'foot', 'screen', 'cost', 'worth'], ['oil', 'come', 'pouring'], ['heavy', 'dish', 'bought', 'thinking', 'would', 'barely', 'weigh', 'would', 'put', 'description', 'dish', 'weighs', 'least', 'one', 'kilo', 'enough'], ['made', 'request', 'product', 'already', 'tried', 'another', 'occasion', 'like', 'not', 'received', 'state', 'put', 'delivered', 'mailbox', 'spoken', 'mail', 'not', 'given', 'solution'], ['beautiful', 'look', 'like', 'swarovski', 'bought', 'wardly', 'son', 'teacher'], ['bought', 'amazon', 'tightening', 'get', 'product', 'sound', 'pedorestries', 'air', 'anything', 'else', 'not', 'give', 'approached', 'sector', 'trade', 'acquired', 'pack', 'eur'], ['arrived', 'much', 'faster', 'expected', 'not', 'comment', 'quality', 'pedi', 'replacement', 'not', 'used'], ['stamp', 'not', 'bad', 'almost', 'come', 'repeated', 'grace', 'would', 'many', 'bad'], ['nice', 'pink', 'stronger', 'see', 'bag', 'weighs', 'quite', 'yet', 'worth', 'beautiful'], ['timo', 'suitcase', 'arrived'], ['huawei', 'normal', 'phone', 'quality', 'price', 'ratio', 'not', 'bad', 'meet', 'basic', 'function', 'characteristic', 'average', 'case', 'bother', 'already', 'happened', 'mobile', 'open', 'google', 'map', 'look', 'address', 'walk', 'without', 'compass', 'not', 'work', 'not', 'show', 'direction', 'arrow', 'critical', 'use', 'lot', 'mobile', 'not', 'serve', 'mobile', 'perfect', 'without', 'compass', 'not', 'work', 'problem', 'description', 'not', 'put', 'clearly', 'one', 'assumes', 'brings'], ['support', 'already', 'soft', 'lasted', 'month', 'not', 'recommend'], ['package', 'open', 'antenna', 'sent', 'replacement', 'longer', 'mount', 'would', 'review', 'content', 'not', 'cause', 'discomfort'], ['made', 'germany', 'show', 'insurmountable', 'money'], ['took', 'arrive', 'fulfill', 'function', 'not', 'expect', 'hang', 'bag', 'plastic', 'not', 'miracle', 'appreciated', 'well', 'integrated', 'space', 'not', 'stand', 'look', 'like', 'element', 'theown', 'car', 'light', 'black', 'upholstery'], ['product', 'came', 'planned', 'product', 'packaging', 'great', 'quality', 'mobile', 'lost', 'press', 'strong', 'area', 'not', 'respond', 'used', 'crystal', 'never', 'sense', 'loss', 'tactile', 'sensitivity'], ['play', 'store', 'application', 'not', 'compatible', 'device', 'thankfully', 'could', 'return', 'without', 'problem'], ['little', 'time', 'start', 'using', 'began', 'make', 'noise', 'not', 'especially', 'comfortable', 'recall', 'system', 'fails', 'would', 'recommend', 'use', 'little', 'think', 'better', 'invest', 'something', 'else', 'better', 'quality', 'chair'], ['package', 'came', 'perfect', 'not', 'used', 'yet', 'smell', 'well'], ['basic', 'good', 'phone', 'size', 'weighs', 'little'], ['tried', 'several', 'one', 'work', 'beginning', 'first', 'second', 'day', 'felt', 'itching', 'armpit', 'applying', 'many', 'time', 'not', 'feel', 'anything', 'sweat', 'zero'], ['arrived', 'late', 'poor', 'quality', 'construction', 'not', 'recommend'], ['like', 'realism', 'insect', 'model'], ['use', 'bicycle', 'not', 'know', 'decibel', 'sound', 'like', 'gravel'], ['perfect', 'seller', 'trust', 'hope', 'buy'], ['fine', 'magnet', 'loses', 'fastening', 'strength', 'make', 'sudden', 'movement', 'end', 'falling'], ['arrived', 'time', 'packaging', 'plastic', 'broken', 'thus', 'material', 'somewhat', 'touched'], ['tape', 'promise', 'walk', 'great', 'run', 'perhaps', 'something', 'narrow', 'better', 'one', 'price', 'behaves'], ['complied', 'desired'], ['liked', 'lot', 'package', 'come', 'number', 'bastons', 'others'], ['install', 'tape', 'broken', 'needed', 'good', 'price'], ['cost', 'go', 'well', 'not', 'expect', 'maximum', 'quality'], ['fast', 'correct'], ['cute', 'mounted', 'luxurious', 'not', 'lack', 'height', 'perfect', 'daughter', 'show', 'last', 'not', 'put', 'star', 'instruction', 'not', 'clear', 'disassemble', 'plate', 'put', 'tap'], ['classification', 'age', 'reading', 'not', 'usually', 'like', 'much', 'since', 'child', 'not', 'deprive', 'good', 'story', 'not', 'reached', 'age', 'marked', 'publishing', 'bought', 'book', 'son', 'since', 'love', 'everything', 'gentleman', 'could', 'not', 'even', 'read', 'leafing', 'book', 'seeing', 'illustration', 'not', 'want', 'reopen', 'fallen', 'gentleman', 'many', 'blood', 'stain', 'consider', 'illustration', 'not', 'knight', 'book', 'theme', 'war', 'death', 'presented', 'book', 'stay', 'bookshelf', 'prepared', 'open'], ['perfect', 'car', 'compact', 'small', 'although', 'think', 'thing', 'could', 'come'], ['put', 'paste', 'sometimes', 'cost', 'see', 'point', 'stretch', 'change', 'perfect'], ['seems', 'send', 'something', 'state', 'without', 'micro', 'without', 'working', 'unhappy', 'purchase', 'top', 'gift', 'find', 'nothing', 'logical', 'suffer', 'nuisance', 'find', 'back', 'disliked', 'lotthis', 'product', 'return'], ['work', 'well', 'not', 'much', 'quality', 'plastic', 'material'], ['advance', 'ten', 'minute', 'week', 'make', 'lot', 'light', 'illuminate', 'night', 'without', 'turning', 'light', 'go', 'well'], ['according', 'mind', 'small'], ['heavy', 'higher', 'economical', 'perceptible', 'difference', 'original', 'two', 'recabas', 'vertical', 'molding', 'appreciated', 'touch', 'knob', 'something', 'try', 'solve', 'recommend', 'leaving', 'lace', 'cap', 'original', 'change', 'bar', 'since', 'installing', 'one', 'brought', 'knob', 'not', 'well', 'fixed', 'rolled', 'longitudinal', 'axis'], ['expected'], ['not', 'convinced', 'returned', 'opting', 'ssd', 'unit', 'worth', 'even', 'sata', 'optane', 'patch', 'show', 'not', 'much', 'read', 'disappointed', 'ssd', 'not', 'even', 'look', 'like', 'fudge', 'recommendable'], ['seems', 'loss', 'time', 'not', 'link', 'application', 'alexa', 'return', 'hour', 'trying', 'configure', 'true', 'disaster'], ['package', 'open', 'thankfully', 'not', 'sexual', 'product', 'everyone', 'would', 'see', 'lack', 'privacy'], ['remove', 'mobile', 'case', 'not', 'tune', 'many', 'time', 'asked', 'two', 'first', 'come', 'still', 'waiting', 'second'], ['never', 'arrived', 'zero', 'seller'], ['charged', 'customer', 'service', 'tell', 'look', 'life', 'call', 'bank', 'return', 'money'], ['okay', 'zipper', 'bit', 'bad', 'not', 'finish', 'adapting', 'well', 'bug', 'enter'], ['not', 'come', 'instruction', 'came', 'alone', 'chinese', 'not', 'router', 'connect', 'mobile', 'wifi', 'router'], ['functional', 'want', 'sometimes', 'compatible', 'sometimes', 'device', 'detects', 'not', 'original', 'stop', 'working', 'unplugs', 'plug', 'run', 'short', 'space', 'time'], ['came', 'broken', 'truth', 'give', 'star', 'fast', 'friendly', 'managing', 'discontent'], ['waiting', 'something', 'else', 'nothing', 'text', 'shine', 'leaf', 'fast', 'not', 'like'], ['box', 'fine', 'distribution', 'not', 'allow', 'store', 'tool'], ['year', 'ago', 'shoemaker', 'perfect', 'quite', 'robust', 'love', 'many', 'shoe', 'price', 'good', 'simple', 'assembly'], ['piece', 'broken', 'assembly', 'impossible', 'finish', 'anyone', 'know', 'buy', 'loose', 'piece'], ['useful', 'water', 'diaper', 'although', 'young', 'child', 'large'], ['filament', 'come', 'well', 'spun', 'coil', 'case', 'red', 'piece', 'printed', 'seems', 'orange'], ['good', 'quality', 'well', 'adjusted', 'paste', 'reader', 'cover', 'little', 'without', 'kindle', 'activated', 'automatically', 'opening'], ['accompanied', 'good', 'aminogram', 'enriched', 'vitamin', 'not', 'good', 'flavor', 'thickens', 'make', 'foam', 'beating', 'favor', 'say', 'rather', 'economical', 'protein', 'protein', 'good', 'option', 'people', 'not', 'want', 'not', 'spend', 'money', 'protein', 'known', 'expensive', 'used', 'several', 'occasion', 'not', 'gone', 'wrong'], ['adapts', 'perfection', 'hitch', 'easy', 'place', 'good', 'fast', 'delivery'], ['great', 'price', 'premium', 'whiskey', 'one', 'paste', 'somewhat', 'loose', 'came', 'package', 'cause', 'break', 'relative', 'ease'], ['perfect', 'expected', 'tape', 'great', 'adjust'], ['good', 'makeup', 'extends', 'well', 'not', 'leave', 'face', 'saturated', 'fine', 'good', 'buy'], ['generated', 'super', 'fine', 'seam', 'noticed', 'not', 'well', 'pretty'], ['product', 'seems', 'fulfill', 'function', 'not', 'able', 'try', 'arrived', 'wrong', 'place', 'looking', 'among', 'neighbor', 'see', 'package', 'arrived'], ['would', 'liked', 'receive'], ['make', 'apano', 'plastic', 'not', 'seen', 'good', 'quality', 'addition', 'not', 'transparent', 'like', 'milky', 'not', 'think', 'good', 'baby', 'view'], ['came', 'need', 'see', 'result'], ['promise', 'bought', 'quite', 'wide', 'tablet', 'supported', 'another', 'one', 'not', 'fit', 'tablet', 'case', 'perfect', 'stability', 'playing', 'screen', 'without', 'problem'], ['product', 'expected', 'description', 'sends', 'unit', 'one', 'needed', 'one', 'annoying', 'description', 'evil'], ['product', 'like', 'good', 'robust', 'finish', 'not', 'give', 'star', 'small', 'oscillation', 'turn', 'make', 'recording', 'gopro', 'lose', 'lot'], ['know', 'use', 'well', 'otherwise', 'leaf', 'mark', 'red', 'punctual', 'use', 'not', 'bad', 'would', 'better', 'recommend', 'manually', 'steam', 'skin', 'not', 'suffer'], ['arrived', 'almost', 'month', 'waiting', 'anything', 'satisfactory', 'purchase', 'china', 'amazon', 'not', 'breathe', 'contact', 'supplier', 'almost', 'never', 'respond'], ['comfortable', 'happy', 'purchase'], ['really', 'like', 'comfortable', 'practical', 'backpack', 'travel', 'walk', 'problem', 'photo', 'say', 'come', 'lace', 'able', 'put', 'car', 'not', 'arrive'], ['not', 'tried', 'also', 'carves', 'well', 'remains', 'proved', 'fell', 'use'], ['flexible', 'good'], ['normal', 'good', 'price', 'ratio'], ['arrive', 'perfect', 'adequate', 'time', 'hair', 'became', 'seem', 'stored', 'palomar', 'arrived', 'full', 'feather', 'haha', 'short', 'well'], ['apart', 'not', 'like', 'bag', 'delicate'], ['printer', 'good', 'value', 'money', 'price'], ['not', 'entirely', 'comfortable'], ['average', 'quality', 'fist', 'low', 'quality', 'plastic', 'one', 'aluminum', 'support', 'squeezing', 'broke'], ['quick', 'not', 'take', 'anything', 'look', 'good'], ['format', 'must', 'longer', 'duration', 'number', 'copy'], ['turned', 'hard', 'not', 'returned', 'see', 'use', 'softer'], ['principle', 'arrive', 'small', 'bag', 'talked', 'store', 'must', 'say', 'treatment', 'great', 'fast', 'sent', 'big', 'bag', 'say', 'great', 'product', 'not', 'professional', 'photographerbut', 'led', 'kit', 'take', 'picture', 'price', 'problem', 'bag', 'talk', 'trade', 'big', 'one', 'sends', 'love', 'product'], ['okay', 'easy', 'remove', 'put'], ['pretty', 'although', 'not', 'see', 'evaporates', 'fast'], ['fine', 'cover', 'mattress', 'bad', 'sheet', 'hard'], ['hello', 'product', 'arrived', 'always', 'expected', 'quality', 'doll', 'tight', 'liking', 'anything', 'baby', 'take', 'everything', 'mouth', 'not', 'said', 'product', 'cheated', 'quality', 'price', 'adjusted'], ['two', 'day', 'put', 'home', 'well', 'box', 'good', 'finish', 'quite', 'large', 'fan', 'front', 'two', 'assembly', 'equipment', 'box', 'simple', 'purchase'], ['seems', 'not', 'box', 'course', 'figure', 'impeccable'], ['part', 'feel', 'bit', 'noisy', 'installed', 'computer', 'still', 'little', 'slow', 'game', 'game'], ['cold', 'not', 'endure', 'much'], ['color', 'light', 'changing', 'make', 'little', 'noise', 'although', 'not', 'annoying'], ['rear', 'mat', 'lack', 'one', 'hole', 'seat', 'rail', 'mounted', 'not', 'fit', 'well', 'berlingo', 'rest', 'quality', 'not', 'smell', 'bad'], ['case', 'would', 'good', 'example', 'buy', 'case', 'husband', 'iphone', 'piece', 'fit', 'perfectof', 'lead', 'problem', 'fund', 'hook', 'pocket', 'detaches', 'main', 'beautiful', 'like', 'style', 'samsung', 'function', 'quite', 'well'], ['knob', 'look', 'good', 'not', 'involved', 'adapter', 'not', 'worth', 'demanding'], ['came', 'fast', 'quite', 'weak', 'cost', 'mount', 'piece', 'not', 'fit', 'well', 'others', 'paste', 'constantly', 'disassembled', 'otherwise', 'needed', 'shoe'], ['good', 'size', 'large', 'wide', 'penis', 'however', 'not', 'lubricated'], ['like', 'size', 'according', 'drink', 'ideal', 'temperature', 'also', 'use', 'fruit'], ['capital', 'letter', 'brings', 'glue', 'edge', 'not', 'adjust', 'well', 'screen', 'tactile', 'screen', 'not', 'work'], ['excellent', 'light', 'better', 'expected', 'lead', 'light', 'lot', 'rear', 'phenomenal', 'thank'], ['cheap', 'poor', 'seen', 'photo', 'already', 'barely', 'month', 'ago', 'end', 'use', 'save', 'adapter', 'ring', 'usually', 'use', 'save', 'filter', 'take', 'photo', 'gobe', 'metal', 'cover', 'avoid'], ['bought', 'work', 'trip', 'usually', 'light', 'almost', 'seems', 'weak', 'seems', 'well', 'wheel', 'missing', 'able', 'take', 'rolling', 'not', 'dragging'], ['fine', 'not', 'hot', 'collect', 'right', 'thing', 'fine'], ['good', 'point', 'cost', 'sometimes', 'change', 'port', 'cable', 'fine'], ['came', 'wheel', 'change', 'position', 'broken', 'backup', 'deadline', 'fulfilled'], ['water', 'not', 'try'], ['although', 'price', 'good', 'fulfills', 'function', 'hard', 'housing', 'find', 'handling', 'uncomfortable'], ['fine', 'poor', 'throw', 'flashing', 'soon', 'take', 'bag', 'fall', 'truth', 'not', 'worth'], ['backpack', 'pretty', 'well', 'quality', 'impossible', 'not', 'drag', 'strip', 'wearing', 'quickly'], ['second', 'day', 'fallen', 'buckle', 'longer', 'worth', 'watchmaker', 'price', 'thing', 'not', 'happen'], ['poche', 'egg', 'come', 'apparatus', 'lean', 'time', 'holding', 'tried', 'not', 'bought', 'would', 'not', 'recommend'], ['excellent', 'comfortable', 'stick', 'addition', 'insurance', 'sense', 'mobile', 'well', 'adjusted', 'give', 'feeling', 'security', 'since', 'not', 'know', 'slide', 'previous', 'failed', 'attempt', 'given', 'good', 'selfie', 'stick'], ['not', 'arrived', 'month', 'ago', 'waiting', 'news', 'product'], ['not', 'liked', 'first', 'use', 'lose', 'pressure'], ['arrived', 'time', 'said', 'pretty', 'small', 'good', 'returned', 'wanted', 'weeping', 'doll', 'mechanism', 'corresponds', 'description'], ['return', 'day', 'released', 'plastic', 'always', 'perfect', 'return'], ['great', 'control', 'well', 'not', 'like', 'others', 'iphone', 'not', 'compatible', 'app', 'not', 'available', 'not', 'download', 'mandatory', 'android'], ['not', 'received', 'delivery', 'date', 'november', 'december', 'still', 'pity', 'child', 'left', 'without', 'birthday', 'asm', 'transport', 'agency', 'call', 'phone', 'not', 'take', 'send', 'mail', 'not', 'respond', 'send', 'sm', 'mobile', 'specify', 'delivery', 'schedule', 'not', 'care', 'preference', 'come', 'time', 'want', 'people', 'home', 'say', 'believe', 'not', 'bothered', 'come'], ['book', 'show', 'careful', 'edition', 'special', 'edition', 'wish', 'version', 'not', 'give', 'star', 'package', 'came', 'beaten', 'poorly', 'protected', 'spine', 'cracked', 'nothing', 'not', 'solved', 'replacement', 'annoying', 'make', 'paperwork'], ['good', 'product', 'joint'], ['good', 'price', 'ratio'], ['velcro', 'one', 'face', 'mosquito', 'net', 'not', 'fastened', 'well'], ['original', 'size', 'warm', 'fun', 'not', 'worry', 'matching'], ['work', 'perfectly', 'price', 'recommend', 'use', 'create', 'sample'], ['perfect', 'opel', 'corsa', 'adjust', 'well', 'easy', 'put', 'regular', 'material'], ['broken', 'could', 'not', 'forth'], ['arrived', 'well', 'problem'], ['somewhat', 'weak', 'plastic', 'leaf', 'function'], ['ignition', 'button', 'stopped', 'working', 'shortly', 'buying', 'returned', 'without', 'putting', 'kind', 'problem', 'truth', 'worked', 'quite', 'well', 'term', 'battery', 'quality', 'amazon', 'service', 'correct'], ['delivery', 'done', 'time', 'tell', 'fast', 'product', 'mark', 'specification', 'good', 'quality', 'thanks'], ['rectify', 'neither', 'original', 'capsule', 'fall', 'horrible', 'not', 'buy', 'nonos', 'spend', 'money', 'capsule', 'not', 'fall', 'not', 'give', 'star', 'score', 'mandatory', 'often', 'thymus'], ['seen', 'photo', 'ring', 'not', 'silver', 'bracelet', 'week'], ['useful', 'economic', 'purchase', 'read', 'charger', 'kept', 'not'], ['buy', 'urban', 'use', 'motorcycle', 'not', 'waterproof', 'protect', 'cold', 'wonderfully'], ['image', 'came', 'without', 'problem', 'fit', 'thing', 'month', 'given', 'little'], ['look', 'good', 'quality'], ['useful', 'take', 'book', 'institute'], ['excellent', 'update', 'ancient', 'watch', 'video', 'music', 'file', 'decisive', 'good', 'image', 'quality', 'giving', 'new', 'activity'], ['well', 'distributed', 'good', 'screw', 'good', 'purchase', 'ideal', 'repairing', 'watch', 'recommended'], ['like', 'previous', 'one', 'liked', 'lot'], ['super', 'delighted', 'son'], ['battery', 'great', 'durability', 'bluetooth', 'good', 'reach'], ['small', 'case', 'barely', 'paint', 'painting'], ['moment', 'work', 'well', 'beautiful', 'design'], ['like', 'not', 'think', 'shame'], ['take', 'right', 'away', 'first', 'washing', 'last'], ['pretty', 'work', 'perfectly', 'arrived', 'time'], ['good', 'presentation', 'seems', 'good', 'quality', 'hope', 'release', 'soon', 'clear', 'color', 'fear', 'get', 'dirty', 'quickly'], ['union', 'nose', 'lens', 'open', 'halfway', 'cheap', 'buy', 'others', 'another', 'brand', 'course'], ['give', 'problem', 'block', 'without', 'turning', 'player', 'start', 'deadline', 'return', 'passed'], ['well', 'packed', 'top', 'box', 'bottom', 'come', 'without', 'protection', 'jab', 'soap', 'arrived', 'quite', 'broken'], ['bag', 'brings', 'good', 'roll', 'buy', 'apart', 'useless', 'absolutely', 'anything'], ['super', 'fast', 'delivery', 'ten', 'day', 'earlier', 'expected'], ['germinate', 'weak', 'not', 'developing', 'well'], ['nice', 'heard', 'well', 'photo', 'looked', 'bigger'], ['work', 'well', 'usb', 'slot', 'together', 'not', 'use', 'depending', 'fact', 'plugging', 'seems', 'turn', 'turn', 'time', 'vest', 'pen', 'whatever', 'constantly'], ['command', 'work', 'correctly', 'configured', 'combining', 'position', 'microinterruptores', 'enough', 'copy', 'arrangement', 'original', 'command', 'even', 'done', 'finger', 'unless', 'one', 'button', 'operational', 'not', 'configured', 'least', 'not', 'found', 'mode', 'instruction', 'not', 'indicate', 'bought', 'model', 'cheaper', 'flo', 'single', 'button', 'would', 'validated'], ['perfect', 'sizevery', 'high', 'quality'], ['used', 'replacement', 'lost', 'piece'], ['good', 'product', 'seems', 'resistant', 'one', 'interior', 'sachet', 'came', 'defective', 'seller', 'returned', 'part', 'money', 'without', 'recommend'], ['seems', 'like', 'not', 'give', 'much', 'security', 'blow', 'protection', 'fine', 'snow', 'skate', 'sport', 'worth', 'motorcycle', 'would', 'save', 'scratch'], ['really', 'liked', 'price', 'pay'], ['regular', 'bit', 'fat', 'difficult', 'drive', 'function'], ['fine', 'could', 'improved', 'durable', 'since', 'ink', 'consumed', 'fast', 'reason', 'think', 'improved'], ['not', 'like', 'quality', 'comparison', 'others', 'unstable', 'move', 'mounted', 'disappointed'], ['bought', 'give', 'okay', 'star'], ['beautiful', 'reality', 'complete', 'good', 'quality'], ['not', 'wrong', 'take', 'expensive', 'quality', 'offer'], ['easy', 'assembly', 'happy', 'resistant', 'bitch'], ['ideal', 'funny'], ['dwarf', 'house', 'delighted', 'strong', 'durability', 'easy', 'connection', 'ideal', 'whole', 'family', 'assured', 'game', 'laugh'], ['manual', 'approach', 'move', 'away', 'precision', 'broader', 'approach'], ['many', 'application', 'not', 'compatible', 'version', 'carry', 'screen', 'spider', 'easily', 'little', 'shine', 'screen', 'sound', 'received', 'already', 'launched', 'return'], ['fair', 'one', 'two', 'us'], ['recommended', 'blank', 'shoe', 'sport', 'without', 'washing', 'machine', 'avoid', 'aggressive', 'wear', 'deterioration'], ['product', 'gift', 'met', 'good', 'price', 'quality', 'ratio'], ['looking', 'modem', 'router', 'retransmissions', 'via', 'streaming', 'certainly', 'looking', 'work', 'well', 'quite', 'simple', 'menu', 'best', 'thing', 'device', 'use', 'connection', 'phone', 'card', 'use', 'time', 'connection', 'via', 'lan', 'cable', 'ethernet', 'reason', 'connection', 'fall', 'card', 'work', 'backup', 'avoiding', 'theissue', 'cut'], ['perfect'], ['not', 'see', 'utility'], ['way', 'road', 'driving'], ['consider', 'excellent', 'meet', 'exactly', 'arrived', 'earlier', 'work', 'correctly'], ['iphone', 'plus', 'not', 'stand', 'weight', 'device', 'go', 'little', 'suppose', 'le', 'weight', 'device', 'fine'], ['returned', 'made', 'video', 'time', 'trying', 'focus', 'annoying', 'image', 'looked', 'blurred', 'clear', 'wrote', 'samsung', 'case', 'making', 'inappropriate', 'use', 'self', 'since', 'not', 'answer', 'decided', 'return'], ['come', 'corresponds', 'case', 'bigger', 'tool', 'seem', 'good', 'absence', 'trying'], ['look', 'good', 'carving', 'tiny'], ['meet', 'paste', 'put', 'sticker', 'letter', 'take', 'fast'], ['good', 'quality', 'adequate', 'size'], ['compact', 'placed', 'guide', 'easily', 'light', 'powerful', 'even', 'say', 'yellow', 'light', 'middle', 'personally', 'not', 'bother', 'advantage', 'luminosity', 'control', 'tactile', 'problem', 'sensitive', 'sometimes', 'turn', 'put', 'star', 'one', 'not', 'work', 'latter', 'using', 'three', 'month', 'without', 'problem'], ['bought', 'product', 'good', 'review', 'one', 'one', 'app', 'varyfitpro', 'limited', 'hardly', 'let', 'introduce', 'number', 'activity', 'monitor', 'not', 'appear', 'maximum', 'number', 'acquiring', 'product', 'take', 'eye', 'app'], ['maybe', 'little', 'weak', 'fold', 'easily', 'function', 'correctly'], ['unhappy', 'late', 'open', 'surprise', 'find', 'everything', 'chopped', 'corner', 'could', 'not', 'put', 'buy', 'another', 'another', 'seller'], ['protector', 'mobile', 'year', 'hardly', 'scratch', 'even', 'le', 'month', 'break', 'corner'], ['funny', 'already', 'punctured'], ['perfect', 'learn', 'take', 'pencil'], ['come', 'broken', 'lock', 'bass', 'not', 'function'], ['product', 'meet', 'say', 'second', 'residence', 'want', 'complies', 'expectation'], ['good', 'proportion', 'quality', 'price', 'fuches', 'perfectly', 'carry', 'game', 'well', 'within', 'capacity'], ['announcement', 'say', 'fast', 'charging', 'false'], ['problem', 'must', 'relatively', 'pity', 'good', 'give', 'second', 'chance', 'another', 'vemdor'], ['fulfills', 'function', 'total', 'telephone', 'protection'], ['rennet', 'pill', 'make', 'cheese', 'great', 'work', 'well', 'delicious', 'cheese', 'recommend'], ['product', 'poor', 'dim', 'light', 'battery', 'last', 'two', 'manufacturer', 'returned', 'order', 'amount'], ['wanted', 'change', 'color', 'closet', 'wardrobe', 'without', 'getting', 'rid', 'sandpaper', 'comfortable', 'result', 'fine', 'careful', 'addition', 'defect', 'furniture', 'see', 'final', 'patience', 'great'], ['took', 'day', 'price', 'not', 'bad', 'bit', 'hard'], ['plastic', 'container', 'came', 'content', 'hard', 'not', 'come', 'change'], ['anti', 'lantern', 'worth', 'amazon', 'never', 'true', 'bought', 'two', 'one', 'cheated', 'reduction', 'reduction'], ['correct', 'product', 'presented', 'not', 'tried', 'much', 'yet', 'seems', 'expected'], ['come', 'without', 'problem', 'effective', 'recommend', 'anyone', 'good', 'experience'], ['buy', 'reconditioned', 'like', 'new', 'came', 'without', 'one', 'returned'], ['comfortable', 'one', 'put', 'silicone', 'bowl', 'although', 'work', 'well', 'give', 'feeling', 'little', 'tobacco', 'enters'], ['never', 'requested', 'week', 'waiting', 'amazon', 'annulled', 'order', 'reimbursed', 'amount', 'charged'], ['daughter', 'asked', 'reyes', 'aesthetically', 'pretty', 'loved', 'carousel', 'apart', 'cradle', 'changer', 'trona', 'plate', 'cutlery', 'etc', 'wardrobe', 'bar', 'side', 'space', 'shelf', 'complete', 'price', 'exaggerated', 'expected', 'something', 'resistantfor', 'expensive', 'material', 'bad', 'plastic', 'typical', 'chinese', 'bazaar', 'soon', 'put', 'something', 'closet', 'cradle', 'stagger', 'little', 'resistant', 'fabric', 'equally', 'poor', 'quality', 'put', 'alittle', 'weight', 'raised', 'shame', 'idea', 'good', 'beautiful', 'practice', 'even', 'size', 'fine', 'higher', 'girl', 'badly', 'done', 'exorbitant', 'price', 'bad', 'quality'], ['monisima', 'real', 'sound'], ['vessel', 'small', 'throw', 'sugar', 'not', 'fit', 'almost', 'coffee'], ['sofa', 'car', 'seat', 'go', 'perfect'], ['perfectly', 'meet', 'mission', 'price', 'good', 'already', 'recognized', 'brand', 'world', 'bike'], ['size', 'well', 'good', 'material', 'surely', 'bought', 'another', 'one', 'another', 'color', 'expected', 'sometimes', 'tried'], ['not', 'seem', 'perfume', 'discovered', 'year', 'smell', 'soft', 'disappears', 'soon'], ['good', 'toilet', 'small', 'install'], ['bad', 'get', 'ready', 'place', 'broken', 'side', 'careful', 'magic', 'broken', 'one', 'remove', 'disappointed', 'money', 'thrown'], ['never', 'get'], ['made', 'order', 'several', 'day', 'got', 'message', 'order', 'returned', 'time', 'received', 'gave', 'return', 'without', 'giving', 'kind', 'course', 'reimbursed', 'purchase', 'money'], ['good', 'product', 'start', 'eating', 'solid', 'peace', 'mind', 'not', 'silicone', 'better', 'fabric', 'hygienic', 'easy', 'flavor', 'bit', 'colored', 'not', 'cleaned', 'using', 'also', 'come', 'three', 'type', 'size'], ['good', 'quality', 'price'], ['package', 'came', 'time', 'told', 'box', 'bequeathed', 'crushed', 'luckily', 'mounting', 'game', 'piece', 'small'], ['low', 'quality', 'not', 'hold', 'chest', 'anything'], ['good', 'morning', 'please', 'request', 'product', 'application', 'option', 'not'], ['impossible', 'pity', 'look', 'pretty', 'way', 'well', 'put', 'not', 'recommend'], ['really', 'liked', 'quality', 'teat', 'not', 'pant', 'fell', 'short', 'returned'], ['good', 'absorption', 'one', 'pet', 'something', 'expensive', 'come', 'price'], ['cage', 'pretty', 'quality', 'horrible', 'make', 'sense', 'staircase', 'not', 'get', 'clean', 'instruction', 'understand', 'not', 'happy'], ['liked', 'bitch', 'not', 'try', 'think', 'going', 'love', 'comfortable'], ['beautiful', 'cheap', 'sometimes', 'get', 'loose'], ['table', 'quite', 'large', 'good', 'stable', 'comfortable', 'print', 'acceptable', 'like', 'flower'], ['small'], ['package', 'came', 'broken'], ['love', 'deluxe', 'edition', 'come', 'real', 'page', 'real', 'newspaper', 'sample', 'generosity', 'trust', 'see', 'part', 'life', 'opinion', 'poured', 'diary', 'different', 'time'], ['failure', 'see', 'rod', 'rear', 'axle', 'weak', 'not', 'hold', 'structure', 'try', 'put', 'little', 'weight', 'rest', 'great', 'aluminum', 'weighs', 'allen', 'key', 'fixed', 'key', 'instruction', 'facilitates', 'assembly'], ['good', 'quality', 'large', 'would', 'like', 'buy', 'smaller', 'size', 'would', 'buy'], ['photo', 'use', 'look', 'fabric', 'fine'], ['best', 'thing', 'protector', 'come', 'seeing', 'little', 'usually', 'last', 'good'], ['case', 'price', 'not', 'ask', 'wonder'], ['fantastic', 'product', 'quickly', 'satisfied'], ['thickness', 'cut', 'adjusted', 'knife', 'use', 'requires', 'attentive', 'not', 'cut'], ['gave', 'son', 'lasted', 'put', 'load', 'longer', 'going'], ['nothing', 'comfortable', 'ergonomic', 'hot', 'baby', 'not', 'stand', 'time', 'try', 'left', 'corvas', 'backpack', 'brace', 'close', 'face', 'even', 'touched'], ['needed', 'additional', 'command', 'garage', 'not', 'walking', 'key', 'original', 'command', 'clemsa', 'fixed', 'friend', 'recommended', 'asked', 'try', 'cost', 'le', 'half', 'asked', 'original', 'command', 'truth', 'shipment', 'took', 'day', 'programming', 'following', 'instruction', 'took', 'le', 'inconvenience', 'not', 'able', 'choose', 'color'], ['sound', 'bad', 'not', 'quality', 'otherwise', 'well', 'good', 'presentation', 'quality', 'according', 'specification'], ['terrible', 'careful', 'type', 'plug'], ['value', 'clock', 'without', 'used', 'yet', 'physically', 'not', 'give', 'good', 'impression', 'seems', 'like', 'toy', 'cutrecillo', 'hope', 'work', 'well', 'endures', 'water', 'indicated', 'specification', 'give', 'one', 'star'], ['fine', 'little', 'weak', 'seems', 'going', 'well'], ['something', 'lazy', 'serf', 'careful', 'cake', 'not', 'break', 'since', 'tense', 'cable', 'not', 'blade', 'price', 'worth'], ['happy', 'perfect'], ['normal', 'micro', 'cloth', 'game', 'thickness', 'size', 'common', 'one', 'find', 'supermarket', 'good', 'quality', 'absorving', 'seem', 'durable', 'case', 'bought', 'clean', 'home', 'ratio'], ['good', 'quality', 'good', 'price'], ['pas', 'truth', 'clean', 'everything', 'recommended', 'relative'], ['arrived', 'perfectly', 'several', 'day', 'happy', 'seller'], ['always', 'buy', 'case', 'seems', 'quality', 'design', 'bit', 'occasion', 'appreciated', 'quality'], ['reached', 'today', 'put', 'today', 'fall', 'half', 'fall', 'flat', 'house', 'house', 'not', 'recommend'], ['broken', 'le', 'year'], ['tried', 'wanted', 'several', 'cream', 'long', 'time', 'tell', 'delighted', 'facial', 'take', 'notice', 'firmer', 'hydrated', 'finally', 'found', 'appropriate', 'anti', 'recommend'], ['bad', 'glass', 'bad', 'false', 'since', 'look', 'fatal', 'lens', 'bad', 'afraid', 'harmful', 'eye', 'not', 'understand', 'product', 'sold', 'amazon'], ['spectacular', 'first', 'sock', 'type', 'hidden', 'not', 'end', 'locking', 'shoe', 'since', 'light', 'infallible', 'silicone', 'support', 'not', 'feel', 'walking', 'function', 'best', 'purchase', 'made', 'practical', 'fantastic', 'good', 'quality', 'comfortable', 'short'], ['got', 'adapter', 'iphone', 'perfect', 'delivery', 'time', 'even', 'tested', 'seems', 'good', 'quality', 'load', 'listen', 'music', 'happy'], ['although', 'tiny', 'mirror', 'back', 'good', 'nothing', 'bother', 'drive'], ['tirado', 'money', 'not', 'hit', 'anywhere', 'not', 'worth', 'correct', 'unusable', 'light', 'adding', 'fixo', 'fight'], ['bought', 'room', 'square', 'meter', 'fails', 'raise', 'temperature', 'degree', 'several', 'hour', 'requested', 'return'], ['approached', 'curiosity', 'pleasantly', 'surprised', 'aspect', 'spiritual', 'side', 'story', 'travel', 'main', 'action', 'catch', 'well', 'documented', 'therefore', 'exquisite', 'refined', 'make', 'reading', 'real', 'pleasure'], ['still', 'not', 'received'], ['comfortable', 'eye', 'size', 'good', 'protection', 'something', 'hot', 'thermal', 'lining', 'far', 'complies'], ['asked', 'twice', 'badly', 'nothing', 'recommended'], ['case', 'protects', 'mobile', 'easy', 'put', 'phone', 'since', 'simply', 'good', 'except', 'dot', 'seen', 'gift', 'friend', 'loved', 'one', 'mine', 'truth', 'lot', 'difference', 'one', 'matter', 'important', 'thing', 'recommended', 'protection', 'visibility'], ['good', 'material', 'fit', 'perfectly', 'huawei', 'lite', 'measure', 'therefore', 'meet'], ['daughter', 'delighted', 'truth', 'much', 'like', 'bullshit', 'price', 'expected', 'lol', 'small', 'lol', 'come'], ['bought', 'month', 'ago', 'used', 'still', 'half', 'bit', 'spicy', 'like', 'rich', 'sweet', 'roast', 'container', 'plastic', 'prefer', 'glass'], ['exactly', 'wanted', 'unfortunately', 'confused', 'measure', 'return'], ['already', 'one', 'bought', 'another', 'carry', 'ebook', 'trip', 'trot', 'given', 'lasted', 'many', 'comfortable', 'recommend'], ['small', 'discreet', 'door', 'installation'], ['product', 'came', 'indicated', 'installation', 'correct', 'recognizes', 'first', 'without', 'printed', 'leaf', 'work', 'month', 'since', 'bought', 'color', 'cartridge', 'not', 'recognize', 'company', 'contacted', 'solved', 'problem', 'delighted', 'service'], ['economic', 'material'], ['product', 'broken', 'everywhere', 'packaging', 'wheel', 'make', 'return', 'opinion', 'weighs', 'already', 'knew', 'weight', 'wheel', 'sooner', 'later', 'going', 'break', 'safely', 'thinking', 'making', 'car', 'case', 'remains', 'opinion'], ['looking', 'good', 'quality', 'not', 'buy', 'fine', 'start'], ['use', 'well', 'every', 'day', 'quite', 'wide', 'washed', 'washing', 'thing', 'lateral', 'not', 'closed', 'inside', 'photo'], ['comfortable', 'good'], ['correct', 'work', 'perfectly', 'japanese', 'playstation'], ['brilliant', 'nice', 'pleasant', 'touch', 'not', 'wrinkle', 'much', 'photo'], ['buy', 'gift', 'upon', 'receiving', 'open', 'see', 'box', 'not', 'bring', 'plastic', 'protection', 'wrapper', 'contain', 'photo', 'frame', 'command', 'despised'], ['thicker', 'would', 'buy', 'best'], ['great', 'least', 'size', 'chose', 'pleasant', 'thing', 'internal', 'cushion', 'not', 'rigid', 'soft', 'washed', 'everything'], ['sent', 'received', 'correctly', 'color', 'not', 'match', 'photography', 'not', 'happy', 'product'], ['much', 'eye', 'amazon', 'bought', 'product', 'amazon', 'paid', 'check', 'offered', 'past', 'due', 'delay', 'delivery', 'sent', 'defective', 'article', 'requesting', 'reimbursement', 'buy', 'another', 'told', 'returned', 'proportional', 'part', 'ran', 'check', 'gave', 'summary', 'offer', 'job', 'use', 'send', 'product', 'poor', 'condition', 'want', 'return', 'reimburse', 'money', 'paid', 'losing', 'day', 'offered', 'scammer'], ['not', 'seen', 'video', 'tutorial', 'game', 'may', 'seem', 'straight', 'usually', 'game', 'like', 'buy', 'original', 'second', 'one', 'fell', 'want', 'try', 'expansion'], ['give', 'star', 'since', 'idea', 'good', 'two', 'month', 'stop', 'working', 'properly', 'give', 'temperature', 'higher', 'normal', 'bought', 'two', 'problem', 'not', 'something', 'shame', 'truth'], ['sound', 'quality', 'good', 'battery', 'last', 'long', 'time', 'due', 'bluetooth', 'uncomfortable', 'cable', 'not', 'needed'], ['nice', 'ending', 'not', 'good'], ['order', 'came', 'correctly', 'quality', 'car', 'normal', 'boy', 'love', 'car', 'star', 'always', 'recommend', 'quantity'], ['good', 'skin', 'cleaner', 'last', 'lot', 'using', 'peel', 'not', 'attack', 'sensitive', 'reactive', 'skin'], ['small', 'team', 'capable', 'giving', 'new', 'life', 'obsolete', 'sound', 'think', 'take', 'advantage'], ['good', 'product', 'good', 'quality', 'low', 'price', 'meet', 'everything', 'shipping'], ['good', 'touch', 'rubber', 'wear', 'fast'], ['pefecto', 'adapts', 'peugeot', 'heavy', 'not', 'slip', 'move', 'adjust', 'perfect', 'paste', 'not', 'cover', 'midfield', 'medium', 'rear', 'purchase'], ['nice', 'comfortable', 'keep', 'command', 'month', 'peak', 'use', 'stopped', 'working', 'bought', 'offer', 'flash', 'reduced', 'requested', 'return', 'expensive', 'micho', 'not', 'give', 'replacement', 'option'], ['book', 'beautiful', 'thickness', 'leaf', 'good', 'use', 'marker', 'leaf', 'yellowish'], ['returned', 'not', 'connect', 'many', 'time', 'problem', 'passing', 'information', 'computer', 'external', 'memory'], ['not', 'received', 'transport', 'agency', 'asm', 'sent', 'express', 'email', 'without', 'problem', 'never', 'find', 'address'], ['package', 'make', 'damaged', 'not', 'received', 'refund', 'money'], ['design', 'good', 'menu', 'not', 'extensive', 'sincere', 'price', 'bought', 'wife', 'apple', 'watch', 'make', 'hard', 'training', 'wife', 'time', 'time', 'andthe', 'calorie', 'not', 'resemble', 'step', 'not', 'ask', 'elmo', 'pear', 'either'], ['happy', 'purchase', 'good', 'quality', 'fulfills', 'mission', 'correct', 'shipping'], ['renault', 'megane', 'berlina', 'model', 'despite', 'berlina', 'practically', 'size', 'normal', 'thought', 'not', 'going', 'fit', 'enters', 'thing', 'part', 'pillow', 'bit', 'raised', 'collides', 'compartment', 'car', 'central', 'solve', 'leaving', 'head', 'part', 'little', 'uninfered', 'put', 'three', 'area', 'inflation', 'head', 'torso', 'leg', 'something', 'good', 'small', 'inconvenience', 'like', 'one', 'told', 'mattress', 'side', 'dejected', 'forward', 'back', 'something', 'useful', 'le', 'wide', 'car', 'also', 'protects', 'side', 'car', 'usually', 'product', 'come', 'useful', 'transport', 'car', 'plug', 'different', 'make', 'lot', 'noise', 'although', 'suppose', 'type', 'type', 'usually', 'closing', 'valve', 'special', 'nozzle', 'inflation', 'air', 'not', 'escape', 'also', 'others', 'accelerate', 'former', 'coupled', 'second', 'cause', 'sometimes', 'inflation', 'take', 'disinfle', 'something', 'give', 'little', 'anger', 'take', 'good', 'product', 'price'], ['fold', 'middle', 'weight'], ['perfect', 'put', 'cream', 'makeup', 'came', 'little', 'broken', 'edge', 'use', 'tray', 'height', 'want'], ['pleasantly', 'surprised', 'size', 'lightness', 'easy', 'assemble', 'make', 'pleasant', 'pleasant', 'light', 'recommend'], ['not', 'get', 'product', 'already', 'follow', 'delivery', 'date', 'postponing', 'never', 'arrived'], ['perfect', 'liked', 'lot', 'well', 'size', 'good'], ['total', 'not', 'get', 'well', 'screen', 'touch', 'sensitivity', 'lost', 'tighten', 'write', 'mark', 'mobile', 'fall', 'protector', 'separated', 'instantly', 'not', 'really', 'stuck', 'worst', 'experience', 'glass', 'protector', 'even', 'worse', 'others', 'euro'], ['need'], ['come', 'super', 'good', 'photo'], ['low', 'one', 'flap', 'small', 'high', 'running', 'away'], ['box', 'came', 'bad', 'condition', 'two', 'le', 'pen'], ['arrived', 'time', 'little', 'folded', 'wear', 'plastic', 'edge', 'cover', 'hole', 'bit', 'worth'], ['reading', 'positive', 'opinion', 'game', 'dared', 'buy', 'beginning', 'tutorial', 'seemed', 'acceptable', 'without', 'wonderful', 'game', 'began', 'traveling', 'empty', 'monotonous', 'scenario', 'enemy', 'repeated', 'satiety', 'reach', 'camp', 'send', 'truth', 'not', 'see', 'grace', 'not', 'understand', 'everyone', 'like', 'game', 'leave', 'pure', 'boredom', 'tried', 'give', 'several', 'opportunity', 'honestly', 'could', 'not', 'even', 'bothered', 'look', 'video', 'youtube', 'advanced', 'area', 'nothing', 'not', 'give', 'star', 'recognize', 'design', 'character', 'music', 'fine', 'atmosphere', 'not', 'bad', 'either', 'sincerely', 'not', 'understand', 'much', 'unanimity', 'regarding', 'positive', 'criticism', 'game'], ['break', 'easily'], ['waiting', 'almost', 'month', 'never', 'king', 'claim', 'tell', 'make', 'urgent', 'wonder', 'not', 'bean', 'not', 'free'], ['come', 'well'], ['nice', 'well', 'finished', 'careful', 'blow', 'paint', 'jump'], ['great', 'little', 'baggy', 'mouth', 'nose', 'not', 'hurt', 'much'], ['fulfill', 'rush'], ['put', 'stomach', 'make', 'eliminate', 'many', 'liquid', 'keep', 'back', 'dry', 'easily', 'happy'], ['expected', 'perfect'], ['bulb', 'normal', 'turned', 'switch', 'turn', 'turn', 'switch', 'scam', 'movement', 'sensor', 'pull', 'not', 'work'], ['nothing', 'lasted', 'load', 'disassemble'], ['good', 'power', 'connecting', 'light', 'remember', 'work', 'autonomously', 'drum', 'led', 'blinked', 'made', 'unusable'], ['love', 'size', 'design', 'comfort', 'put'], ['arrived', 'defective', 'given', 'return'], ['glass', 'not', 'cover', 'screen', 'totality', 'phone', 'not', 'detect', 'phone'], ['clock', 'good', 'price', 'cost', 'bit', 'understand', 'put', 'time', 'error', 'proof', 'couple', 'time', 'already', 'guess', 'purchase', 'girl'], ['zipper', 'fuck', 'show', 'poor', 'quality', 'fine'], ['come', 'pearl', 'happy', 'file', 'little', 'coupled', 'well'], ['use', 'series', 'inject', 'air', 'force', 'room', 'going', 'well', 'basic', 'well', 'mounted', 'strong'], ['excellent', 'recommend', 'like', 'nature', 'buy', 'see', 'incredible', 'image'], ['fulfill', 'expectation', 'regarding', 'number', 'load', 'mobile', 'ipad', 'maybe', 'something', 'heavy'], ['perfect', 'super', 'comfortable', 'beautiful'], ['truth', 'comfortable', 'use', 'intuitive', 'installation', 'refers', 'install', 'install', 'fan', 'hardly', 'space', 'cable', 'fit', 'expert', 'tetri', 'ableall', 'cable'], ['looking', 'lack', 'anchor', 'wall', 'easily', 'necessary', 'taco', 'counteract'], ['hello', 'not', 'like', 'anything', 'thin', 'absorb', 'little'], ['fabric', 'thin', 'need', 'worth', 'washing', 'not', 'fell', 'even', 'though', 'shrunk', 'retal', 'model', 'come', 'add', 'variety', 'plus'], ['truth', 'wheel', 'original', 'irobot', 'see', 'anything', 'confirmed', 'hope', 'installed', 'work', 'least', 'original', 'piece'], ['box', 'broken', 'product', 'javier'], ['look', 'good', 'little', 'loose', 'mattress', 'good', 'would', 'buy'], ['yego', 'planned', 'date'], ['use', 'mainly', 'migraine', 'crush', 'truth', 'relief', 'moment', 'complaint'], ['device', 'serf', 'paid', 'euro', 'see', 'dtt', 'netflix', 'amazon', 'prime', 'not', 'work', 'since', 'say', 'not', 'compatible', 'device', 'hope', 'able', 'return', 'yet', 'device', 'kodi', 'work', 'limitation'], ['month', 'use', 'say', 'not', 'time', 'cost', 'enough', 'detect', 'understand', 'price', 'not', 'ask', 'much'], ['second', 'time', 'returning', 'first', 'come', 'broken', 'truth', 'seems', 'well', 'packed', 'not', 'know', 'problem', 'transport', 'company', 'going', 'think', 'whether', 'ask', 'reason'], ['bottle', 'arrived', 'half', 'open', 'product', 'come', 'arrived', 'would', 'like', 'change', 'another', 'good', 'condition'], ['not', 'star', 'not', 'bring', 'several', 'repeated', 'letter', 'not', 'let', 'form', 'almost', 'stick', 'well', 'soft', 'not', 'break', 'fine'], ['good', 'watch', 'good', 'price'], ['curious', 'fun', 'fun', 'create', 'airplane', 'kid', 'although', 'imagined', 'larger'], ['worth', 'need'], ['chair', 'moment', 'time', 'assembly', 'not', 'cost', 'much', 'mount', 'transport', 'service', 'badly', 'not', 'give', 'door', 'floor', 'left', 'door', 'building', 'seur'], ['practical', 'make', 'space', 'however', 'adherent', 'similar', 'surface', 'could', 'good', 'not', 'move', 'much', 'taking', 'leaving', 'box'], ['practical', 'pillow', 'several', 'position', 'light', 'easy', 'save', 'used', 'separately', 'thanks', 'zip', 'join', 'party'], ['take', 'hit', 'rest', 'well'], ['product', 'described', 'good', 'gigabit', 'router', 'good', 'price'], ['pretty', 'well', 'gift', 'excessively', 'right'], ['not', 'yet', 'received', 'package', 'paid', 'solve', 'problem'], ['way', 'cut', 'anything', 'spoil', 'course', 'cut', 'fabric', 'not', 'work', 'thing', 'longer', 'let', 'return', 'purchase'], ['not', 'received'], ['toy', 'not', 'extracted'], ['arrived', 'right', 'away', 'child', 'liked', 'correctors'], ['quality', 'price', 'fine', 'not', 'robust', 'first', 'day', 'riding', 'piece', 'already', 'left', 'pending', 'axis', 'wheel', 'not', 'removed', 'otherwise', 'mission', 'whichit', 'hose', 'not', 'thrown', 'throughout', 'patio'], ['photo', 'well', 'gift', 'really', 'liked', 'person', 'question'], ['not', 'like', 'anything', 'flavor', 'disgusting', 'yet', 'mixing', 'taste', 'protein', 'not', 'recommend', 'natural', 'not', 'flavor', 'neutral', 'flavor', 'know', 'ray', 'leaf', 'lump', 'not', 'like', 'product', 'product', 'liked', 'product', 'think', 'well', 'kilo'], ['really', 'disappointed', 'product', 'time', 'taken', 'send', 'product', 'seen', 'first', 'photograph', 'asked', 'fluorine', 'black', 'surprise', 'open', 'package', 'got', 'red', 'yellow', 'not', 'anything', 'spanish', 'flag', 'not', 'asked', 'paid'], ['bowl', 'seem', 'small', 'image', 'seemed', 'bigger', 'not', 'convince'], ['lost', 'order', 'not', 'want', 'return', 'money', 'called', 'five', 'time', 'customer', 'service', 'lie', 'continuously', 'really', 'wash', 'hand'], ['perfect', 'single', 'farewell', 'would', 'not', 'ask', 'quality', 'anything', 'else', 'not', 'expect', 'much', 'price'], ['not', 'like', 'title', 'put', 'dinosaur', 'assorted', 'one', 'fact', 'child', 'liked', 'child', 'not', 'like', 'potato'], ['describe', 'full', 'cover', 'not', 'like', 'aluminum', 'protector', 'crital', 'true', 'not', 'leave', 'trace', 'touch', 'going', 'well'], ['allows', 'enjoy', 'much', 'recording', 'time', 'although', 'last', 'much', 'le', 'original', 'fulfills', 'function', 'good', 'purchase'], ['first', 'smell', 'strong', 'use', 'motorcycle', 'wearing', 'glass', 'tarnish', 'constantly'], ['thought', 'going', 'receive'], ['chose', 'case', 'mainly', 'price', 'wrong', 'end', 'spent', 'money', 'another', 'much', 'expensive', 'much', 'design', 'fit', 'well', 'ipad', 'pro', 'front', 'cover', 'work', 'perfectly', 'putting', 'ipad', 'rest', 'magnet', 'help', 'keep', 'folded', 'want', 'set', 'device', 'video', 'viewing', 'position', 'big', 'problem', 'case', 'shortest', 'edge', 'ipad', 'not', 'protect', 'anything', 'also', 'not', 'provide', 'damping', 'front', 'short', 'designed', 'mild', 'quite', 'careful', 'device', 'experience', 'taught', 'matter', 'much', 'end', 'falling', 'bedside', 'table', 'couch', 'addition', 'cost', 'worth', 'spending', 'money', 'cover', 'provides', 'serious', 'protection'], ['shortly', 'installing', 'artichoke', 'fell', 'support', 'turned', 'due', 'weight', 'shower'], ['waiting', 'worse', 'would', 'paid', 'even', 'seen', 'size', 'perfect', 'look', 'good', 'quality', 'material', 'sewing', 'delighted'], ['beautiful', 'dwarf', 'knew', 'little', 'thought', 'minimal', 'twice', 'much'], ['folding', 'back', 'fixed', 'not', 'look', 'cost', 'look'], ['good', 'product', 'resistant', 'well', 'finished', 'bike', 'excessively', 'heavy', 'excessively', 'large', 'hook', 'despite', 'purchase', 'good'], ['bought', 'design', 'people', 'well', 'made', 'epic', 'pair', 'uncomfortable', 'going', 'try', 'new', 'culot', 'see', 'not', 'convince'], ['meet', 'nothing', 'write', 'nothing', 'write', 'nothing', 'write'], ['sole', 'laughing', 'weigh', 'little'], ['say', 'delivered', 'today', 'mailbox', 'not', 'nothing', 'shame'], ['pretty', 'different', 'bought', 'back', 'cervical', 'day', 'not', 'use', 'love', 'seems', 'massage', 'given', 'person'], ['disappointed', 'given', 'result', 'product', 'cost', 'third', 'not', 'define', 'curl', 'well', 'last', 'little', 'not', 'eliminate', 'not', 'repeat'], ['pink', 'bracelet', 'stained', 'right', 'away', 'not', 'come', 'black', 'bracelet', 'dark', 'resists', 'dirt', 'better'], ['bad', 'copy', 'touch', 'glass', 'came', 'broken'], ['not', 'amazing', 'product', 'serf', 'arrive', 'planned', 'happy'], ['look', 'good'], ['short', 'time', 'meet', 'expectation', 'bought', 'new', 'happy', 'purchase'], ['correct', 'well', 'emboldened', 'arrive', 'planned', 'correct', 'without', 'repeat'], ['not', 'compatible', 'envy', 'problem', 'return', 'clarity', 'customer', 'service'], ['body', 'porexpan', 'abolished', 'easily', 'fabric', 'cover', 'quite', 'needed', 'one', 'measure', 'bought', 'even', 'quality', 'not', 'convince'], ['not', 'value', 'not', 'reached', 'yet'], ['truth', 'not', 'notice', 'improvement'], ['patience', 'remove', 'enough', 'hair', 'yes', 'hurt', 'little', 'price', 'not', 'ask', 'much'], ['always', 'good', 'shipping', 'fast', 'fulfill', 'expectation', 'perfect'], ['good', 'transaction', 'communication', 'everything', 'expected', 'appears', 'photo', 'fast', 'shipping', 'thank'], ['delivery', 'deadline', 'established', 'time', 'purchase'], ['delivery', 'date', 'february', 'day', 'not', 'received', 'make', 'claim'], ['okay', 'base', 'move', 'lot'], ['fluff', 'suck', 'anything', 'make', 'lot', 'noise', 'deposit', 'super', 'small'], ['passport', 'cover', 'broke', 'shortly', 'rest', 'great'], ['already', 'bought', 'lot', 'ago', 'still', 'perfect', 'condition', 'expected', 'time', 'edge', 'soft', 'folded', 'spoiled', 'practical', 'ebook', 'perfectly'], ['needed', 'fish', 'confused', 'want', 'eat', 'not', 'tried', 'yet'], ['not', 'surprised', 'violence', 'axis', 'without', 'plot', 'not', 'successful', 'previous', 'title'], ['buy', 'headset', 'next', 'gigaset', 'using', 'month', 'half', 'wireless', 'headset', 'longer', 'seems', 'headset', 'load', 'platform', 'connector', 'defective', 'pray', 'amazon', 'responds', 'minimal', 'guarantee', 'product'], ['not', 'liked', 'extracted', 'difficulty', 'container', 'break', 'easily', 'not', 'hold', 'well', 'face', 'effect', 'not', 'striking', 'either', 'eyelid', 'little', 'else', 'cool', 'somewhat'], ['badly', 'long', 'arrive', 'shattered', 'box', 'flag', 'magnifying', 'glass', 'magnifying', 'glass', 'not', 'meet', 'spectative'], ['bit', 'hard', 'open', 'pin', 'box', 'burst', 'bad', 'presence'], ['not', 'thought', 'work', 'well'], ['price', 'magnificent', 'projector', 'ideal', 'looking', 'projector', 'see', 'series', 'movie', 'room', 'yes', 'separate', 'sound', 'system', 'computer', 'speaker', 'least', 'since', 'native', 'sound', 'not', 'good', 'already', 'image', 'quality', 'surprised', 'good', 'expected', 'much', 'le', 'quality', 'price'], ['not', 'photo', 'typical', 'costume', 'lamp', 'matte', 'yellow', 'gold', 'change', 'announcement', 'photo'], ['good', 'afternoon', 'tell', 'one', 'tapa', 'broken', 'would', 'like', 'know'], ['medium', 'seam'], ['quick', 'shipping', 'good', 'quality'], ['although', 'seem', 'quality', 'installed', 'difficult', 'operate', 'phone', 'screen', 'cost', 'detect', 'finger', 'thick', 'protector', 'not', 'know', 'cost', 'detect', 'want', 'main', 'menu', 'lower', 'central', 'part', 'screen'], ['one', 'stool', 'missing', 'one', 'piece', 'another', 'not', 'able', 'ride'], ['touch', 'brutal', 'done', 'form', 'take', 'first', 'month', 'difficult', 'sleep', 'taking', 'form', 'comfortable'], ['small', 'unit'], ['not', 'like', 'anything', 'fly', 'walk', 'front', 'device', 'mouse', 'laugh', 'face', 'thrown', 'money', 'scam'], ['great', 'hit', 'cover', 'even', 'ring', 'end', 'loosening'], ['quite', 'basic', 'agenda', 'leaf', 'fine', 'fulfills', 'function', 'fix', 'fact', 'day', 'not', 'highlighted', 'bold', 'another', 'color'], ['product', 'late', 'wait', 'not', 'tried', 'yet', 'hope', 'go', 'well'], ['not', 'value', 'well', 'barely', 'used', 'bit', 'sensitive', 'hand', 'hurt'], ['perfect', 'mounted', 'running', 'seat', 'cordoba', 'not', 'happier', 'exact', 'purchase'], ['sometimes', 'restart', 'frozen', 'think', 'expensive', 'problem'], ['fulfills', 'perfectly', 'moment'], ['always', 'pleasure', 'play', 'great', 'saga', 'thing', 'really', 'repeat', 'made', 'sell', 'character', 'customizable', 'armor', 'dlc', 'format', 'god'], ['pretty', 'small', 'look', 'like', 'toy', 'fine', 'three', 'year', 'not', 'much'], ['bought', 'temporary', 'offer', 'amazon', 'not', 'recommend', 'design', 'versatility'], ['nice', 'shirt', 'bad', 'thing', 'painting', 'wearing', 'use', 'not', 'much', 'appreciated', 'fabric', 'good', 'quality'], ['material', 'iron', 'without', 'tempering', 'soft'], ['two', 'part', 'disassembled', 'every', 'little', 'tablet', 'slip', 'nothing', 'happy', 'bought', 'use', 'vertically', 'buy', 'another', 'later', 'resistant'], ['hardcover', 'book', 'story', 'bit', 'sad', 'help', 'stage', 'starting', 'present'], ['different', 'image', 'smaller', 'screen'], ['take', 'long', 'time', 'heat', 'paraffin'], ['not', 'remain', 'stay', 'not', 'reach', 'edge', 'tlf', 'protector', 'edge', 'not', 'adhere', 'well', 'cheap', 'not', 'worth'], ['last', 'lot', 'nude', 'color', 'transparent', 'purple', 'not', 'like', 'photo'], ['load', 'well', 'engage', 'mobile', 'plug', 'bit', 'short'], ['well', 'fulfilled', 'without', 'economic'], ['arrive', 'later', 'expected'], ['fulfills', 'characteristic', 'impermeability', 'noise', 'level', 'unsatisfactory', 'give', 'sensation', 'upper', 'part', 'curl', 'provides', 'heat'], ['good', 'purchase', 'good', 'price', 'would'], ['acceptable', 'wetting', 'pool', 'reach', 'lot', 'get', 'waist', 'suggest', 'elastic', 'silicone', 'strip', 'little', 'one', 'house', 'still', 'like'], ['throw', 'smelled', 'fatal', 'although', 'washed', 'thousand', 'time', 'continued', 'burnt', 'metal', 'failure'], ['low', 'quality', 'bond', 'quite', 'large'], ['bought', 'expected', 'smell', 'similar', 'aftersha', 'well', 'look', 'bit', 'not', 'not', 'bad', 'not', 'think', 'buy'], ['not', 'adhere', 'well', 'not', 'follow', 'curvature', 'cell', 'cell'], ['cheap', 'fulfills', 'depending', 'look'], ['one', 'not', 'two', 'broken'], ['bluetooth', 'headphone', 'good', 'price', 'le', 'euro', 'comfortable', 'great', 'connection', 'not', 'excellent', 'change', 'room', 'sound', 'come', 'choppy', 'battery', 'life', 'not', 'even', 'reach', 'fact', 'completely', 'loaded', 'not', 'arrived', 'half', 'hour', 'well', 'price', 'not', 'ask', 'truth'], ['ecological', 'suspense', 'novel', 'one', 'hand', 'tell', 'survival', 'protagonist', 'hostile', 'alaska', 'hand', 'conveys', 'tension', 'father', 'son'], ['liked', 'idea', 'lot', 'open', 'already', 'dice', 'letter', 'erased', 'not', 'want'], ['phone', 'unable', 'connect', 'mobile', 'emergency', 'technical', 'service', 'brand', 'problem', 'screen', 'another', 'mobile', 'model', 'not', 'know', 'tell', 'whether', 'not', 'could', 'fix', 'strange'], ['entertaining', 'age'], ['not', 'used', 'used', 'not', 'want', 'work', 'lathe', 'change', 'thanks'], ['happy', 'shoe', 'adapt', 'foot', 'like', 'glove'], ['come', 'part', 'part', 'fixed', 'car', 'one', 'grab', 'tlf', 'xiaomi', 'redmi', 'partner', 'put', 'xiaomi', 'without', 'problem'], ['not', 'recommend', 'way', 'notify', 'wassap'], ['not', 'not', 'worked', 'bought', 'good', 'day', 'arrived'], ['light', 'headband', 'long', 'practical', 'extending', 'cable', 'sound', 'helmet', 'low'], ['good', 'image', 'slow'], ['father', 'child', 'want', 'mobile', 'good', 'option', 'catch', 'worst', 'someone', 'accustomed', 'fluid', 'half', 'range', 'not', 'recommend', 'since', 'navigation', 'quite', 'tedious'], ['article', 'love', 'design'], ['sent', 'talked', 'say', 'time', 'would', 'next', 'day', 'write', 'telling', 'happened', 'not', 'true', 'since', 'one', 'came', 'looking', 'stationery', 'left'], ['first', 'going', 'well', 'cartridge', 'fail'], ['love', 'bad', 'thing', 'control', 'water', 'put', 'le', 'envelope', 'fill', 'bathtub', 'child', 'waist', 'seen', 'photo'], ['adjustable', 'measure', 'wrist', 'easily', 'fine', 'elegant'], ['video', 'netflix', 'hbo', 'type', 'subscription', 'app', 'not', 'forget', 'watching', 'hbo', 'app'], ['beautiful', 'not', 'harm', 'not', 'satisfied'], ['product', 'fine', 'detail', 'controlled', 'manufacturer', 'distributor', 'putting', 'example', 'color', 'ball', 'usually', 'darker', 'reality', 'photo', 'not', 'wing', 'gathered', 'ball', 'way', 'remains', 'already', 'returned', 'one', 'reason', 'sent', 'another', 'fear', 'return', 'send', 'another', 'equal', 'infinity'], ['okay', 'small', 'small', 'ball', 'loses', 'fast', 'pressure', 'since', 'plug', 'water', 'chosen', 'remove', 'truth', 'water', 'come', 'strongly', 'hurt', 'little'], ['good', 'function', 'perfectly', 'fulfills', 'taken', 'away', 'uncomfortable', 'sensation', 'numbness'], ['buy', 'cable', 'connect', 'home', 'cinema', 'quality', 'good', 'fine', 'due', 'quality', 'relationship'], ['basic', 'listens', 'also', 'worth', 'little'], ['little', 'bigger', 'love', 'also', 'remove', 'rear', 'put', 'battery', 'spent', 'fast', 'always', 'fear', 'breaking', 'hears', 'well'], ['want', 'record', 'box', 'came', 'without', 'protection', 'without', 'packaging', 'little', 'gift', 'truth', 'not', 'never', 'happened', 'everything', 'always', 'come', 'box', 'truth'], ['authentic', 'minute', 'placing', 'find', 'ground', 'could', 'not', 'believe', 'taken', 'fallen', 'ground', 'without', 'touching'], ['good', 'product', 'needed'], ['cover', 'adapts', 'perfectly', 'terminal', 'good', 'quality', 'matte', 'yellow', 'lasted', 'took', 'protective', 'plastic', 'put', 'color', 'except', 'one', 'acquired', 'since', 'absorbs', 'everything', 'touch'], ['much', 'smaller', 'expected', 'not', 'earn', 'dog', 'not', 'elastic'], ['fish', 'not', 'eat', 'put', 'grain', 'tasty'], ['everything', 'perfect', 'not', 'noticed', 'anything', 'weird', 'operation', 'normal', 'aspect'], ['girl', 'lot', 'chest', 'not', 'meet', 'expectation'], ['neither', 'bought', 'previously', 'well', 'two', 'not', 'work', 'color', 'not', 'exist', 'made', 'head', 'clean', 'printer', 'still', 'shot', 'not', 'buy', 'anymore'], ['good', 'photo', 'bad', 'glass', 'nothing', 'photo', 'appear', 'ad', 'quite', 'disappointed'], ['something', 'original', 'make', 'detail', 'birthday', 'liked', 'article', 'not', 'used', 'yet', 'waiting', 'occasion', 'hope', 'work', 'fit', 'not', 'taken', 'long', 'get', 'would', 'liked', 'rotating'], ['screen', 'bit', 'devil'], ['brings', 'measure', 'not', 'advise'], ['good', 'product', 'correct', 'sound', 'possibility', 'moving', 'pressing', 'problem', 'manual', 'technical', 'service', 'made', 'arrive', 'mail'], ['going', 'well', 'cover', 'seat', 'look', 'good'], ['arrived', 'late'], ['perfect', 'announced'], ['great', 'work', 'perfectly', 'look', 'first', 'well', 'instruction', 'fast', 'use', 'encapsulate', 'powdered', 'vegetable', 'able', 'dose', 'recommend', 'simplicity', 'use', 'good', 'final', 'result'], ['perfect', 'would', 'repeat', 'not', 'scratch', 'comment', 'fast', 'original', 'color'], ['not', 'like', 'putting', 'food', 'load', 'not', 'activate', 'recording'], ['not', 'photo', 'say', 'served', 'nikon', 'not', 'unhappy', 'product', 'company', 'sell', 'sent', 'email', 'not', 'answered'], ['activate', 'guarantee'], ['give', 'low', 'assessment', 'spoiled', 'feeder', 'arrived', 'not', 'sent', 'replacement'], ['beautiful', 'tap', 'paste', 'cane', 'dance', 'little', 'not', 'end', 'settle', 'base'], ['clock', 'good', 'led', 'light', 'brings', 'night', 'not', 'see', 'time'], ['poor', 'quality', 'year', 'cable', 'already', 'broken', 'longer', 'load', 'mala', 'quality', 'price', 'paid'], ['neither', 'received', 'nor', 'waiting', 'money', 'week', 'asking', 'return', 'article', 'not', 'even', 'received', 'playing', 'money'], ['adhesive', 'liked', 'black', 'stained', 'lot', 'practically', 'impossible', 'remove', 'spot', 'front'], ['perfect', 'described', 'work', 'pleasure', 'buy'], ['product', 'well', 'packaged', 'protected', 'typical', 'plastic', 'cap', 'not', 'connected', 'monitor', 'suppose', 'work', 'remove', 'star', 'since', 'measure', 'announces', 'not', 'least', 'bought', 'put', 'raspberry', 'behind', 'not', 'enough', 'cable', 'hope', 'not'], ['not', 'able', 'connect', 'difficult', 'configure'], ['returned', 'last', 'small', 'good', 'quality'], ['shipment', 'arrived', 'super', 'fast', 'bracelet', 'not', 'work', 'not', 'even', 'turned', 'return', 'refund', 'fast', 'seller'], ['assembly', 'problem', 'piece', 'not', 'goat', 'leg', 'already', 'autonomy', 'hour', 'resulton', 'fun', 'spend', 'entertaining', 'time', 'child', 'nothing', 'advisable', 'adult', 'use'], ['tarnished', 'inside', 'good', 'watch', 'poor', 'quality'], ['wanted', 'hub', 'save', 'connect', 'many', 'cable', 'turn', 'hdmi', 'not', 'work', 'tried', 'several', 'laptop', 'window', 'linux', 'usb', 'work'], ['comfortable', 'although', 'crush', 'right', 'away'], ['bought', 'give', 'away', 'liked', 'complete', 'good', 'arrived', 'deadline', 'well', 'packed'], ['disappoints', 'ten', 'year', 'since', 'anniversary', 'could', 'reach', 'album', 'similar', 'fact', 'take', 'lot', 'little', 'new', 'chicha'], ['glove', 'exceeded', 'expectation'], ['elegant', 'beautiful'], ['not', 'make', 'charger'], ['fulfill', 'function', 'problem', 'cost', 'lot', 'separate', 'connected', 'apart', 'gone', 'badly', 'discard', 'average', 'quality', 'pulling'], ['easy', 'mount', 'super', 'good', 'would', 'recommend'], ['gave', 'friend', 'birthday', 'liked', 'gift', 'told', 'used', 'daily', 'well', 'couple', 'cat', 'say', 'lot', 'cup', 'remains', 'whole'], ['chinese', 'manufacturing', 'product', 'sent', 'bought', 'aliexpress', 'also', 'came', 'flat', 'plug', 'not', 'say', 'not', 'see', 'buying', 'amazon', 'spain', 'not', 'expect', 'think', 'amazon', 'indicate', 'origin', 'manufacturer', 'product', 'note', 'shipment', 'continues', 'appear', 'thati', 'receive', 'received', 'july'], ['funny', 'small', 'color', 'beautiful', 'gift', 'liked', 'although', 'not', 'thank', 'much', 'itziar'], ['okay', 'excessive', 'price'], ['seller', 'not', 'meet', 'smarphon', 'came', 'problem', 'put', 'contact', 'returned', 'product', 'reimbursement', 'return', 'expense', 'day', 'would', 'account', 'three', 'month', 'passed', 'still', 'wait', 'return', 'shipping', 'cost'], ['good', 'product', 'design', 'brush', 'soft'], ['bag', 'good', 'defect', 'two', 'hook', 'brings', 'elderly', 'hang', 'stroller', 'since', 'not', 'use', 'use', 'since', 'holding', 'closure', 'velcro', 'close', 'way', 'around', 'theq', 'putting', 'weight', 'hook', 'without', 'support', 'chair', 'since', 'open', 'one', 'sewn', 'upside', 'velcro', 'not', 'hold'], ['product', 'meet', 'specified', 'characteristic', 'image', 'shipment', 'lousy', 'not', 'fulfilling', 'deadline', 'already', 'long', 'month', 'arriving', 'almost', 'week', 'late', 'changing', 'delivery', 'date', 'expiration'], ['microwave', 'work', 'correctly', 'although', 'heat', 'price'], ['easy', 'assemble', 'apparently', 'good', 'durability', 'quite', 'paste', 'put', 'hanging', 'not', 'adapt', 'well', 'bar', 'hold', 'come', 'lot', 'weight', 'not', 'move', 'least', 'folded', 'mission'], ['perfectly', 'adjust', 'kindle', 'paperwhite', 'great', 'magnetic', 'closure', 'turn', 'light', 'screen', 'value', 'money'], ['happy', 'two', 'month', 'use', 'begin', 'roughly', 'area', 'instep', 'exterior', 'part', 'rest', 'carve', 'little', 'big', 'price', 'not', 'going', 'give', 'professional', 'use', 'fulfill'], ['bought', 'battery', 'one', 'made', 'full', 'load', 'long', 'would', 'buy'], ['experience', 'wonderful', 'quitapelusas', 'sticker', 'use', 'first', 'day', 'not', 'take', 'trial', 'day', 'put', 'case', 'bought', 'mobile', 'everything', 'perfect', 'nothing', 'taken', 'touch', 'also', 'recommend', 'without', 'doubt'], ['dish', 'good', 'quality', 'beautiful', 'not', 'weigh', 'salad', 'bowl', 'perfect', 'people'], ['loose', 'sweetened', 'novel', 'hang', 'not', 'waste', 'time'], ['soon', 'order', 'arrived', 'install', 'not', 'work', 'blocked', 'fad', 'time', 'still', 'waiting', 'reimbursement'], ['used', 'product', 'cover', 'terrace', 'little', 'big', 'good', 'avoiding', 'water', 'wind', 'satisfied', 'plan', 'buy', 'another', 'another', 'table'], ['confused', 'poorly', 'explained', 'assembly', 'part', 'specifically', 'wooden', 'taco', 'poor', 'balanced', 'expected', 'need', 'urgently', 'not', 'returned'], ['function', 'second', 'time', 'buy', 'delighted', 'printer', 'recognizes', 'original', 'impression', 'excellent', 'duration', 'repeat', 'delighted', 'brand'], ['first', 'gps', 'quality', 'relation', 'price', 'good', 'course', 'heard', 'taken', 'week', 'happy', 'far'], ['average', 'back', 'strong', 'high', 'back', 'kidney', 'leg', 'happy', 'hope', 'last', 'turn', 'turn', 'one', 'day', 'caught', 'bone', 'not', 'know', 'break', 'break', 'device', 'seen'], ['well', 'alarm', 'not', 'disgusted', 'fact', 'rubber', 'finish', 'seemed', 'quite', 'cool', 'plastic', 'back', 'lack', 'battery', 'made', 'put', 'not', 'seem', 'like', 'bad', 'product'], ['not', 'recommended', 'memory', 'save', 'photograph', 'not', 'allow', 'change', 'bell', 'wallpaper'], ['despite', 'knowing', 'not', 'official', 'quality', 'product', 'poor'], ['jacket', 'due', 'value', 'money', 'met', 'protection', 'pretty', 'good', 'back', 'not', 'rigid', 'kind', 'tough', 'puma', 'rubber', 'always', 'better', 'not', 'carrying', 'anything'], ['tried', 'install', 'recently', 'beginning', 'printer', 'not', 'recognize', 'not', 'let', 'print', 'not', 'mean', 'need', 'print', 'something', 'urgent', 'leaf', 'without', 'not', 'lose', 'throw', 'money'], ['happy', 'purchase', 'battery', 'stopped', 'lasting', 'beginning', 'since', 'two', 'day', 'ago', 'not', 'stand', 'three', 'hour'], ['thought', 'bed', 'disappointment'], ['two', 'day', 'passed', 'since', 'expected', 'delivery', 'date', 'still', 'not', 'receive', 'would', 'like', 'make', 'clear', 'negative', 'assessment', 'not', 'article', 'seller', 'case', 'amazon', 'particularly', 'company', 'distribution', 'amazon', 'not', 'controlling', 'delivery', 'thoroughly', 'especially', 'not', 'listening', 'complaint', 'article', 'come', 'give', 'opportunity', 'choose', 'certain', 'transport', 'seur', 'always', 'delay', 'delivery', 'article', 'bring', 'even', 'changed', 'delivery', 'date', 'authorized', 'still', 'waiting', 'angry', 'situation', 'premium', 'client', 'see', 'pay', 'subscription', 'not', 'sometimes', 'respected'], ['shipping', 'china', 'package', 'take', 'long', 'time', 'also', 'possible', 'case', 'lose', 'contact', 'seller', 'send', 'case', 'second', 'shipment', 'delayed', 'shipment', 'month', 'since', 'made', 'order', 'received', 'buy', 'seller', 'package', 'not', 'arrive', 'course', 'friendly', 'claim', 'answer', 'addition', 'want', 'return', 'money', 'package', 'not', 'happy', 'product'], ['box', 'come', 'totally', 'deformed'], ['not', 'reached', 'home', 'yet', 'not', 'give', 'good', 'assessment', 'sorry'], ['quality', 'material', 'broke', 'shortly', 'use'], ['kitchen', 'lack', 'right', 'door', 'countertop', 'tell', 'not', 'send', 'another', 'longer', 'stay', 'make', 'shame'], ['report', 'order', 'come', 'day', 'end', 'arrives', 'delay', 'prime'], ['correct', 'complete', 'kit'], ['simple', 'furniture', 'not', 'asked', 'not', 'visible', 'area', 'could', 'little', 'robust'], ['well', 'battery', 'spent', 'fast', 'noisy', 'two', 'cat', 'year', 'old', 'watched', 'couch', 'case', 'end', 'trash', 'four', 'cover', 'given', 'niece', 'make', 'purse', 'cost', 'little'], ['product', 'fine'], ['good', 'perfect', 'fiber', 'peel', 'cable', 'quite', 'good', 'dedicate', 'facility', 'moment', 'well'], ['bought', 'blister', 'tried', 'true', 'package', 'not', 'well', 'packed', 'wet', 'box', 'broken', 'ampoule', 'came', 'read', 'buyer'], ['machinery', 'reliable', 'aesthetically', 'bought', 'give', 'away', 'liked', 'lot'], ['gift', 'great', 'packaged', 'obviously', 'original', 'follow', 'table', 'ask', 'correct', 'number'], ['not', 'bad', 'price', 'worth'], ['great', 'excellent', 'product', 'fast', 'service'], ['need'], ['striking', 'not', 'last', 'little', 'chalk', 'dry', 'purchase'], ['cute', 'perfect', 'papis', 'open', 'good', 'choice', 'recommend'], ['excellent', 'plate', 'give', 'marble', 'effect', 'excellent', 'result'], ['already', 'month', 'almost', 'daily', 'use', 'falling', 'pedal', 'left', 'bearing', 'becoming', 'disassemble', 'console', 'suddenly', 'began', 'produce', 'unbearable', 'brake', 'pad', 'quite', 'skinny', 'smell', 'buried', 'give', 'lot', 'connecting', 'rod', 'right', 'pedal', 'began', 'gain', 'slack', 'made', 'strong', 'crunch', 'sound', 'stronger', 'pressing', 'screw', 'carry', 'seems', 'solved', 'see', 'long', 'size', 'measure', 'limit', 'everything', 'not', 'recommend', 'month', 'pedalier', 'axis', 'broken', 'unusable', 'attached', 'photo'], ['work', 'badly', 'first', 'day', 'distortion', 'heard', 'telephone', 'not', 'returned', 'disorder', 'entail'], ['excellent', 'exceeded', 'recommend', 'arrived', 'earlier', 'battery', 'last', 'lot', 'loaded'], ['liking', 'relatively', 'beautiful', 'original', 'section', 'brush', 'enters', 'clean', 'short', 'central', 'zone', 'annoying', 'not', 'know', 'last', 'long'], ['quality', 'front', 'used', 'mountain'], ['bufff', 'not', 'give', 'blue', 'material'], ['bad', 'not', 'work', 'month', 'waiting', 'adapts', 'fatal', 'lighter'], ['bought', 'idea', 'suction', 'cup', 'capable', 'adhering', 'rough', 'surface', 'seemed', 'like', 'great', 'support', 'fulfills', 'fiance', 'although', 'hit', 'well', 'lifting', 'lever', 'make', 'suction', 'cup', 'stick', 'well', 'not', 'forcing', 'first', 'disappointed', 'little', 'day', 'later', 'saw', 'type', 'support', 'become', 'fashionable', 'typical', 'gift', 'store', 'model', 'found', 'eur', 'cost', 'eur', 'wheni', 'bought'], ['feel', 'nothing', 'besides', 'quite', 'small', 'not', 'see', 'truth', 'not', 'reference', 'others', 'first', 'time', 'use', 'kind', 'thing', 'come', 'not', 'find', 'grace'], ['beautiful', 'came', 'wrinkled', 'impression', 'drawing', 'not', 'good', 'bad', 'printed'], ['paste', 'weighs', 'lot', 'take', 'beach', 'every', 'day'], ['compatible', 'give', 'lot', 'failure'], ['front', 'plate', 'wheel', 'anchored', 'misaligned', 'design', 'respect', 'central', 'axis', 'son', 'tried', 'straight', 'meter', 'away', 'automatically', 'turned', 'left', 'due', 'returned'], ['protector', 'fit', 'well', 'top', 'speaker', 'cover', 'well', 'bubble', 'bothering', 'not', 'take', 'away', 'put', 'carefully', 'four', 'bubble', 'impossible', 'remove', 'screen', 'also', 'lost', 'sensitivity', 'although', 'protection', 'show', 'good'], ['little', 'cutter', 'contact', 'surface', 'one', 'worst', 'quality', 'product', 'tested', 'lacor'], ['currently', 'linux', 'another', 'delighted'], ['work', 'three', 'battery', 'last', 'lot', 'multiple', 'program', 'adapt', 'menu', 'intuitive', 'instruction', 'spanish', 'dolores', 'program', 'work', 'material', 'year', 'half', 'use', 'forced', 'correct', 'opinion', 'product', 'certainly', 'good', 'taking', 'account', 'price', 'post', 'sale', 'service', 'leaf', 'much', 'desired', 'year', 'half', 'device', 'stopped', 'operating', 'far', 'normal', 'happen', 'claim', 'guarantee', 'year', 'warranty', 'give', 'option', 'get', 'touch', 'phone', 'postal', 'mail', 'company', 'german', 'web', 'available', 'form', 'not', 'even', 'deign', 'seems', 'unfortunate', 'company', 'know', 'sell', 'online', 'claim', 'not', 'able', 'put', 'address', 'available', 'customer', 'already', 'know', 'point', 'take', 'account'], ['arrive', 'three', 'day', 'bravo', 'drill', 'work', 'perfectly'], ['badly', 'requested', 'command', 'according', 'model', 'television', 'not', 'assumed', 'eur', 'shipping', 'cost', 'even', 'prime', 'exactly', 'command', 'said', 'adapted', 'tried', 'adjust', 'nothing', 'not', 'first', 'time', 'face', 'going', 'process', 'return', 'see', 'also', 'pay', 'seems', 'not', 'return', 'get', 'account', 'throw', 'course', 'never', 'not', 'think', 'sale', 'policy', 'successful'], ['occupies', 'little', 'space', 'house', 'used', 'lot', 'excellent', 'quality', 'price', 'relationship', 'recommend', 'model'], ['look', 'good', 'broken', 'handle', 'gift', 'not', 'return', 'hit', 'pity'], ['good', 'recommend'], ['not', 'like', 'not', 'slow', 'race', 'end', 'abrupt', 'end'], ['good', 'repeat', 'toner', 'arrived', 'fast', 'without', 'problem', 'use', 'compatibility'], ['arrived', 'fast', 'correct', 'size'], ['camera'], ['first', 'happy', 'product', 'loading', 'fullest', 'lasted', 'night', 'rest', 'time', 'almost', 'year', 'lasted', 'plugged', 'stopped', 'working'], ['not', 'buy', 'headphone', 'hear', 'fatal', 'like']]\n"
     ]
    }
   ],
   "source": [
    "sentence = df['cleaed_translated_review'].tolist()\n",
    "splited_sent = [sent.split() for sent in sentence]\n",
    "print(splited_sent)"
   ]
  },
  {
   "cell_type": "markdown",
   "metadata": {
    "id": "JRaPFJpIZggr"
   },
   "source": [
    "The ability of Word2Vec to assemble vectors of related words gives it its effectiveness. Word2Vec can provide accurate predictions about a word's meaning based on its usage in the text when given a sizable enough dataset. With other words in the corpus, these estimations produce word associations.\n",
    "\n",
    "Word2Vec need data in list of words of each document. Hence we convert attribute into list using .tolist(). And then we split the each sentense."
   ]
  },
  {
   "cell_type": "code",
   "execution_count": 39,
   "metadata": {
    "colab": {
     "base_uri": "https://localhost:8080/"
    },
    "id": "iW_GawUpGRhS",
    "outputId": "4780dec8-160d-49d1-e66c-73e1831c5fb0"
   },
   "outputs": [
    {
     "name": "stderr",
     "output_type": "stream",
     "text": [
      "WARNING:gensim.models.base_any2vec:under 10 jobs per worker: consider setting a smaller `batch_words' for smoother alpha decay\n"
     ]
    }
   ],
   "source": [
    "word2vec_model = Word2Vec(splited_sent, min_count = 2, window = 3)"
   ]
  },
  {
   "cell_type": "markdown",
   "metadata": {
    "id": "AZ4SMlaKZxbn"
   },
   "source": [
    "Unfortunately, when I train and create the word2vec model, I only take a small number of \"batch words\" into account. So, it is issuing a caution. To forecast the target word, I used the input \"splited sent\" with a window size of 3 and instructed it to take into account the \"min count\" of word 2."
   ]
  },
  {
   "cell_type": "code",
   "execution_count": 40,
   "metadata": {
    "id": "8cQjwOG6GRjK"
   },
   "outputs": [],
   "source": [
    "word2vec_model.save('word2vec.model')"
   ]
  },
  {
   "cell_type": "code",
   "execution_count": 41,
   "metadata": {
    "id": "Ugqt2TvuGRlK"
   },
   "outputs": [],
   "source": [
    "def vectorizer(list_of_docs, model):\n",
    "    features = [] #numerical format of document\n",
    "    for review in list_of_docs:\n",
    "        vectors = []\n",
    "        zero_vectors = np.zeros(model.vector_size)\n",
    "        for word in review:\n",
    "            if word in model.wv:\n",
    "                try:\n",
    "                    vectors.append(model.wv[word])\n",
    "                except KeyError:\n",
    "                    continue\n",
    "        if vectors:\n",
    "            vectors = np.asarray(vectors)\n",
    "            average_vectors = vectors.mean(axis = 0)\n",
    "            features.append(average_vectors)\n",
    "        else:\n",
    "            features.append(zero_vectors)\n",
    "    return features"
   ]
  },
  {
   "cell_type": "markdown",
   "metadata": {
    "id": "YUCD4t4_aQvD"
   },
   "source": [
    "Here, we vectorize words with a len of 100 for each word. Here, we are utilizing the \"First For loop\" to go over each review. Additionally, zero vectors are constructed for words for which no word vectors are created. If we do not assign a zero vector to that word, we will encounter an error and our program will terminate.\n",
    "\n",
    "Using a \"second For loop,\" we are currently iterating over each word of each review. If a word already exists in the \"customized word2vec model,\" an attempt will be made to add it to the \"vector list.\"\n",
    "\n",
    "If a vector is provided, an array with all vectors in it will be created. We will now obtain the word2vec of all papers, which is the average word vector across all words found in those texts. Furthermore, document vector will be added to the feature list.\n",
    "\n",
    "Additionally, there is a chance that some documents' vectors won't be formed; in this case, I attach a zero vector."
   ]
  },
  {
   "cell_type": "code",
   "execution_count": 42,
   "metadata": {
    "colab": {
     "base_uri": "https://localhost:8080/"
    },
    "id": "W4-MmvKPGRnC",
    "outputId": "b26ffae8-da52-43bf-d1c1-a93878a59e22"
   },
   "outputs": [
    {
     "data": {
      "text/plain": [
       "array([[-0.00342112, -0.0025301 ,  0.0009358 , ..., -0.00536823,\n",
       "         0.00229904, -0.00021759],\n",
       "       [-0.01841666, -0.00744147,  0.0146879 , ..., -0.02483358,\n",
       "        -0.00185011, -0.0025755 ],\n",
       "       [-0.00085011,  0.00047285,  0.00238645, ..., -0.00177787,\n",
       "         0.00332756, -0.00053771],\n",
       "       ...,\n",
       "       [ 0.00204079, -0.00468465, -0.00235807, ..., -0.00581934,\n",
       "         0.00072659,  0.00282298],\n",
       "       [-0.00958491, -0.0037446 ,  0.0056354 , ..., -0.01257135,\n",
       "        -0.00080844, -0.00115409],\n",
       "       [-0.01782652, -0.00842025,  0.0121048 , ..., -0.01927406,\n",
       "        -0.00362492, -0.00268671]])"
      ]
     },
     "execution_count": 42,
     "metadata": {},
     "output_type": "execute_result"
    }
   ],
   "source": [
    "X_vectors = vectorizer(splited_sent, word2vec_model)\n",
    "X_word2vec = np.array(X_vectors)\n",
    "X_word2vec"
   ]
  },
  {
   "cell_type": "markdown",
   "metadata": {
    "id": "QrfP32Y_c6_M"
   },
   "source": [
    "By using np.array(X_vector) we combine vectors of all the documents for our model training"
   ]
  },
  {
   "cell_type": "markdown",
   "metadata": {
    "id": "V6BgkeAr0oVr"
   },
   "source": [
    "# Model Training & Evaluation "
   ]
  },
  {
   "cell_type": "markdown",
   "metadata": {
    "id": "v7rqsalrkiXV"
   },
   "source": [
    "# Identifying the Number of Cluster"
   ]
  },
  {
   "cell_type": "markdown",
   "metadata": {
    "id": "d837-_95kl0i"
   },
   "source": [
    "### Elbow Methods"
   ]
  },
  {
   "cell_type": "code",
   "execution_count": 43,
   "metadata": {
    "id": "ywhJJjMDkhta"
   },
   "outputs": [],
   "source": [
    "k_list = []\n",
    "elbow_score = []\n",
    "\n",
    "for k in range(1,10):\n",
    "  k_list.append(k)\n",
    "  model = KMeans(n_clusters = k)\n",
    "  model.fit(X_word2vec)\n",
    "  elbow_score.append(model.inertia_)"
   ]
  },
  {
   "cell_type": "markdown",
   "metadata": {
    "id": "B5MMay86tmZ9"
   },
   "source": [
    "Here, we first decided on K as the number of clusters we wanted to include in our dataset.\n",
    "The centroid of each cluster is then created at random using k feature vectors. Then, place each data point on its closest centroid. Then, by calculating the means of each and every data point inside the same cluster, we recalculate the centroid of the cluster. We keep doing this until the intertia convergence/intertia changes stop. Our needed number of clusters for this dataset is where we reach convergence."
   ]
  },
  {
   "cell_type": "code",
   "execution_count": 44,
   "metadata": {
    "colab": {
     "base_uri": "https://localhost:8080/",
     "height": 542
    },
    "id": "3olAPsmjlLjb",
    "outputId": "baa7c574-1910-4e6b-b7c1-634da1875102"
   },
   "outputs": [
    {
     "data": {
      "text/html": [
       "<html>\n",
       "<head><meta charset=\"utf-8\" /></head>\n",
       "<body>\n",
       "    <div>            <script src=\"https://cdnjs.cloudflare.com/ajax/libs/mathjax/2.7.5/MathJax.js?config=TeX-AMS-MML_SVG\"></script><script type=\"text/javascript\">if (window.MathJax) {MathJax.Hub.Config({SVG: {font: \"STIX-Web\"}});}</script>                <script type=\"text/javascript\">window.PlotlyConfig = {MathJaxConfig: 'local'};</script>\n",
       "        <script src=\"https://cdn.plot.ly/plotly-2.8.3.min.js\"></script>                <div id=\"d3074d02-f851-40ba-aab7-07c2f15041b4\" class=\"plotly-graph-div\" style=\"height:525px; width:100%;\"></div>            <script type=\"text/javascript\">                                    window.PLOTLYENV=window.PLOTLYENV || {};                                    if (document.getElementById(\"d3074d02-f851-40ba-aab7-07c2f15041b4\")) {                    Plotly.newPlot(                        \"d3074d02-f851-40ba-aab7-07c2f15041b4\",                        [{\"x\":[1,2,3,4,5,6,7,8,9],\"y\":[2.1508578848787714,0.9533623710208533,0.5673389356810756,0.3991458828759452,0.31973963496763214,0.26956344442286456,0.23713087902341956,0.21219501105224015,0.1955485731449691],\"type\":\"scatter\"}],                        {\"template\":{\"data\":{\"bar\":[{\"error_x\":{\"color\":\"#2a3f5f\"},\"error_y\":{\"color\":\"#2a3f5f\"},\"marker\":{\"line\":{\"color\":\"#E5ECF6\",\"width\":0.5},\"pattern\":{\"fillmode\":\"overlay\",\"size\":10,\"solidity\":0.2}},\"type\":\"bar\"}],\"barpolar\":[{\"marker\":{\"line\":{\"color\":\"#E5ECF6\",\"width\":0.5},\"pattern\":{\"fillmode\":\"overlay\",\"size\":10,\"solidity\":0.2}},\"type\":\"barpolar\"}],\"carpet\":[{\"aaxis\":{\"endlinecolor\":\"#2a3f5f\",\"gridcolor\":\"white\",\"linecolor\":\"white\",\"minorgridcolor\":\"white\",\"startlinecolor\":\"#2a3f5f\"},\"baxis\":{\"endlinecolor\":\"#2a3f5f\",\"gridcolor\":\"white\",\"linecolor\":\"white\",\"minorgridcolor\":\"white\",\"startlinecolor\":\"#2a3f5f\"},\"type\":\"carpet\"}],\"choropleth\":[{\"colorbar\":{\"outlinewidth\":0,\"ticks\":\"\"},\"type\":\"choropleth\"}],\"contour\":[{\"colorbar\":{\"outlinewidth\":0,\"ticks\":\"\"},\"colorscale\":[[0.0,\"#0d0887\"],[0.1111111111111111,\"#46039f\"],[0.2222222222222222,\"#7201a8\"],[0.3333333333333333,\"#9c179e\"],[0.4444444444444444,\"#bd3786\"],[0.5555555555555556,\"#d8576b\"],[0.6666666666666666,\"#ed7953\"],[0.7777777777777778,\"#fb9f3a\"],[0.8888888888888888,\"#fdca26\"],[1.0,\"#f0f921\"]],\"type\":\"contour\"}],\"contourcarpet\":[{\"colorbar\":{\"outlinewidth\":0,\"ticks\":\"\"},\"type\":\"contourcarpet\"}],\"heatmap\":[{\"colorbar\":{\"outlinewidth\":0,\"ticks\":\"\"},\"colorscale\":[[0.0,\"#0d0887\"],[0.1111111111111111,\"#46039f\"],[0.2222222222222222,\"#7201a8\"],[0.3333333333333333,\"#9c179e\"],[0.4444444444444444,\"#bd3786\"],[0.5555555555555556,\"#d8576b\"],[0.6666666666666666,\"#ed7953\"],[0.7777777777777778,\"#fb9f3a\"],[0.8888888888888888,\"#fdca26\"],[1.0,\"#f0f921\"]],\"type\":\"heatmap\"}],\"heatmapgl\":[{\"colorbar\":{\"outlinewidth\":0,\"ticks\":\"\"},\"colorscale\":[[0.0,\"#0d0887\"],[0.1111111111111111,\"#46039f\"],[0.2222222222222222,\"#7201a8\"],[0.3333333333333333,\"#9c179e\"],[0.4444444444444444,\"#bd3786\"],[0.5555555555555556,\"#d8576b\"],[0.6666666666666666,\"#ed7953\"],[0.7777777777777778,\"#fb9f3a\"],[0.8888888888888888,\"#fdca26\"],[1.0,\"#f0f921\"]],\"type\":\"heatmapgl\"}],\"histogram\":[{\"marker\":{\"pattern\":{\"fillmode\":\"overlay\",\"size\":10,\"solidity\":0.2}},\"type\":\"histogram\"}],\"histogram2d\":[{\"colorbar\":{\"outlinewidth\":0,\"ticks\":\"\"},\"colorscale\":[[0.0,\"#0d0887\"],[0.1111111111111111,\"#46039f\"],[0.2222222222222222,\"#7201a8\"],[0.3333333333333333,\"#9c179e\"],[0.4444444444444444,\"#bd3786\"],[0.5555555555555556,\"#d8576b\"],[0.6666666666666666,\"#ed7953\"],[0.7777777777777778,\"#fb9f3a\"],[0.8888888888888888,\"#fdca26\"],[1.0,\"#f0f921\"]],\"type\":\"histogram2d\"}],\"histogram2dcontour\":[{\"colorbar\":{\"outlinewidth\":0,\"ticks\":\"\"},\"colorscale\":[[0.0,\"#0d0887\"],[0.1111111111111111,\"#46039f\"],[0.2222222222222222,\"#7201a8\"],[0.3333333333333333,\"#9c179e\"],[0.4444444444444444,\"#bd3786\"],[0.5555555555555556,\"#d8576b\"],[0.6666666666666666,\"#ed7953\"],[0.7777777777777778,\"#fb9f3a\"],[0.8888888888888888,\"#fdca26\"],[1.0,\"#f0f921\"]],\"type\":\"histogram2dcontour\"}],\"mesh3d\":[{\"colorbar\":{\"outlinewidth\":0,\"ticks\":\"\"},\"type\":\"mesh3d\"}],\"parcoords\":[{\"line\":{\"colorbar\":{\"outlinewidth\":0,\"ticks\":\"\"}},\"type\":\"parcoords\"}],\"pie\":[{\"automargin\":true,\"type\":\"pie\"}],\"scatter\":[{\"marker\":{\"colorbar\":{\"outlinewidth\":0,\"ticks\":\"\"}},\"type\":\"scatter\"}],\"scatter3d\":[{\"line\":{\"colorbar\":{\"outlinewidth\":0,\"ticks\":\"\"}},\"marker\":{\"colorbar\":{\"outlinewidth\":0,\"ticks\":\"\"}},\"type\":\"scatter3d\"}],\"scattercarpet\":[{\"marker\":{\"colorbar\":{\"outlinewidth\":0,\"ticks\":\"\"}},\"type\":\"scattercarpet\"}],\"scattergeo\":[{\"marker\":{\"colorbar\":{\"outlinewidth\":0,\"ticks\":\"\"}},\"type\":\"scattergeo\"}],\"scattergl\":[{\"marker\":{\"colorbar\":{\"outlinewidth\":0,\"ticks\":\"\"}},\"type\":\"scattergl\"}],\"scattermapbox\":[{\"marker\":{\"colorbar\":{\"outlinewidth\":0,\"ticks\":\"\"}},\"type\":\"scattermapbox\"}],\"scatterpolar\":[{\"marker\":{\"colorbar\":{\"outlinewidth\":0,\"ticks\":\"\"}},\"type\":\"scatterpolar\"}],\"scatterpolargl\":[{\"marker\":{\"colorbar\":{\"outlinewidth\":0,\"ticks\":\"\"}},\"type\":\"scatterpolargl\"}],\"scatterternary\":[{\"marker\":{\"colorbar\":{\"outlinewidth\":0,\"ticks\":\"\"}},\"type\":\"scatterternary\"}],\"surface\":[{\"colorbar\":{\"outlinewidth\":0,\"ticks\":\"\"},\"colorscale\":[[0.0,\"#0d0887\"],[0.1111111111111111,\"#46039f\"],[0.2222222222222222,\"#7201a8\"],[0.3333333333333333,\"#9c179e\"],[0.4444444444444444,\"#bd3786\"],[0.5555555555555556,\"#d8576b\"],[0.6666666666666666,\"#ed7953\"],[0.7777777777777778,\"#fb9f3a\"],[0.8888888888888888,\"#fdca26\"],[1.0,\"#f0f921\"]],\"type\":\"surface\"}],\"table\":[{\"cells\":{\"fill\":{\"color\":\"#EBF0F8\"},\"line\":{\"color\":\"white\"}},\"header\":{\"fill\":{\"color\":\"#C8D4E3\"},\"line\":{\"color\":\"white\"}},\"type\":\"table\"}]},\"layout\":{\"annotationdefaults\":{\"arrowcolor\":\"#2a3f5f\",\"arrowhead\":0,\"arrowwidth\":1},\"autotypenumbers\":\"strict\",\"coloraxis\":{\"colorbar\":{\"outlinewidth\":0,\"ticks\":\"\"}},\"colorscale\":{\"diverging\":[[0,\"#8e0152\"],[0.1,\"#c51b7d\"],[0.2,\"#de77ae\"],[0.3,\"#f1b6da\"],[0.4,\"#fde0ef\"],[0.5,\"#f7f7f7\"],[0.6,\"#e6f5d0\"],[0.7,\"#b8e186\"],[0.8,\"#7fbc41\"],[0.9,\"#4d9221\"],[1,\"#276419\"]],\"sequential\":[[0.0,\"#0d0887\"],[0.1111111111111111,\"#46039f\"],[0.2222222222222222,\"#7201a8\"],[0.3333333333333333,\"#9c179e\"],[0.4444444444444444,\"#bd3786\"],[0.5555555555555556,\"#d8576b\"],[0.6666666666666666,\"#ed7953\"],[0.7777777777777778,\"#fb9f3a\"],[0.8888888888888888,\"#fdca26\"],[1.0,\"#f0f921\"]],\"sequentialminus\":[[0.0,\"#0d0887\"],[0.1111111111111111,\"#46039f\"],[0.2222222222222222,\"#7201a8\"],[0.3333333333333333,\"#9c179e\"],[0.4444444444444444,\"#bd3786\"],[0.5555555555555556,\"#d8576b\"],[0.6666666666666666,\"#ed7953\"],[0.7777777777777778,\"#fb9f3a\"],[0.8888888888888888,\"#fdca26\"],[1.0,\"#f0f921\"]]},\"colorway\":[\"#636efa\",\"#EF553B\",\"#00cc96\",\"#ab63fa\",\"#FFA15A\",\"#19d3f3\",\"#FF6692\",\"#B6E880\",\"#FF97FF\",\"#FECB52\"],\"font\":{\"color\":\"#2a3f5f\"},\"geo\":{\"bgcolor\":\"white\",\"lakecolor\":\"white\",\"landcolor\":\"#E5ECF6\",\"showlakes\":true,\"showland\":true,\"subunitcolor\":\"white\"},\"hoverlabel\":{\"align\":\"left\"},\"hovermode\":\"closest\",\"mapbox\":{\"style\":\"light\"},\"paper_bgcolor\":\"white\",\"plot_bgcolor\":\"#E5ECF6\",\"polar\":{\"angularaxis\":{\"gridcolor\":\"white\",\"linecolor\":\"white\",\"ticks\":\"\"},\"bgcolor\":\"#E5ECF6\",\"radialaxis\":{\"gridcolor\":\"white\",\"linecolor\":\"white\",\"ticks\":\"\"}},\"scene\":{\"xaxis\":{\"backgroundcolor\":\"#E5ECF6\",\"gridcolor\":\"white\",\"gridwidth\":2,\"linecolor\":\"white\",\"showbackground\":true,\"ticks\":\"\",\"zerolinecolor\":\"white\"},\"yaxis\":{\"backgroundcolor\":\"#E5ECF6\",\"gridcolor\":\"white\",\"gridwidth\":2,\"linecolor\":\"white\",\"showbackground\":true,\"ticks\":\"\",\"zerolinecolor\":\"white\"},\"zaxis\":{\"backgroundcolor\":\"#E5ECF6\",\"gridcolor\":\"white\",\"gridwidth\":2,\"linecolor\":\"white\",\"showbackground\":true,\"ticks\":\"\",\"zerolinecolor\":\"white\"}},\"shapedefaults\":{\"line\":{\"color\":\"#2a3f5f\"}},\"ternary\":{\"aaxis\":{\"gridcolor\":\"white\",\"linecolor\":\"white\",\"ticks\":\"\"},\"baxis\":{\"gridcolor\":\"white\",\"linecolor\":\"white\",\"ticks\":\"\"},\"bgcolor\":\"#E5ECF6\",\"caxis\":{\"gridcolor\":\"white\",\"linecolor\":\"white\",\"ticks\":\"\"}},\"title\":{\"x\":0.05},\"xaxis\":{\"automargin\":true,\"gridcolor\":\"white\",\"linecolor\":\"white\",\"ticks\":\"\",\"title\":{\"standoff\":15},\"zerolinecolor\":\"white\",\"zerolinewidth\":2},\"yaxis\":{\"automargin\":true,\"gridcolor\":\"white\",\"linecolor\":\"white\",\"ticks\":\"\",\"title\":{\"standoff\":15},\"zerolinecolor\":\"white\",\"zerolinewidth\":2}}}},                        {\"responsive\": true}                    ).then(function(){\n",
       "                            \n",
       "var gd = document.getElementById('d3074d02-f851-40ba-aab7-07c2f15041b4');\n",
       "var x = new MutationObserver(function (mutations, observer) {{\n",
       "        var display = window.getComputedStyle(gd).display;\n",
       "        if (!display || display === 'none') {{\n",
       "            console.log([gd, 'removed!']);\n",
       "            Plotly.purge(gd);\n",
       "            observer.disconnect();\n",
       "        }}\n",
       "}});\n",
       "\n",
       "// Listen for the removal of the full notebook cells\n",
       "var notebookContainer = gd.closest('#notebook-container');\n",
       "if (notebookContainer) {{\n",
       "    x.observe(notebookContainer, {childList: true});\n",
       "}}\n",
       "\n",
       "// Listen for the clearing of the current output cell\n",
       "var outputEl = gd.closest('.output');\n",
       "if (outputEl) {{\n",
       "    x.observe(outputEl, {childList: true});\n",
       "}}\n",
       "\n",
       "                        })                };                            </script>        </div>\n",
       "</body>\n",
       "</html>"
      ]
     },
     "metadata": {},
     "output_type": "display_data"
    }
   ],
   "source": [
    "figure = go.Figure(data = go.Scatter(x = k_list, y = elbow_score))\n",
    "figure.show()"
   ]
  },
  {
   "cell_type": "markdown",
   "metadata": {
    "id": "LLfQujximLnA"
   },
   "source": [
    "I could see the inertia at three here. Following that, the model provides almost constant interia.\n",
    "So I've decided to use 3 clusters for my data."
   ]
  },
  {
   "cell_type": "code",
   "execution_count": 45,
   "metadata": {
    "id": "_grkqEDeGSv6"
   },
   "outputs": [],
   "source": [
    "def kmeans_model(cluster_size, data):\n",
    "    model = KMeans(n_clusters = cluster_size)\n",
    "    model.fit(data)\n",
    "    y_predict = model.predict(data)\n",
    "    return model, y_predict"
   ]
  },
  {
   "cell_type": "markdown",
   "metadata": {
    "id": "1AAAmJVDdN-X"
   },
   "source": [
    "Here, We define the function for model training and will apply all the data (BoW, TFIDF, and Word2Vec data). Here, I train the model using training data."
   ]
  },
  {
   "cell_type": "code",
   "execution_count": 46,
   "metadata": {
    "id": "4DRiCo-gGSy7"
   },
   "outputs": [],
   "source": [
    "kmeans_countvectorizer, y_predict_countvectorizer = kmeans_model(3, X_countvectorizer)"
   ]
  },
  {
   "cell_type": "code",
   "execution_count": 47,
   "metadata": {
    "colab": {
     "base_uri": "https://localhost:8080/"
    },
    "id": "fEHZ9ndtj_pX",
    "outputId": "83b22fe8-875a-4df3-94ce-58bac33cdf3a"
   },
   "outputs": [
    {
     "data": {
      "text/plain": [
       "array([0, 2, 1], dtype=int32)"
      ]
     },
     "execution_count": 47,
     "metadata": {},
     "output_type": "execute_result"
    }
   ],
   "source": [
    "pd.unique(kmeans_countvectorizer.labels_)"
   ]
  },
  {
   "cell_type": "markdown",
   "metadata": {
    "id": "riycrCTodpZn"
   },
   "source": [
    "As we want to get 3 classes like (positive, negative, neutral). Hence we n_cluster = 3 and pass respective data."
   ]
  },
  {
   "cell_type": "code",
   "execution_count": 48,
   "metadata": {
    "colab": {
     "base_uri": "https://localhost:8080/"
    },
    "id": "9x-dZlfmGS2H",
    "outputId": "ddf13216-2d0f-4c40-fcf5-ba36c126eda9"
   },
   "outputs": [
    {
     "data": {
      "text/plain": [
       "array([0, 2, 0, 0, 0, 2, 0, 0, 2, 2, 0, 0, 0, 0, 0, 0, 0, 0, 0, 0, 0, 0,\n",
       "       2, 0, 0, 0, 0, 0, 0, 0, 0, 2, 0, 2, 0, 0, 0, 0, 0, 0, 0, 0, 0, 0,\n",
       "       0, 0, 0, 2, 0, 0, 0, 0, 0, 0, 2, 0, 0, 0, 0, 0, 0, 0, 0, 0, 0, 0,\n",
       "       0, 2, 0, 2, 0, 0, 1, 2, 0, 0, 0, 0, 0, 0, 2, 0, 0, 2, 0, 0, 2, 2,\n",
       "       0, 0, 0, 0, 2, 0, 0, 0, 0, 0, 0, 0, 0, 0, 0, 0, 1, 0, 0, 0, 0, 0,\n",
       "       0, 0, 0, 2, 0, 0, 0, 2, 0, 0, 0, 0, 2, 0, 2, 0, 0, 0, 0, 0, 0, 0,\n",
       "       0, 2, 0, 0, 2, 0, 0, 0, 2, 0, 2, 0, 0, 2, 2, 0, 2, 0, 0, 2, 0, 0,\n",
       "       0, 0, 0, 0, 0, 0, 0, 0, 0, 2, 0, 0, 2, 0, 0, 0, 0, 0, 2, 0, 0, 0,\n",
       "       0, 0, 0, 0, 0, 0, 0, 0, 0, 0, 0, 0, 1, 0, 0, 2, 1, 0, 0, 2, 0, 2,\n",
       "       0, 0, 0, 0, 0, 0, 0, 0, 0, 2, 0, 0, 2, 0, 0, 0, 0, 0, 0, 0, 0, 0,\n",
       "       0, 0, 2, 0, 0, 0, 0, 0, 0, 0, 0, 0, 0, 0, 0, 0, 0, 0, 0, 0, 2, 0,\n",
       "       0, 0, 0, 0, 0, 0, 0, 2, 0, 0, 0, 0, 0, 0, 0, 0, 0, 0, 0, 0, 0, 0,\n",
       "       0, 0, 0, 2, 0, 0, 0, 0, 0, 0, 2, 0, 0, 0, 0, 0, 2, 2, 0, 0, 0, 0,\n",
       "       0, 0, 0, 0, 0, 0, 0, 0, 0, 0, 0, 0, 0, 0, 0, 0, 0, 0, 0, 0, 0, 0,\n",
       "       0, 0, 2, 2, 0, 0, 0, 0, 0, 2, 0, 0, 0, 0, 2, 0, 0, 0, 0, 0, 2, 0,\n",
       "       0, 0, 0, 2, 0, 0, 0, 0, 0, 2, 0, 0, 0, 0, 2, 2, 0, 0, 0, 0, 0, 0,\n",
       "       0, 0, 2, 0, 0, 0, 0, 2, 2, 0, 0, 2, 2, 0, 0, 0, 0, 0, 0, 0, 0, 0,\n",
       "       0, 2, 0, 1, 0, 0, 0, 0, 0, 2, 0, 0, 0, 0, 0, 2, 0, 0, 2, 0, 0, 0,\n",
       "       1, 0, 0, 0, 2, 0, 0, 0, 0, 0, 0, 0, 0, 0, 0, 0, 0, 0, 0, 0, 0, 0,\n",
       "       0, 2, 1, 0, 0, 0, 0, 0, 0, 0, 0, 2, 0, 0, 0, 0, 0, 0, 2, 0, 0, 0,\n",
       "       0, 0, 0, 0, 0, 0, 1, 0, 0, 0, 0, 0, 0, 0, 2, 0, 0, 0, 0, 2, 0, 0,\n",
       "       0, 0, 0, 0, 0, 0, 0, 0, 0, 0, 0, 0, 0, 0, 0, 0, 0, 0, 0, 0, 0, 0,\n",
       "       2, 0, 2, 0, 0, 0, 2, 0, 0, 0, 0, 0, 0, 0, 0, 0, 0, 0, 2, 0, 0, 0,\n",
       "       0, 0, 1, 1, 2, 0, 0, 0, 0, 0, 0, 0, 0, 0, 0, 0, 2, 0, 0, 0, 0, 0,\n",
       "       0, 0, 0, 0, 0, 0, 0, 0, 0, 0, 0, 0, 0, 0, 0, 0, 0, 0, 0, 0, 2, 0,\n",
       "       0, 0, 0, 0, 0, 0, 0, 0, 0, 0, 0, 0, 0, 0, 0, 0, 0, 0, 0, 0, 0, 0,\n",
       "       0, 0, 0, 0, 0, 0, 0, 2, 0, 0, 0, 0, 0, 0, 0, 0, 0, 0, 0, 0, 0, 0,\n",
       "       0, 0, 0, 0, 0, 0, 0, 0, 0, 0, 0, 0, 0, 0, 0, 0, 0, 0, 0, 0, 2, 0,\n",
       "       0, 0, 0, 0, 0, 0, 2, 0, 0, 0, 0, 0, 0, 0, 0, 0, 0, 0, 0, 0, 0, 0,\n",
       "       2, 0, 0, 0, 0, 2, 0, 0, 0, 0, 0, 0, 0, 0, 0, 0, 2, 0, 0, 2, 0, 0,\n",
       "       0, 0, 0, 0, 0, 0, 0, 0, 0, 0, 0, 0, 0, 0, 0, 0, 0, 0, 0, 0, 0, 2,\n",
       "       0, 0, 0, 0, 0, 0, 0, 0, 0, 0, 2, 0, 0, 0, 0, 0, 2, 0, 2, 0, 0, 0,\n",
       "       0, 0, 2, 0, 0, 0, 0, 0, 1, 0, 2, 0, 0, 0, 0, 0, 0, 0, 0, 0, 0, 0,\n",
       "       2, 0, 0, 0, 0, 0, 0, 0, 0, 0, 0, 0, 0, 0, 0, 0, 0, 2, 2, 0, 0, 1,\n",
       "       0, 0, 0, 2, 0, 0, 0, 0, 0, 0, 0, 0, 0, 0, 2, 0, 1, 2, 0, 0, 2, 2,\n",
       "       2, 0, 0, 0, 2, 0, 0, 0, 0, 0, 0, 0, 0, 0, 0, 2, 0, 0, 0, 0, 0, 0,\n",
       "       0, 0, 2, 0, 0, 0, 0, 0, 0, 0, 0, 0, 0, 0, 2, 0, 2, 0, 0, 0, 0, 0,\n",
       "       0, 0, 0, 0, 0, 0, 0, 0, 0, 0, 0, 0, 0, 0, 0, 0, 0, 0, 0, 0, 0, 0,\n",
       "       0, 0, 1, 0, 0, 0, 0, 0, 0, 0, 0, 0, 2, 2, 0, 0, 2, 0, 0, 2, 0, 2,\n",
       "       0, 0, 0, 2, 0, 0, 0, 0, 0, 0, 0, 0, 0, 2, 0, 0, 0, 0, 0, 0, 0, 0,\n",
       "       0, 0, 2, 0, 0, 0, 2, 0, 2, 0, 0, 0, 0, 0, 0, 0, 0, 2, 2, 0, 0, 0,\n",
       "       0, 0, 0, 0, 0, 1, 0, 0, 2, 0, 0, 0, 0, 0, 0, 0, 0, 0, 0, 0, 0, 2,\n",
       "       0, 0, 0, 0, 2, 0, 0, 2, 0, 0, 0, 0, 0, 0, 0, 0, 0, 0, 0, 0, 2, 2,\n",
       "       0, 2, 1, 0, 0, 1, 2, 0, 2, 0, 0, 0, 0, 2, 0, 0, 0, 0, 0, 0, 0, 0,\n",
       "       0, 0, 0, 0, 0, 0, 0, 0, 0, 0, 0, 0, 2, 0, 0, 0, 0, 0, 0, 0, 2, 0,\n",
       "       2, 0, 0, 0, 2, 0, 0, 0, 0, 0], dtype=int32)"
      ]
     },
     "execution_count": 48,
     "metadata": {},
     "output_type": "execute_result"
    }
   ],
   "source": [
    "y_predict_countvectorizer"
   ]
  },
  {
   "cell_type": "code",
   "execution_count": 49,
   "metadata": {
    "id": "80F5ryHPGS4p"
   },
   "outputs": [],
   "source": [
    "kmeans_tfidf, y_predict_tfidf = kmeans_model(3, X_tfidf)"
   ]
  },
  {
   "cell_type": "code",
   "execution_count": 50,
   "metadata": {
    "colab": {
     "base_uri": "https://localhost:8080/"
    },
    "id": "gfL7RJuGj8aV",
    "outputId": "d1ccd3d2-d190-49bd-bfd2-19723092fbad"
   },
   "outputs": [
    {
     "data": {
      "text/plain": [
       "array([0, 2, 1], dtype=int32)"
      ]
     },
     "execution_count": 50,
     "metadata": {},
     "output_type": "execute_result"
    }
   ],
   "source": [
    "pd.unique(kmeans_tfidf.labels_)"
   ]
  },
  {
   "cell_type": "code",
   "execution_count": 51,
   "metadata": {
    "colab": {
     "base_uri": "https://localhost:8080/"
    },
    "id": "nkMZd3dHGS7X",
    "outputId": "4835aa9b-39d8-4ffe-e87e-2494cbd6c63c"
   },
   "outputs": [
    {
     "data": {
      "text/plain": [
       "array([0, 2, 0, 0, 0, 2, 2, 1, 2, 2, 1, 0, 2, 1, 0, 0, 2, 0, 0, 1, 0, 0,\n",
       "       2, 0, 0, 0, 2, 1, 2, 2, 0, 2, 1, 2, 1, 1, 2, 0, 1, 0, 2, 0, 2, 0,\n",
       "       2, 0, 2, 2, 0, 2, 2, 0, 0, 2, 2, 0, 2, 2, 1, 2, 0, 2, 2, 0, 0, 0,\n",
       "       0, 2, 0, 2, 0, 0, 2, 2, 0, 0, 1, 2, 0, 0, 2, 0, 0, 2, 1, 0, 2, 2,\n",
       "       1, 0, 0, 0, 2, 1, 2, 0, 2, 0, 0, 1, 1, 0, 0, 0, 2, 1, 2, 0, 2, 0,\n",
       "       1, 0, 0, 2, 0, 1, 0, 2, 2, 0, 0, 2, 2, 2, 2, 2, 2, 1, 0, 1, 1, 0,\n",
       "       2, 2, 1, 1, 2, 0, 0, 2, 2, 1, 2, 2, 0, 2, 2, 0, 1, 1, 1, 2, 0, 2,\n",
       "       0, 1, 0, 2, 0, 0, 1, 0, 2, 2, 0, 0, 0, 1, 0, 0, 0, 2, 2, 2, 2, 0,\n",
       "       0, 1, 2, 0, 0, 2, 0, 0, 0, 1, 1, 0, 2, 1, 0, 2, 2, 0, 0, 2, 0, 2,\n",
       "       0, 2, 0, 0, 0, 1, 2, 0, 0, 2, 0, 2, 2, 2, 2, 0, 0, 0, 2, 1, 2, 1,\n",
       "       0, 0, 2, 0, 2, 0, 0, 1, 0, 1, 0, 0, 2, 0, 0, 0, 0, 2, 0, 1, 2, 0,\n",
       "       2, 0, 1, 1, 1, 0, 0, 0, 2, 0, 0, 2, 0, 2, 2, 0, 0, 0, 0, 0, 1, 0,\n",
       "       0, 0, 0, 2, 0, 1, 0, 1, 0, 1, 2, 1, 2, 1, 0, 0, 2, 2, 2, 1, 2, 0,\n",
       "       2, 0, 2, 0, 2, 0, 0, 0, 0, 1, 1, 1, 1, 0, 0, 2, 0, 2, 0, 1, 2, 0,\n",
       "       0, 2, 2, 2, 2, 1, 1, 1, 1, 2, 0, 2, 0, 2, 0, 1, 0, 0, 0, 0, 2, 0,\n",
       "       2, 0, 2, 2, 2, 2, 2, 2, 2, 2, 1, 1, 0, 2, 2, 2, 2, 0, 0, 0, 2, 0,\n",
       "       0, 0, 2, 0, 0, 0, 0, 2, 2, 1, 0, 2, 2, 1, 0, 0, 2, 0, 0, 1, 0, 0,\n",
       "       1, 2, 1, 2, 0, 2, 0, 2, 0, 2, 0, 0, 0, 0, 0, 2, 0, 2, 2, 2, 0, 0,\n",
       "       2, 2, 2, 0, 2, 2, 2, 2, 2, 1, 2, 2, 0, 2, 0, 0, 0, 0, 0, 0, 1, 2,\n",
       "       0, 2, 2, 0, 0, 0, 2, 0, 0, 0, 0, 2, 0, 2, 2, 0, 0, 2, 2, 0, 0, 2,\n",
       "       2, 1, 0, 0, 0, 1, 2, 1, 0, 0, 1, 2, 0, 0, 1, 0, 0, 0, 2, 2, 2, 0,\n",
       "       2, 2, 1, 1, 0, 2, 1, 2, 0, 1, 0, 2, 0, 0, 2, 0, 2, 0, 2, 0, 2, 2,\n",
       "       2, 0, 2, 2, 1, 0, 2, 0, 0, 2, 2, 1, 0, 2, 1, 2, 2, 2, 2, 2, 2, 2,\n",
       "       0, 0, 2, 2, 2, 1, 1, 2, 0, 0, 0, 2, 0, 0, 0, 1, 2, 2, 2, 2, 0, 1,\n",
       "       0, 1, 1, 0, 0, 1, 0, 0, 2, 0, 0, 1, 0, 0, 0, 1, 0, 2, 0, 2, 2, 0,\n",
       "       0, 0, 2, 0, 0, 0, 2, 0, 1, 2, 0, 0, 0, 0, 2, 0, 0, 1, 0, 0, 2, 0,\n",
       "       0, 2, 0, 1, 1, 0, 1, 2, 0, 0, 0, 0, 0, 0, 2, 0, 1, 0, 0, 0, 0, 0,\n",
       "       0, 2, 2, 0, 2, 1, 0, 0, 0, 1, 0, 2, 0, 1, 0, 2, 1, 0, 0, 0, 2, 1,\n",
       "       0, 2, 1, 2, 2, 1, 2, 2, 0, 1, 0, 0, 0, 0, 1, 0, 1, 2, 0, 2, 0, 2,\n",
       "       2, 1, 0, 2, 0, 2, 0, 1, 1, 0, 0, 1, 2, 0, 0, 2, 2, 1, 1, 2, 0, 0,\n",
       "       2, 1, 0, 0, 1, 0, 0, 0, 0, 0, 0, 0, 0, 1, 2, 1, 0, 2, 0, 0, 2, 2,\n",
       "       0, 0, 0, 1, 1, 0, 1, 0, 1, 1, 2, 0, 0, 2, 2, 2, 2, 1, 0, 0, 0, 0,\n",
       "       2, 1, 2, 0, 1, 0, 0, 0, 2, 0, 2, 2, 0, 2, 0, 0, 0, 2, 0, 0, 0, 0,\n",
       "       2, 1, 0, 0, 0, 0, 0, 0, 0, 0, 2, 2, 0, 0, 1, 0, 0, 2, 2, 2, 0, 2,\n",
       "       1, 0, 0, 2, 2, 0, 0, 1, 0, 2, 2, 2, 2, 0, 2, 0, 2, 2, 2, 0, 2, 2,\n",
       "       2, 1, 0, 0, 2, 0, 1, 0, 2, 1, 2, 0, 0, 2, 2, 2, 2, 0, 2, 1, 0, 0,\n",
       "       2, 2, 2, 2, 2, 1, 1, 0, 2, 0, 0, 0, 0, 2, 2, 0, 2, 0, 0, 2, 1, 2,\n",
       "       1, 0, 1, 2, 0, 0, 0, 2, 0, 2, 2, 2, 0, 0, 0, 0, 2, 2, 2, 0, 0, 0,\n",
       "       0, 0, 2, 2, 0, 0, 0, 0, 1, 0, 0, 1, 2, 2, 0, 2, 2, 0, 0, 2, 0, 2,\n",
       "       0, 0, 2, 2, 0, 1, 2, 0, 0, 0, 0, 0, 0, 2, 0, 0, 1, 1, 0, 0, 0, 2,\n",
       "       1, 1, 2, 2, 0, 2, 2, 1, 2, 0, 2, 0, 1, 0, 0, 0, 0, 2, 2, 0, 2, 0,\n",
       "       1, 1, 2, 0, 0, 2, 2, 1, 2, 0, 1, 2, 0, 0, 0, 0, 0, 2, 0, 1, 0, 2,\n",
       "       0, 0, 2, 1, 2, 0, 0, 2, 0, 0, 0, 0, 1, 2, 2, 0, 0, 0, 1, 0, 2, 2,\n",
       "       2, 2, 2, 0, 0, 2, 2, 0, 2, 0, 2, 0, 0, 2, 0, 0, 1, 0, 0, 0, 2, 0,\n",
       "       0, 2, 1, 0, 0, 2, 0, 0, 0, 2, 2, 0, 2, 1, 0, 0, 0, 2, 0, 0, 2, 0,\n",
       "       2, 0, 1, 1, 2, 0, 0, 0, 0, 2], dtype=int32)"
      ]
     },
     "execution_count": 51,
     "metadata": {},
     "output_type": "execute_result"
    }
   ],
   "source": [
    "y_predict_tfidf"
   ]
  },
  {
   "cell_type": "code",
   "execution_count": 52,
   "metadata": {
    "id": "PP5pQdPvhBCC"
   },
   "outputs": [],
   "source": [
    "kmeans_model_word2vec, y_predict_word2vec = kmeans_model(3, X_word2vec)"
   ]
  },
  {
   "cell_type": "code",
   "execution_count": 53,
   "metadata": {
    "colab": {
     "base_uri": "https://localhost:8080/"
    },
    "id": "BOn5fsg2kj8M",
    "outputId": "c7976b67-3b51-49db-85cd-6fd5a50ca950"
   },
   "outputs": [
    {
     "data": {
      "text/plain": [
       "array([0, 2, 0, 0, 0, 1, 1, 1, 1, 1, 1, 0, 2, 1, 0, 0, 1, 0, 0, 1, 0, 1,\n",
       "       0, 0, 0, 0, 1, 1, 1, 2, 0, 1, 1, 2, 1, 1, 2, 1, 0, 0, 1, 0, 2, 0,\n",
       "       1, 0, 2, 1, 1, 2, 1, 1, 0, 1, 2, 1, 1, 1, 2, 2, 0, 1, 2, 0, 0, 0,\n",
       "       0, 2, 0, 1, 0, 0, 1, 2, 0, 0, 2, 2, 0, 1, 2, 1, 0, 2, 1, 0, 2, 1,\n",
       "       0, 1, 0, 0, 2, 1, 1, 0, 1, 0, 0, 1, 1, 0, 1, 0, 1, 1, 1, 0, 0, 1,\n",
       "       1, 0, 0, 1, 0, 1, 0, 2, 1, 1, 1, 1, 1, 1, 1, 2, 1, 1, 0, 1, 0, 0,\n",
       "       2, 2, 1, 1, 0, 0, 1, 1, 1, 0, 2, 1, 1, 1, 2, 0, 2, 1, 1, 2, 0, 2,\n",
       "       0, 0, 0, 2, 1, 0, 1, 0, 2, 1, 0, 0, 0, 1, 0, 0, 1, 1, 2, 2, 1, 1,\n",
       "       0, 1, 1, 0, 0, 2, 0, 0, 0, 0, 1, 0, 1, 1, 0, 1, 2, 1, 0, 1, 1, 1,\n",
       "       0, 1, 0, 0, 0, 1, 1, 0, 0, 2, 0, 0, 1, 0, 1, 0, 0, 1, 1, 1, 0, 1,\n",
       "       1, 0, 1, 0, 1, 0, 0, 1, 0, 1, 1, 0, 1, 0, 1, 0, 0, 0, 0, 1, 2, 1,\n",
       "       0, 1, 2, 2, 0, 0, 0, 1, 2, 0, 0, 2, 0, 1, 1, 0, 0, 0, 0, 0, 1, 0,\n",
       "       0, 1, 0, 1, 1, 1, 0, 1, 0, 0, 2, 0, 1, 1, 0, 0, 1, 1, 1, 1, 2, 0,\n",
       "       0, 1, 1, 0, 2, 0, 0, 0, 0, 1, 2, 2, 0, 0, 1, 2, 0, 1, 0, 1, 1, 0,\n",
       "       1, 1, 2, 1, 2, 1, 1, 1, 1, 2, 0, 1, 0, 1, 1, 1, 1, 0, 0, 1, 1, 1,\n",
       "       0, 0, 2, 2, 0, 1, 1, 1, 1, 1, 0, 2, 1, 2, 1, 1, 1, 0, 0, 1, 1, 1,\n",
       "       0, 0, 1, 0, 0, 1, 0, 1, 2, 1, 0, 1, 1, 0, 1, 0, 2, 1, 0, 2, 0, 0,\n",
       "       1, 1, 1, 1, 0, 1, 0, 0, 1, 1, 0, 1, 0, 0, 0, 1, 1, 1, 2, 1, 0, 1,\n",
       "       1, 1, 1, 0, 1, 0, 1, 1, 2, 1, 1, 2, 1, 2, 0, 0, 0, 0, 0, 1, 0, 2,\n",
       "       0, 1, 1, 1, 1, 0, 2, 0, 0, 0, 1, 1, 0, 1, 1, 0, 0, 1, 1, 1, 1, 1,\n",
       "       1, 0, 0, 0, 1, 1, 1, 1, 0, 0, 1, 1, 1, 0, 2, 0, 1, 0, 1, 1, 1, 1,\n",
       "       1, 2, 2, 1, 0, 2, 1, 2, 0, 2, 0, 2, 0, 0, 2, 1, 1, 1, 2, 0, 2, 1,\n",
       "       1, 1, 2, 1, 1, 0, 1, 0, 0, 1, 2, 0, 0, 2, 1, 1, 1, 1, 2, 1, 2, 1,\n",
       "       0, 1, 2, 1, 1, 1, 1, 2, 1, 1, 1, 2, 2, 0, 0, 1, 1, 1, 1, 1, 1, 2,\n",
       "       0, 0, 1, 1, 0, 0, 0, 1, 2, 0, 1, 0, 0, 0, 1, 0, 0, 2, 0, 1, 1, 1,\n",
       "       0, 1, 1, 0, 0, 0, 1, 1, 1, 1, 0, 0, 0, 0, 1, 0, 0, 1, 0, 1, 2, 0,\n",
       "       0, 1, 0, 0, 1, 0, 1, 1, 1, 0, 1, 0, 0, 0, 2, 0, 1, 0, 0, 0, 1, 1,\n",
       "       0, 2, 1, 0, 1, 1, 1, 1, 0, 0, 0, 1, 0, 0, 1, 1, 1, 0, 0, 0, 1, 2,\n",
       "       1, 1, 1, 1, 1, 1, 1, 1, 0, 0, 1, 1, 0, 0, 1, 1, 1, 2, 0, 1, 0, 0,\n",
       "       0, 1, 0, 1, 1, 2, 1, 0, 2, 0, 1, 1, 0, 0, 0, 1, 1, 1, 0, 1, 0, 0,\n",
       "       2, 0, 0, 0, 0, 1, 1, 0, 0, 0, 0, 0, 0, 2, 1, 2, 1, 1, 1, 1, 0, 2,\n",
       "       0, 1, 1, 1, 2, 0, 1, 0, 1, 0, 1, 0, 0, 1, 0, 1, 1, 1, 0, 0, 1, 0,\n",
       "       1, 2, 1, 0, 1, 0, 1, 1, 1, 0, 1, 2, 0, 1, 0, 0, 1, 0, 0, 0, 1, 0,\n",
       "       2, 1, 0, 1, 0, 1, 0, 0, 0, 0, 2, 0, 1, 1, 1, 0, 0, 1, 2, 1, 1, 2,\n",
       "       2, 0, 0, 1, 1, 0, 1, 1, 0, 1, 1, 2, 2, 0, 1, 1, 2, 1, 1, 0, 2, 2,\n",
       "       1, 1, 0, 0, 0, 0, 1, 0, 1, 0, 1, 0, 0, 1, 1, 2, 0, 0, 1, 2, 1, 0,\n",
       "       1, 1, 2, 2, 1, 0, 0, 1, 1, 0, 1, 0, 0, 1, 1, 0, 1, 0, 1, 2, 1, 0,\n",
       "       1, 0, 1, 0, 1, 0, 0, 0, 0, 1, 1, 1, 1, 0, 0, 0, 1, 1, 1, 0, 0, 0,\n",
       "       0, 1, 2, 1, 1, 1, 0, 0, 2, 0, 0, 1, 2, 2, 0, 2, 1, 0, 1, 1, 0, 2,\n",
       "       0, 0, 2, 2, 0, 1, 1, 0, 1, 1, 0, 0, 0, 2, 0, 0, 0, 1, 1, 0, 1, 0,\n",
       "       1, 0, 2, 1, 1, 1, 2, 1, 1, 1, 1, 0, 1, 0, 1, 1, 1, 2, 2, 0, 1, 1,\n",
       "       1, 1, 1, 0, 0, 1, 1, 1, 1, 0, 1, 0, 0, 1, 0, 0, 0, 2, 0, 1, 0, 1,\n",
       "       1, 0, 1, 1, 1, 0, 1, 1, 0, 1, 1, 1, 1, 1, 1, 1, 0, 0, 0, 1, 1, 1,\n",
       "       1, 1, 1, 1, 0, 1, 1, 0, 2, 0, 1, 0, 0, 1, 0, 1, 1, 1, 0, 0, 2, 1,\n",
       "       0, 1, 1, 0, 0, 1, 0, 0, 1, 2, 1, 0, 2, 1, 0, 0, 0, 1, 1, 0, 0, 1,\n",
       "       1, 0, 1, 2, 2, 1, 1, 0, 0, 2], dtype=int32)"
      ]
     },
     "execution_count": 53,
     "metadata": {},
     "output_type": "execute_result"
    }
   ],
   "source": [
    "y_predict_word2vec"
   ]
  },
  {
   "cell_type": "code",
   "execution_count": 54,
   "metadata": {
    "colab": {
     "base_uri": "https://localhost:8080/"
    },
    "id": "s31lageyb4R-",
    "outputId": "b9ea4673-db6b-46d5-9495-ae8a5c87dae2"
   },
   "outputs": [
    {
     "name": "stdout",
     "output_type": "stream",
     "text": [
      "0.5673389356810756\n"
     ]
    }
   ],
   "source": [
    "print(kmeans_model_word2vec.inertia_)"
   ]
  },
  {
   "cell_type": "markdown",
   "metadata": {
    "id": "fxpUyl3HeO7b"
   },
   "source": [
    "kmeans_model_word2vec.interia_ >> gives us the interia of model. Value of Interia should be low as all the datapoints are nearer to each other. means distance between datapoint and centroid is low.\n",
    "Sum of square of distances between every datapoints to centroid."
   ]
  },
  {
   "cell_type": "code",
   "execution_count": 55,
   "metadata": {
    "colab": {
     "base_uri": "https://localhost:8080/"
    },
    "id": "u7guGHH-b9LS",
    "outputId": "3c2cca47-95ca-4cd2-c6d2-41448ee94ca6"
   },
   "outputs": [
    {
     "name": "stdout",
     "output_type": "stream",
     "text": [
      "[0 2 0 0 0 1 1 1 1 1 1 0 2 1 0 0 1 0 0 1 0 1 0 0 0 0 1 1 1 2 0 1 1 2 1 1 2\n",
      " 1 0 0 1 0 2 0 1 0 2 1 1 2 1 1 0 1 2 1 1 1 2 2 0 1 2 0 0 0 0 2 0 1 0 0 1 2\n",
      " 0 0 2 2 0 1 2 1 0 2 1 0 2 1 0 1 0 0 2 1 1 0 1 0 0 1 1 0 1 0 1 1 1 0 0 1 1\n",
      " 0 0 1 0 1 0 2 1 1 1 1 1 1 1 2 1 1 0 1 0 0 2 2 1 1 0 0 1 1 1 0 2 1 1 1 2 0\n",
      " 2 1 1 2 0 2 0 0 0 2 1 0 1 0 2 1 0 0 0 1 0 0 1 1 2 2 1 1 0 1 1 0 0 2 0 0 0\n",
      " 0 1 0 1 1 0 1 2 1 0 1 1 1 0 1 0 0 0 1 1 0 0 2 0 0 1 0 1 0 0 1 1 1 0 1 1 0\n",
      " 1 0 1 0 0 1 0 1 1 0 1 0 1 0 0 0 0 1 2 1 0 1 2 2 0 0 0 1 2 0 0 2 0 1 1 0 0\n",
      " 0 0 0 1 0 0 1 0 1 1 1 0 1 0 0 2 0 1 1 0 0 1 1 1 1 2 0 0 1 1 0 2 0 0 0 0 1\n",
      " 2 2 0 0 1 2 0 1 0 1 1 0 1 1 2 1 2 1 1 1 1 2 0 1 0 1 1 1 1 0 0 1 1 1 0 0 2\n",
      " 2 0 1 1 1 1 1 0 2 1 2 1 1 1 0 0 1 1 1 0 0 1 0 0 1 0 1 2 1 0 1 1 0 1 0 2 1\n",
      " 0 2 0 0 1 1 1 1 0 1 0 0 1 1 0 1 0 0 0 1 1 1 2 1 0 1 1 1 1 0 1 0 1 1 2 1 1\n",
      " 2 1 2 0 0 0 0 0 1 0 2 0 1 1 1 1 0 2 0 0 0 1 1 0 1 1 0 0 1 1 1 1 1 1 0 0 0\n",
      " 1 1 1 1 0 0 1 1 1 0 2 0 1 0 1 1 1 1 1 2 2 1 0 2 1 2 0 2 0 2 0 0 2 1 1 1 2\n",
      " 0 2 1 1 1 2 1 1 0 1 0 0 1 2 0 0 2 1 1 1 1 2 1 2 1 0 1 2 1 1 1 1 2 1 1 1 2\n",
      " 2 0 0 1 1 1 1 1 1 2 0 0 1 1 0 0 0 1 2 0 1 0 0 0 1 0 0 2 0 1 1 1 0 1 1 0 0\n",
      " 0 1 1 1 1 0 0 0 0 1 0 0 1 0 1 2 0 0 1 0 0 1 0 1 1 1 0 1 0 0 0 2 0 1 0 0 0\n",
      " 1 1 0 2 1 0 1 1 1 1 0 0 0 1 0 0 1 1 1 0 0 0 1 2 1 1 1 1 1 1 1 1 0 0 1 1 0\n",
      " 0 1 1 1 2 0 1 0 0 0 1 0 1 1 2 1 0 2 0 1 1 0 0 0 1 1 1 0 1 0 0 2 0 0 0 0 1\n",
      " 1 0 0 0 0 0 0 2 1 2 1 1 1 1 0 2 0 1 1 1 2 0 1 0 1 0 1 0 0 1 0 1 1 1 0 0 1\n",
      " 0 1 2 1 0 1 0 1 1 1 0 1 2 0 1 0 0 1 0 0 0 1 0 2 1 0 1 0 1 0 0 0 0 2 0 1 1\n",
      " 1 0 0 1 2 1 1 2 2 0 0 1 1 0 1 1 0 1 1 2 2 0 1 1 2 1 1 0 2 2 1 1 0 0 0 0 1\n",
      " 0 1 0 1 0 0 1 1 2 0 0 1 2 1 0 1 1 2 2 1 0 0 1 1 0 1 0 0 1 1 0 1 0 1 2 1 0\n",
      " 1 0 1 0 1 0 0 0 0 1 1 1 1 0 0 0 1 1 1 0 0 0 0 1 2 1 1 1 0 0 2 0 0 1 2 2 0\n",
      " 2 1 0 1 1 0 2 0 0 2 2 0 1 1 0 1 1 0 0 0 2 0 0 0 1 1 0 1 0 1 0 2 1 1 1 2 1\n",
      " 1 1 1 0 1 0 1 1 1 2 2 0 1 1 1 1 1 0 0 1 1 1 1 0 1 0 0 1 0 0 0 2 0 1 0 1 1\n",
      " 0 1 1 1 0 1 1 0 1 1 1 1 1 1 1 0 0 0 1 1 1 1 1 1 1 0 1 1 0 2 0 1 0 0 1 0 1\n",
      " 1 1 0 0 2 1 0 1 1 0 0 1 0 0 1 2 1 0 2 1 0 0 0 1 1 0 0 1 1 0 1 2 2 1 1 0 0\n",
      " 2]\n"
     ]
    }
   ],
   "source": [
    "print(kmeans_model_word2vec.labels_)"
   ]
  },
  {
   "cell_type": "code",
   "execution_count": 56,
   "metadata": {
    "colab": {
     "base_uri": "https://localhost:8080/"
    },
    "id": "IojJCS5Mj0lv",
    "outputId": "a34f4804-cb1b-499f-dd0f-5bef0995603e"
   },
   "outputs": [
    {
     "data": {
      "text/plain": [
       "array([0, 2, 1], dtype=int32)"
      ]
     },
     "execution_count": 56,
     "metadata": {},
     "output_type": "execute_result"
    }
   ],
   "source": [
    "pd.unique(kmeans_model_word2vec.labels_)"
   ]
  },
  {
   "cell_type": "markdown",
   "metadata": {
    "id": "9RLX4DxSeT3O"
   },
   "source": [
    "kmeans_model_word2vec.labels_ >> gives us the label of different datapoints after model building. "
   ]
  },
  {
   "cell_type": "code",
   "execution_count": 57,
   "metadata": {
    "colab": {
     "base_uri": "https://localhost:8080/"
    },
    "id": "Oc479gUgb9SF",
    "outputId": "08558a95-ce56-406e-8fc0-0f16932673ad"
   },
   "outputs": [
    {
     "name": "stdout",
     "output_type": "stream",
     "text": [
      "[[-7.29033888e-03 -3.05101728e-03  5.36454687e-03  3.41945110e-03\n",
      "   2.81991258e-03  4.51480592e-03 -5.00012524e-03  5.27085774e-03\n",
      "  -1.31389793e-02 -8.64597678e-04  4.68183475e-03 -1.37210904e-02\n",
      "   1.97277116e-05  9.02699998e-03 -6.90257008e-03 -3.25240276e-03\n",
      "   1.22167266e-03 -1.30134146e-02 -2.56967091e-03 -8.16958335e-03\n",
      "   3.62551876e-03  4.16269512e-03  7.36893793e-04 -1.11210868e-02\n",
      "   3.89464001e-03  3.92656438e-03  3.53264656e-03 -1.05840261e-02\n",
      "  -3.79792539e-03  5.64274297e-03 -3.92111251e-03  9.21162306e-03\n",
      "   3.11500252e-03 -2.95544372e-03  1.04046157e-02 -6.99817752e-03\n",
      "   3.47212342e-03 -5.74383403e-03 -5.04370132e-03  1.16493057e-02\n",
      "   3.66112656e-03  1.59800075e-02 -8.41113026e-03 -3.62670285e-03\n",
      "   5.27110169e-04 -9.65745940e-03 -1.02482500e-02 -1.64529930e-03\n",
      "   2.65360742e-03  1.41086064e-04  1.64672788e-03 -3.66917898e-03\n",
      "   1.15220529e-04 -6.77878133e-04 -1.02518415e-02  4.32549263e-03\n",
      "  -1.67567866e-02 -2.00554260e-03  7.11185485e-03  3.09231727e-03\n",
      "   8.25338785e-03  6.65121547e-03 -1.18782438e-02 -1.42613893e-03\n",
      "   2.42221043e-03  1.08311957e-02 -5.78789418e-04 -3.52025723e-03\n",
      "   1.82985377e-03 -4.62656829e-03  8.49769995e-03  5.39058988e-03\n",
      "  -2.81606403e-03  4.72763544e-04  7.12709007e-03 -6.26780208e-03\n",
      "   9.07844239e-03 -4.00186607e-03 -3.88140394e-03 -9.17865290e-03\n",
      "  -7.93682192e-03 -4.59993962e-03  1.76784566e-02  4.69251967e-03\n",
      "  -1.51958023e-02  2.43458141e-03  3.39864767e-04  1.16800685e-02\n",
      "  -5.56785615e-03  1.32242020e-03 -2.31566816e-03  6.05603092e-03\n",
      "  -7.61465352e-03 -1.34299550e-02 -1.15659379e-02 -1.78879639e-02\n",
      "   9.01443068e-03 -9.81615895e-03 -1.56958138e-03 -8.55224678e-04]\n",
      " [-1.26243321e-02 -5.23655191e-03  9.12615383e-03  5.69987883e-03\n",
      "   4.38250916e-03  7.83778248e-03 -8.44736968e-03  9.27112715e-03\n",
      "  -2.21531834e-02 -1.71630191e-03  7.94132781e-03 -2.28737286e-02\n",
      "  -2.28976204e-04  1.48737172e-02 -1.15268414e-02 -5.78813350e-03\n",
      "   1.83133498e-03 -2.15311518e-02 -4.36692147e-03 -1.34451063e-02\n",
      "   6.15271618e-03  7.18131243e-03  1.24913823e-03 -1.87583705e-02\n",
      "   6.60748525e-03  6.68685926e-03  6.00763646e-03 -1.75598389e-02\n",
      "  -6.50025273e-03  9.62165904e-03 -6.31624014e-03  1.53981863e-02\n",
      "   5.19550024e-03 -5.08955123e-03  1.75859768e-02 -1.17241781e-02\n",
      "   5.58048817e-03 -9.67003910e-03 -8.84610381e-03  1.94042535e-02\n",
      "   6.18622376e-03  2.71174020e-02 -1.42842060e-02 -5.80877051e-03\n",
      "   9.44147762e-04 -1.60709489e-02 -1.73174630e-02 -2.85442328e-03\n",
      "   4.70550342e-03  1.51006984e-04  3.11540086e-03 -5.80828127e-03\n",
      "  -2.13111575e-04 -1.26712367e-03 -1.68354828e-02  7.55984719e-03\n",
      "  -2.82674859e-02 -3.47630458e-03  1.20809221e-02  5.46886500e-03\n",
      "   1.38491010e-02  1.14354951e-02 -2.00758149e-02 -2.69661604e-03\n",
      "   4.28708130e-03  1.82063300e-02 -9.33699369e-04 -6.10849983e-03\n",
      "   3.16095264e-03 -7.79772165e-03  1.38967387e-02  9.34194795e-03\n",
      "  -4.65139076e-03  6.89455321e-04  1.21782070e-02 -1.10121159e-02\n",
      "   1.51525611e-02 -6.88092265e-03 -6.44396620e-03 -1.55330925e-02\n",
      "  -1.35910362e-02 -7.88869586e-03  2.99183945e-02  8.00175452e-03\n",
      "  -2.56691042e-02  4.39628042e-03  2.22493755e-04  1.94647669e-02\n",
      "  -9.39022247e-03  2.20421399e-03 -3.42026314e-03  9.77060549e-03\n",
      "  -1.29770648e-02 -2.26858046e-02 -1.93858877e-02 -3.00971347e-02\n",
      "   1.50941485e-02 -1.64303580e-02 -2.39320379e-03 -1.64907011e-03]\n",
      " [-2.04224540e-02 -8.70123926e-03  1.46650598e-02  9.15731039e-03\n",
      "   6.42457109e-03  1.30056236e-02 -1.37920807e-02  1.52420901e-02\n",
      "  -3.51247561e-02 -2.71537607e-03  1.24090276e-02 -3.53466605e-02\n",
      "  -1.01884080e-03  2.30230190e-02 -1.80925017e-02 -9.46749044e-03\n",
      "   2.32309015e-03 -3.34707288e-02 -7.49596431e-03 -2.06323822e-02\n",
      "   9.98308047e-03  1.15168247e-02  1.39258687e-03 -2.93484911e-02\n",
      "   1.06180963e-02  1.00428058e-02  9.09585958e-03 -2.69741243e-02\n",
      "  -1.03498492e-02  1.58544808e-02 -9.23299499e-03  2.43226237e-02\n",
      "   8.30096477e-03 -7.84008964e-03  2.74975033e-02 -1.79919362e-02\n",
      "   8.49801392e-03 -1.50959610e-02 -1.42406355e-02  3.04215810e-02\n",
      "   1.02483211e-02  4.28989789e-02 -2.22029082e-02 -8.74782808e-03\n",
      "   2.28625984e-03 -2.49142860e-02 -2.71359192e-02 -4.28380625e-03\n",
      "   7.63626869e-03  5.76668013e-04  5.15705555e-03 -8.82327804e-03\n",
      "  -9.04235686e-04 -2.32355471e-03 -2.59088449e-02  1.24890185e-02\n",
      "  -4.46868333e-02 -5.87995010e-03  1.87274614e-02  8.94486362e-03\n",
      "   2.17503048e-02  1.85767640e-02 -3.16335520e-02 -4.78110662e-03\n",
      "   7.12806720e-03  2.85408279e-02 -1.87405735e-03 -9.76505892e-03\n",
      "   5.38284924e-03 -1.27893915e-02  2.15029499e-02  1.51906857e-02\n",
      "  -7.17133510e-03  9.99106034e-04  1.95788292e-02 -1.75116372e-02\n",
      "   2.36409076e-02 -1.07500067e-02 -9.62110628e-03 -2.49598127e-02\n",
      "  -2.18641489e-02 -1.22507217e-02  4.74397584e-02  1.27591066e-02\n",
      "  -4.07835721e-02  7.12797649e-03 -1.43583479e-04  3.07788516e-02\n",
      "  -1.51877782e-02  3.66495973e-03 -5.15824246e-03  1.49054582e-02\n",
      "  -2.09242062e-02 -3.57807816e-02 -3.05579568e-02 -4.74266634e-02\n",
      "   2.29738964e-02 -2.58785926e-02 -2.99706703e-03 -2.59337054e-03]]\n"
     ]
    }
   ],
   "source": [
    "print(kmeans_model_word2vec.cluster_centers_)"
   ]
  },
  {
   "cell_type": "markdown",
   "metadata": {
    "id": "KYrwlH2seT9j"
   },
   "source": [
    "kmeans_model_word2vec.cluster_centers_ >> gives centroid of the cluster."
   ]
  },
  {
   "cell_type": "code",
   "execution_count": 58,
   "metadata": {
    "colab": {
     "base_uri": "https://localhost:8080/",
     "height": 206
    },
    "id": "md8738VSkQzZ",
    "outputId": "6f16e903-9e80-4d30-91a9-1666ba45ff63"
   },
   "outputs": [
    {
     "data": {
      "text/html": [
       "\n",
       "  <div id=\"df-abc67d2a-de86-4b52-90b2-6a9d088daf32\">\n",
       "    <div class=\"colab-df-container\">\n",
       "      <div>\n",
       "<style scoped>\n",
       "    .dataframe tbody tr th:only-of-type {\n",
       "        vertical-align: middle;\n",
       "    }\n",
       "\n",
       "    .dataframe tbody tr th {\n",
       "        vertical-align: top;\n",
       "    }\n",
       "\n",
       "    .dataframe thead th {\n",
       "        text-align: right;\n",
       "    }\n",
       "</style>\n",
       "<table border=\"1\" class=\"dataframe\">\n",
       "  <thead>\n",
       "    <tr style=\"text-align: right;\">\n",
       "      <th></th>\n",
       "      <th>cleaed_translated_review</th>\n",
       "      <th>cluster_id</th>\n",
       "    </tr>\n",
       "  </thead>\n",
       "  <tbody>\n",
       "    <tr>\n",
       "      <th>0</th>\n",
       "      <td>meet requirement walk</td>\n",
       "      <td>0</td>\n",
       "    </tr>\n",
       "    <tr>\n",
       "      <th>1</th>\n",
       "      <td>not see reliable not give two measure guide re...</td>\n",
       "      <td>2</td>\n",
       "    </tr>\n",
       "    <tr>\n",
       "      <th>2</th>\n",
       "      <td>incredible aroma enjoy</td>\n",
       "      <td>0</td>\n",
       "    </tr>\n",
       "    <tr>\n",
       "      <th>3</th>\n",
       "      <td>okay normal spend afternoon fulfills function ...</td>\n",
       "      <td>0</td>\n",
       "    </tr>\n",
       "    <tr>\n",
       "      <th>4</th>\n",
       "      <td>many problem match bracelet mobile app finally...</td>\n",
       "      <td>0</td>\n",
       "    </tr>\n",
       "  </tbody>\n",
       "</table>\n",
       "</div>\n",
       "      <button class=\"colab-df-convert\" onclick=\"convertToInteractive('df-abc67d2a-de86-4b52-90b2-6a9d088daf32')\"\n",
       "              title=\"Convert this dataframe to an interactive table.\"\n",
       "              style=\"display:none;\">\n",
       "        \n",
       "  <svg xmlns=\"http://www.w3.org/2000/svg\" height=\"24px\"viewBox=\"0 0 24 24\"\n",
       "       width=\"24px\">\n",
       "    <path d=\"M0 0h24v24H0V0z\" fill=\"none\"/>\n",
       "    <path d=\"M18.56 5.44l.94 2.06.94-2.06 2.06-.94-2.06-.94-.94-2.06-.94 2.06-2.06.94zm-11 1L8.5 8.5l.94-2.06 2.06-.94-2.06-.94L8.5 2.5l-.94 2.06-2.06.94zm10 10l.94 2.06.94-2.06 2.06-.94-2.06-.94-.94-2.06-.94 2.06-2.06.94z\"/><path d=\"M17.41 7.96l-1.37-1.37c-.4-.4-.92-.59-1.43-.59-.52 0-1.04.2-1.43.59L10.3 9.45l-7.72 7.72c-.78.78-.78 2.05 0 2.83L4 21.41c.39.39.9.59 1.41.59.51 0 1.02-.2 1.41-.59l7.78-7.78 2.81-2.81c.8-.78.8-2.07 0-2.86zM5.41 20L4 18.59l7.72-7.72 1.47 1.35L5.41 20z\"/>\n",
       "  </svg>\n",
       "      </button>\n",
       "      \n",
       "  <style>\n",
       "    .colab-df-container {\n",
       "      display:flex;\n",
       "      flex-wrap:wrap;\n",
       "      gap: 12px;\n",
       "    }\n",
       "\n",
       "    .colab-df-convert {\n",
       "      background-color: #E8F0FE;\n",
       "      border: none;\n",
       "      border-radius: 50%;\n",
       "      cursor: pointer;\n",
       "      display: none;\n",
       "      fill: #1967D2;\n",
       "      height: 32px;\n",
       "      padding: 0 0 0 0;\n",
       "      width: 32px;\n",
       "    }\n",
       "\n",
       "    .colab-df-convert:hover {\n",
       "      background-color: #E2EBFA;\n",
       "      box-shadow: 0px 1px 2px rgba(60, 64, 67, 0.3), 0px 1px 3px 1px rgba(60, 64, 67, 0.15);\n",
       "      fill: #174EA6;\n",
       "    }\n",
       "\n",
       "    [theme=dark] .colab-df-convert {\n",
       "      background-color: #3B4455;\n",
       "      fill: #D2E3FC;\n",
       "    }\n",
       "\n",
       "    [theme=dark] .colab-df-convert:hover {\n",
       "      background-color: #434B5C;\n",
       "      box-shadow: 0px 1px 3px 1px rgba(0, 0, 0, 0.15);\n",
       "      filter: drop-shadow(0px 1px 2px rgba(0, 0, 0, 0.3));\n",
       "      fill: #FFFFFF;\n",
       "    }\n",
       "  </style>\n",
       "\n",
       "      <script>\n",
       "        const buttonEl =\n",
       "          document.querySelector('#df-abc67d2a-de86-4b52-90b2-6a9d088daf32 button.colab-df-convert');\n",
       "        buttonEl.style.display =\n",
       "          google.colab.kernel.accessAllowed ? 'block' : 'none';\n",
       "\n",
       "        async function convertToInteractive(key) {\n",
       "          const element = document.querySelector('#df-abc67d2a-de86-4b52-90b2-6a9d088daf32');\n",
       "          const dataTable =\n",
       "            await google.colab.kernel.invokeFunction('convertToInteractive',\n",
       "                                                     [key], {});\n",
       "          if (!dataTable) return;\n",
       "\n",
       "          const docLinkHtml = 'Like what you see? Visit the ' +\n",
       "            '<a target=\"_blank\" href=https://colab.research.google.com/notebooks/data_table.ipynb>data table notebook</a>'\n",
       "            + ' to learn more about interactive tables.';\n",
       "          element.innerHTML = '';\n",
       "          dataTable['output_type'] = 'display_data';\n",
       "          await google.colab.output.renderOutput(dataTable, element);\n",
       "          const docLink = document.createElement('div');\n",
       "          docLink.innerHTML = docLinkHtml;\n",
       "          element.appendChild(docLink);\n",
       "        }\n",
       "      </script>\n",
       "    </div>\n",
       "  </div>\n",
       "  "
      ],
      "text/plain": [
       "                            cleaed_translated_review  cluster_id\n",
       "0                              meet requirement walk           0\n",
       "1  not see reliable not give two measure guide re...           2\n",
       "2                             incredible aroma enjoy           0\n",
       "3  okay normal spend afternoon fulfills function ...           0\n",
       "4  many problem match bracelet mobile app finally...           0"
      ]
     },
     "execution_count": 58,
     "metadata": {},
     "output_type": "execute_result"
    }
   ],
   "source": [
    "df['cluster_id'] = kmeans_model_word2vec.labels_\n",
    "df.head()"
   ]
  },
  {
   "cell_type": "markdown",
   "metadata": {
    "id": "Qmqz7lrO0VYQ"
   },
   "source": [
    "# Model Evaluation"
   ]
  },
  {
   "cell_type": "code",
   "execution_count": 59,
   "metadata": {
    "colab": {
     "base_uri": "https://localhost:8080/"
    },
    "id": "p-NBWRphF0oh",
    "outputId": "a1d75475-0e14-42bf-e726-beb578f762ee"
   },
   "outputs": [
    {
     "name": "stdout",
     "output_type": "stream",
     "text": [
      "Silhouette Score with KMeans-CountVectorizer: 0.1813863889450481\n",
      "Silhouette Score with KMeans-TFIDF: 0.0067174242751745815\n",
      "Silhouette Score with KMeans-Word2Vec: 0.4259521047245555\n"
     ]
    }
   ],
   "source": [
    "print(f'Silhouette Score with KMeans-CountVectorizer: {silhouette_score(X_countvectorizer, y_predict_countvectorizer)}')      \n",
    "      \n",
    "print(f'Silhouette Score with KMeans-TFIDF: {silhouette_score(X_tfidf, y_predict_tfidf)}')\n",
    "\n",
    "print(f'Silhouette Score with KMeans-Word2Vec: {silhouette_score(X_word2vec, y_predict_word2vec)}')"
   ]
  },
  {
   "cell_type": "markdown",
   "metadata": {
    "id": "Cotox6kGeZWf"
   },
   "source": [
    "The silhouette score enables us to assess the accuracy of the cluster. If the Silhouette score is close to 1, the algorithm has properly predicted the mood of the recorded data.\n",
    "\n",
    "As can be seen, Word2Vec provided the highest Silhouette score, 0.42."
   ]
  },
  {
   "cell_type": "markdown",
   "metadata": {
    "id": "xF4TkVMCzoWp"
   },
   "source": [
    "Silhouette Score >> Allows us to use K-Selection. \n",
    "(b-a)/max(a,b)\n",
    "\n",
    "a >> mean distance of single datapoint to other datapoints in the same cluster\n",
    "\n",
    "b >> mean nearest-cluster distance, the mean of all datapoint of single single cluster to mean of all other datapoints in the closest cluster.\n",
    "\n",
    "Silhouette Score should be close to 1. \n",
    "\n",
    "Silhouette Score == 1 >> means datapoint is far away from the next cluster. And that datapoint is very close to datapoints of the same cluster. Means Datapoint is well inside its own cluster and far away from other cluster.\n",
    "\n",
    "Silhouette Score == -1 >> means datapoint is far away from the its own cluster. And that datapoint is very close to next cluster. Means Datapoint is assigned to diffrent/wrong cluster.\n",
    "\n",
    "Silhouette Score == 0 >> Our datapoint is close to a cluster boundary."
   ]
  },
  {
   "cell_type": "code",
   "execution_count": 60,
   "metadata": {
    "id": "GVR-5QEAF0tt"
   },
   "outputs": [],
   "source": [
    "def visulize_silhouette(data,model,title1):\n",
    "    visualizer = SilhouetteVisualizer(model,colors='yellowbrick')\n",
    "    visualizer.fit(data)\n",
    "    plt.title(f'Sihouette visualizer for {title1}')"
   ]
  },
  {
   "cell_type": "code",
   "execution_count": 61,
   "metadata": {
    "colab": {
     "base_uri": "https://localhost:8080/",
     "height": 362
    },
    "id": "gfN4wAmsF0xJ",
    "outputId": "5b255b65-fba3-4916-c905-15f9edaf7031"
   },
   "outputs": [
    {
     "data": {
      "image/png": "[encoded data removed]",
      "text/plain": [
       "<Figure size 576x396 with 1 Axes>"
      ]
     },
     "metadata": {},
     "output_type": "display_data"
    }
   ],
   "source": [
    "visulize_silhouette(X_countvectorizer, kmeans_countvectorizer,'Kmeans_word2vec countvectorizer')"
   ]
  },
  {
   "cell_type": "code",
   "execution_count": 62,
   "metadata": {
    "colab": {
     "base_uri": "https://localhost:8080/",
     "height": 362
    },
    "id": "cv-3cy9IC7Xb",
    "outputId": "dfe2b983-f50c-4198-d0e5-69c5568097de"
   },
   "outputs": [
    {
     "data": {
      "image/png": "[encoded data removed]",
      "text/plain": [
       "<Figure size 576x396 with 1 Axes>"
      ]
     },
     "metadata": {},
     "output_type": "display_data"
    }
   ],
   "source": [
    "visulize_silhouette(X_tfidf, kmeans_tfidf,'Kmeans_tfidf')"
   ]
  },
  {
   "cell_type": "code",
   "execution_count": 63,
   "metadata": {
    "colab": {
     "base_uri": "https://localhost:8080/",
     "height": 362
    },
    "id": "wDVck2-cqj15",
    "outputId": "797d2afe-03e4-4ffd-c8a5-6bf32b8de307"
   },
   "outputs": [
    {
     "data": {
      "image/png": "[encoded data removed]",
      "text/plain": [
       "<Figure size 576x396 with 1 Axes>"
      ]
     },
     "metadata": {},
     "output_type": "display_data"
    }
   ],
   "source": [
    "visulize_silhouette(X_word2vec, kmeans_model_word2vec,'Kmeans_word2vec')"
   ]
  },
  {
   "cell_type": "markdown",
   "metadata": {
    "id": "mVSA0YtkfJWa"
   },
   "source": [
    "Here, we first pass the data from (BoW/TF-IDF/word2vec), followed by the appropriate model and the \"Title of the Graph\".\n",
    "\n",
    "As can be seen, a good silhouette graph was produced using word2vec data and the kmeans model word2vec. And each data point's perfect class is being created. Here, the red dashed line denotes the average silhouette.\n",
    "\n",
    "We can see that using the word2vec data enabled us to produce tidy clusters."
   ]
  },
  {
   "cell_type": "markdown",
   "metadata": {
    "id": "YN_JUSUQr2v4"
   },
   "source": [
    "silhouette score considered as a Evaluation Matrix for this assessment as we didn't have any labels.\n",
    "Hence we considered silhouette score for evaluting clustering model.\n",
    "\n",
    "We know that, silhouette score range is from -1 to +1. Here i got silhouette score 0.43, As this is not the best score as my dataset is not informative to group the reviews together."
   ]
  },
  {
   "cell_type": "markdown",
   "metadata": {
    "id": "WnGqJqlxidIL"
   },
   "source": [
    "# Conclusion"
   ]
  },
  {
   "cell_type": "markdown",
   "metadata": {
    "id": "HPdy-xvVg7KS"
   },
   "source": [
    "Here we got the raw data without labels. Our Task to do the sentiment analysis. We have to understand whether review is positive/negative/neutral. Hence we perform clustering. and we create a label for our records."
   ]
  },
  {
   "cell_type": "markdown",
   "metadata": {
    "id": "kM_WD3rtionh"
   },
   "source": [
    "\n",
    "***Strength***:\n",
    "\n",
    "Here we use K_Means Algorithm. And we know that, \n",
    "K-Means is fast, scalable, and it converge to a solution at the end.\n",
    "\n",
    "Listed below are some of our pipeline's key Strengths.\n",
    "\n",
    "Here Our data was Multilingual data.  So we performed below stpes: \n",
    "\n",
    "**Initial preprocessing** \n",
    "\n",
    "language detection >> We detect the language of the each record from our dataset.\n",
    " \n",
    "language translation >> Later language detection, We translate multilingual dataset into single language for better data processing, clustering prediction.\n",
    "\n",
    "Then we performed EDA like\n",
    "\n",
    "**EDA**\n",
    "\n",
    "N_gram >> unigram, bigrams, trigrams \n",
    "\n",
    "n_gram used to understand the domain specific stopwords. We understand what are the most comman words and reviews are present in the dataset. \n",
    "\n",
    "keyphrase extraction: The process of extracting significant words from a document that are pertinent.\n",
    "\n",
    "wordcloud: The magnitude of each word in a text representation is indicated by its frequency or relevance using the data visualization approach of word clouds. Word clouds are useful for emphasizing important textual data points. Frequently, data from e-commerce websites is analyzed using word clouds. \n",
    "\n",
    "\n",
    "**Data Pre-processing** >>\n",
    "\n",
    "removed spaces, newline, blanklines\n",
    "\n",
    "contraction mapping to expand word the words like doesn't, can't into does not, cannot etc.\n",
    "\n",
    "removed punctuations like colons and semi-colons, question marks, quotation marks, exclamation marks, and commas\n",
    "\n",
    "removed stopwords >> We removed commonly used stopword like 'in', 'the', 'a', 'an' etc.\n",
    "\n",
    "removed language specific word >> Also, domain related stopwords which are not necessary.\n",
    "\n",
    "if len(word)<2 thenw we removed >> As we anticipated, words less than two letters do not make sense for tasks requiring emotive analysis.\n",
    "\n",
    "handled accented characters >> we convert accented characters  à, è, ì, ò, ù, À, È, Ì, Ò, Ù into proper alphabets like (a,e,i,o,u)\n",
    "\n",
    "normalization of data >> we normalize the data. Convert all sentence case, uppar case, lower case, and capital of each word letter into lower case. To bring every character into same characters.\n",
    "\n",
    "tokenization (word_tokenizer, sent_tokenizer). We performed word_tokenizer. As Documents should be broken down into words that are easy to understand in order to divide paragraphs and phrases into smaller pieces that can be more easily ascribed meaning.\n",
    "\n",
    "stemming / lemmetization >> Lemmatization makes use of the word's context, whereas stemming makes use of the word's stem. To our preference Lemmatization because context analysis is advised when the context is not significant, in contrast to stemming.\n",
    "\n",
    "then we got the cleaned data.\n",
    "\n",
    "Since we do not have 'label' then will go for clustering."
   ]
  },
  {
   "cell_type": "markdown",
   "metadata": {
    "id": "rrjmG-idrTvT"
   },
   "source": [
    "\n",
    "**Feature Engineering** >>\n",
    "\n",
    "BoW (Bag of words)/ CountVectorizer >> Simply counting the number of times a word appears in a document is what CountVectorizer does (using a Bag of words approach)\n",
    "\n",
    "TFIDF >> The TF-IDF Vectorizer considers a word's importance to the entire corpus in addition to how frequently it appears in a document.\n",
    "\n",
    "Word2Vec >> Word2Vec's capacity to compile word vectors into groups of comparable words gives it its name. Word2Vec can infer a word's meaning with reasonable accuracy based on its usage in the text if the dataset is large enough. Through these estimates, word associations with other words in the corpus are produced. It tries to get the word vector.\n",
    "\n",
    "\n",
    "**Model Training**\n",
    "\n",
    "We trained the model with following combination: \n",
    "\n",
    "k-Means- BoW (Bag of words)/ CountVectorizer\n",
    "\n",
    "k-Means- TFIDF\n",
    "\n",
    "k-Means- Word2Vec\n",
    "\n",
    "\n",
    "**Model Evaluation**\n",
    "\n",
    "Then we check the Silhouette score with each combination.\n",
    "\n",
    "Silhouette score\n",
    "\n",
    "Silhouette Visualization\n",
    "\n",
    "The separation distance between the generated clusters can be investigated using silhouette analysis. The silhouette plot offers a visual approach to evaluate variables like the number of clusters by displaying a measure of how close each point in one cluster is to points in the neighboring clusters.\n",
    "\n",
    "***Weakness***\n",
    "\n",
    "Here, Finding a K value is challenging task.\n",
    "\n",
    "As Here our model got converge to some solution, but it is not sure that this converge is the right solution.\n",
    "\n",
    "As there are no label data to validate our cluster like supervised learning.\n",
    "\n",
    "We cannot perform any Hyperparameter tunning like gridsearch, randomsearch.\n",
    "\n",
    "Although we have Silhouette score to check the correctness of cluster but it is not that accurate.\n",
    "\n",
    "Due to the fact that our data is multilingual, language translation operations are carried out. For some sentences, it may occasionally modify the meaning of the sentence.\n",
    "\n",
    "\n",
    "**Recommendation**:\n",
    "\n",
    "The data will be combined with the expected classes in the future. Afterward, carry out the supervised machine learning activity and determine the classes for the remaining records."
   ]
  },
  {
   "cell_type": "markdown",
   "metadata": {
    "id": "H0kDn_-ivgiv"
   },
   "source": [
    "## References: \n",
    "\n",
    "Github: https://github.com/paragj30/\n",
    "\n",
    "Dataset: https://drive.google.com/file/d/1De6OWy7U5Yb2joTX9yrra3sa67fTCZrr/view?usp=share_link\n",
    "\n",
    "Pandas user guide: https://pandas.pydata.org/docs/user_guide/index.html\n",
    "\n",
    "Matplotlib user guide: https://matplotlib.org/3.3.1/users/index.html\n",
    "\n",
    "Seaborn user guide & tutorial: https://seaborn.pydata.org/tutorial.html\n",
    "\n",
    "Yake: https://libraries.io/search?keywords=yake\n",
    "\n",
    "word2vec: https://www.tensorflow.org/tutorials/text/word2vec\n",
    "\n",
    "Data Preprocessing: https://pypi.org/project/"
   ]
  }
 ],
 "metadata": {
  "colab": {
   "provenance": []
  },
  "gpuClass": "standard",
  "kernelspec": {
   "display_name": "Python 3 (ipykernel)",
   "language": "python",
   "name": "python3"
  },
  "language_info": {
   "codemirror_mode": {
    "name": "ipython",
    "version": 3
   },
   "file_extension": ".py",
   "mimetype": "text/x-python",
   "name": "python",
   "nbconvert_exporter": "python",
   "pygments_lexer": "ipython3",
   "version": "3.8.12"
  }
 },
 "nbformat": 4,
 "nbformat_minor": 1
}
